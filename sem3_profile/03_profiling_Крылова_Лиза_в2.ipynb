{
 "cells": [
  {
   "cell_type": "markdown",
   "source": [
    "## Оптимизация выполнения кода, векторизация, Numba"
   ],
   "metadata": {}
  },
  {
   "cell_type": "markdown",
   "source": [
    "Материалы:\n",
    "* Макрушин С.В. Лекция 3: Оптимизация выполнения кода, векторизация, Numba\n",
    "* IPython Cookbook, Second Edition (2018), глава 4\n",
    "* https://numba.pydata.org/numba-doc/latest/user/5minguide.html"
   ],
   "metadata": {}
  },
  {
   "cell_type": "code",
   "execution_count": 3,
   "source": [
    "import numpy as np\r\n",
    "import pandas as pd\r\n",
    "import numba\r\n",
    "from numba import jit, njit"
   ],
   "outputs": [],
   "metadata": {}
  },
  {
   "cell_type": "markdown",
   "source": [
    "## Задачи для совместного разбора"
   ],
   "metadata": {}
  },
  {
   "cell_type": "markdown",
   "source": [
    "1. Сгенерируйте массив `A` из `N=1млн` случайных целых чисел на отрезке от 0 до 1000. Пусть `B[i] = A[i] + 100`. Посчитайте среднее значение массива `B`."
   ],
   "metadata": {}
  },
  {
   "cell_type": "code",
   "execution_count": 2,
   "source": [
    "A = np.random.randint(0, 1000, size=1000000)\r\n",
    "B = A+100\r\n",
    "B.mean()"
   ],
   "outputs": [
    {
     "output_type": "execute_result",
     "data": {
      "text/plain": [
       "599.576798"
      ]
     },
     "metadata": {},
     "execution_count": 2
    }
   ],
   "metadata": {}
  },
  {
   "cell_type": "markdown",
   "source": [
    "2. Создайте таблицу 2млн строк и с 4 столбцами, заполненными случайными числами. Добавьте столбец `key`, которые содержит элементы из множества английских букв. Выберите из таблицы подмножество строк, для которых в столбце `key` указаны первые 5 английских букв."
   ],
   "metadata": {}
  },
  {
   "cell_type": "code",
   "execution_count": 3,
   "source": [
    "df = pd.DataFrame(np.random.randint(0, 1000, size=(2000000, 4)),\r\n",
    "                  columns=['col1', 'col2', 'col3', 'col4'])\r\n",
    "letters = ['a', 'b', 'c', 'd', 'e', 'f', 'g']\r\n",
    "df['key'] = np.random.choice(letters, 2000000, replace=True)\r\n",
    "def g(df):\r\n",
    "    letters = ['a', 'b', 'c', 'd', 'e']\r\n",
    "    dfs = []\r\n",
    "    for letter in letters:\r\n",
    "        q = df[df['key']==letter]\r\n",
    "        dfs.append(q)\r\n",
    "    return pd.concat(dfs, axis=0)\r\n",
    "g(df).head()"
   ],
   "outputs": [
    {
     "output_type": "execute_result",
     "data": {
      "text/html": [
       "<div>\n",
       "<style scoped>\n",
       "    .dataframe tbody tr th:only-of-type {\n",
       "        vertical-align: middle;\n",
       "    }\n",
       "\n",
       "    .dataframe tbody tr th {\n",
       "        vertical-align: top;\n",
       "    }\n",
       "\n",
       "    .dataframe thead th {\n",
       "        text-align: right;\n",
       "    }\n",
       "</style>\n",
       "<table border=\"1\" class=\"dataframe\">\n",
       "  <thead>\n",
       "    <tr style=\"text-align: right;\">\n",
       "      <th></th>\n",
       "      <th>col1</th>\n",
       "      <th>col2</th>\n",
       "      <th>col3</th>\n",
       "      <th>col4</th>\n",
       "      <th>key</th>\n",
       "    </tr>\n",
       "  </thead>\n",
       "  <tbody>\n",
       "    <tr>\n",
       "      <th>13</th>\n",
       "      <td>509</td>\n",
       "      <td>588</td>\n",
       "      <td>933</td>\n",
       "      <td>455</td>\n",
       "      <td>a</td>\n",
       "    </tr>\n",
       "    <tr>\n",
       "      <th>19</th>\n",
       "      <td>755</td>\n",
       "      <td>773</td>\n",
       "      <td>514</td>\n",
       "      <td>345</td>\n",
       "      <td>a</td>\n",
       "    </tr>\n",
       "    <tr>\n",
       "      <th>23</th>\n",
       "      <td>92</td>\n",
       "      <td>514</td>\n",
       "      <td>52</td>\n",
       "      <td>621</td>\n",
       "      <td>a</td>\n",
       "    </tr>\n",
       "    <tr>\n",
       "      <th>31</th>\n",
       "      <td>999</td>\n",
       "      <td>196</td>\n",
       "      <td>625</td>\n",
       "      <td>752</td>\n",
       "      <td>a</td>\n",
       "    </tr>\n",
       "    <tr>\n",
       "      <th>45</th>\n",
       "      <td>458</td>\n",
       "      <td>931</td>\n",
       "      <td>142</td>\n",
       "      <td>569</td>\n",
       "      <td>a</td>\n",
       "    </tr>\n",
       "  </tbody>\n",
       "</table>\n",
       "</div>"
      ],
      "text/plain": [
       "    col1  col2  col3  col4 key\n",
       "13   509   588   933   455   a\n",
       "19   755   773   514   345   a\n",
       "23    92   514    52   621   a\n",
       "31   999   196   625   752   a\n",
       "45   458   931   142   569   a"
      ]
     },
     "metadata": {},
     "execution_count": 3
    }
   ],
   "metadata": {}
  },
  {
   "cell_type": "markdown",
   "source": [
    "## Лабораторная работа 3"
   ],
   "metadata": {}
  },
  {
   "cell_type": "code",
   "execution_count": 5,
   "source": [
    " pip install line_profiler\r\n"
   ],
   "outputs": [
    {
     "output_type": "stream",
     "name": "stdout",
     "text": [
      "Collecting line_profiler\n",
      "  Downloading line_profiler-3.3.1-cp38-cp38-win_amd64.whl (52 kB)\n",
      "Requirement already satisfied: IPython>=0.13 in c:\\programdata\\anaconda3\\lib\\site-packages (from line_profiler) (7.22.0)\n",
      "Requirement already satisfied: jedi>=0.16 in c:\\programdata\\anaconda3\\lib\\site-packages (from IPython>=0.13->line_profiler) (0.17.2)\n",
      "Requirement already satisfied: pygments in c:\\programdata\\anaconda3\\lib\\site-packages (from IPython>=0.13->line_profiler) (2.8.1)\n",
      "Requirement already satisfied: pickleshare in c:\\programdata\\anaconda3\\lib\\site-packages (from IPython>=0.13->line_profiler) (0.7.5)\n",
      "Requirement already satisfied: decorator in c:\\programdata\\anaconda3\\lib\\site-packages (from IPython>=0.13->line_profiler) (5.0.6)\n",
      "Requirement already satisfied: traitlets>=4.2 in c:\\programdata\\anaconda3\\lib\\site-packages (from IPython>=0.13->line_profiler) (5.0.5)\n",
      "Requirement already satisfied: colorama in c:\\programdata\\anaconda3\\lib\\site-packages (from IPython>=0.13->line_profiler) (0.4.4)\n",
      "Requirement already satisfied: backcall in c:\\programdata\\anaconda3\\lib\\site-packages (from IPython>=0.13->line_profiler) (0.2.0)\n",
      "Requirement already satisfied: setuptools>=18.5 in c:\\programdata\\anaconda3\\lib\\site-packages (from IPython>=0.13->line_profiler) (52.0.0.post20210125)\n",
      "Requirement already satisfied: prompt-toolkit!=3.0.0,!=3.0.1,<3.1.0,>=2.0.0 in c:\\programdata\\anaconda3\\lib\\site-packages (from IPython>=0.13->line_profiler) (3.0.17)\n",
      "Requirement already satisfied: parso<0.8.0,>=0.7.0 in c:\\programdata\\anaconda3\\lib\\site-packages (from jedi>=0.16->IPython>=0.13->line_profiler) (0.7.0)\n",
      "Requirement already satisfied: wcwidth in c:\\programdata\\anaconda3\\lib\\site-packages (from prompt-toolkit!=3.0.0,!=3.0.1,<3.1.0,>=2.0.0->IPython>=0.13->line_profiler) (0.2.5)\n",
      "Requirement already satisfied: ipython-genutils in c:\\programdata\\anaconda3\\lib\\site-packages (from traitlets>=4.2->IPython>=0.13->line_profiler) (0.2.0)\n",
      "Installing collected packages: line-profiler\n",
      "Successfully installed line-profiler-3.3.1\n",
      "Note: you may need to restart the kernel to use updated packages.\n"
     ]
    }
   ],
   "metadata": {}
  },
  {
   "cell_type": "code",
   "execution_count": 8,
   "source": [
    "pip install memory_profiler"
   ],
   "outputs": [
    {
     "output_type": "stream",
     "name": "stdout",
     "text": [
      "Collecting memory_profiler\n",
      "  Downloading memory_profiler-0.58.0.tar.gz (36 kB)\n",
      "Requirement already satisfied: psutil in c:\\programdata\\anaconda3\\lib\\site-packages (from memory_profiler) (5.8.0)\n",
      "Building wheels for collected packages: memory-profiler\n",
      "  Building wheel for memory-profiler (setup.py): started\n",
      "  Building wheel for memory-profiler (setup.py): finished with status 'done'\n",
      "  Created wheel for memory-profiler: filename=memory_profiler-0.58.0-py3-none-any.whl size=30183 sha256=96e0ea841e9f0f9cb7d9478ad9b13b6fa6fcbce1b8023595ebcb3ad5fce14461\n",
      "  Stored in directory: c:\\users\\lisa\\appdata\\local\\pip\\cache\\wheels\\6a\\37\\3e\\d9e8ebaf73956a3ebd2ee41869444dbd2a702d7142bcf93c42\n",
      "Successfully built memory-profiler\n",
      "Installing collected packages: memory-profiler\n",
      "Successfully installed memory-profiler-0.58.0\n",
      "Note: you may need to restart the kernel to use updated packages.\n"
     ]
    }
   ],
   "metadata": {}
  },
  {
   "cell_type": "code",
   "execution_count": 4,
   "source": [
    "%load_ext line_profiler"
   ],
   "outputs": [],
   "metadata": {}
  },
  {
   "cell_type": "code",
   "execution_count": 5,
   "source": [
    "%load_ext memory_profiler"
   ],
   "outputs": [],
   "metadata": {}
  },
  {
   "cell_type": "markdown",
   "source": [
    "1. В файлах `recipes_sample.csv` и `reviews_sample.csv` (__ЛР 2__) находится информация об рецептах блюд и отзывах на эти рецепты соответственно. Загрузите данные из файлов в виде `pd.DataFrame` с названиями `recipes` и `reviews`. Обратите внимание на корректное считывание столбца(ов) с индексами. Приведите столбцы к нужным типам.\n",
    "\n",
    "Реализуйте несколько вариантов функции подсчета среднего значения столбца `rating` из таблицы `reviews` для отзывов, оставленных в 2010 году.\n",
    "\n",
    "A. С использованием метода `DataFrame.iterrows` исходной таблицы;\n",
    "\n",
    "Б. С использованием метода `DataFrame.iterrows` таблицы, в которой сохранены только отзывы за 2010 год;\n",
    "\n",
    "В. С использованием метода `Series.mean`.\n",
    "\n",
    "Проверьте, что результаты работы всех написанных функций корректны и совпадают. Измерьте выполнения всех написанных функций.\n"
   ],
   "metadata": {}
  },
  {
   "cell_type": "code",
   "execution_count": 221,
   "source": [
    "recipes = pd.read_csv(\"recipes_sample.csv\", sep=\",\", parse_dates=['submitted'])\r\n",
    "reviews = pd.read_csv(\"reviews_sample.csv\", sep=\",\", parse_dates=['date'], index_col=0)\r\n",
    "reviews.reset_index(drop = True, inplace=True)"
   ],
   "outputs": [],
   "metadata": {}
  },
  {
   "cell_type": "code",
   "execution_count": 12,
   "source": [
    "def mean_A(reviews):\r\n",
    "    ratS = 0\r\n",
    "    k = 0\r\n",
    "    for i, r in reviews.iterrows():\r\n",
    "        if r.date.year == 2010:\r\n",
    "            ratS += r['rating']\r\n",
    "            k += 1\r\n",
    "    return ratS/k"
   ],
   "outputs": [],
   "metadata": {}
  },
  {
   "cell_type": "code",
   "execution_count": 13,
   "source": [
    "def mean_B(reviews):\r\n",
    "    rv = reviews[reviews.date.dt.year == 2010]\r\n",
    "    ratS = 0\r\n",
    "    for i, r in rv.iterrows():\r\n",
    "        ratS += r['rating']\r\n",
    "    return ratS/rv.shape[0]"
   ],
   "outputs": [],
   "metadata": {}
  },
  {
   "cell_type": "code",
   "execution_count": 14,
   "source": [
    "def mean_C(reviews):\r\n",
    "    return reviews[reviews.date.dt.year == 2010]['rating'].mean()"
   ],
   "outputs": [],
   "metadata": {}
  },
  {
   "cell_type": "code",
   "execution_count": 1,
   "source": [
    "%%time\r\n",
    "print(mean_A(reviews))"
   ],
   "outputs": [
    {
     "output_type": "stream",
     "name": "stderr",
     "text": [
      "` not found.\n"
     ]
    }
   ],
   "metadata": {}
  },
  {
   "cell_type": "code",
   "execution_count": 16,
   "source": [
    "%%time\r\n",
    "mean_B(reviews)"
   ],
   "outputs": [
    {
     "output_type": "stream",
     "name": "stdout",
     "text": [
      "Wall time: 583 ms\n"
     ]
    },
    {
     "output_type": "execute_result",
     "data": {
      "text/plain": [
       "4.4544402182900615"
      ]
     },
     "metadata": {},
     "execution_count": 16
    }
   ],
   "metadata": {}
  },
  {
   "cell_type": "code",
   "execution_count": 17,
   "source": [
    "%%time\r\n",
    "print(mean_C(reviews))"
   ],
   "outputs": [
    {
     "output_type": "stream",
     "name": "stdout",
     "text": [
      "4.4544402182900615\n",
      "Wall time: 10.1 ms\n"
     ]
    }
   ],
   "metadata": {}
  },
  {
   "cell_type": "markdown",
   "source": [
    "2. Какая из созданных функций выполняется медленнее? Что наиболее сильно влияет на скорость выполнения? Для ответа использовать профайлер `line_profiler`. Сохраните результаты работы профайлера в отдельную текстовую ячейку и прокомментируйте результаты его работы.\n",
    "\n",
    "(*). Сможете ли вы ускорить работу функции 1Б, отказавшись от использования метода `iterrows`, но не используя метод `mean`?"
   ],
   "metadata": {}
  },
  {
   "cell_type": "code",
   "execution_count": 18,
   "source": [
    "%lprun -f mean_A mean_A(reviews)"
   ],
   "outputs": [
    {
     "output_type": "stream",
     "name": "stdout",
     "text": [
      "Timer unit: 1e-07 s\n",
      "\n",
      "Total time: 15.679 s\n",
      "File: <ipython-input-12-fb9491a545bc>\n",
      "Function: mean_A at line 1\n",
      "\n",
      "Line #      Hits         Time  Per Hit   % Time  Line Contents\n",
      "==============================================================\n",
      "     1                                           def mean_A(reviews):\n",
      "     2         1         13.0     13.0      0.0      ratS = 0\n",
      "     3         1          5.0      5.0      0.0      k = 0\n",
      "     4    126697  138071513.0   1089.8     88.1      for i, r in reviews.iterrows():\n",
      "     5    126696   17766043.0    140.2     11.3          if r.date.year == 2010:\n",
      "     6     12094     906714.0     75.0      0.6              ratS += r['rating']\n",
      "     7     12094      45276.0      3.7      0.0              k += 1\n",
      "     8         1         10.0     10.0      0.0      return ratS/k"
     ]
    }
   ],
   "metadata": {}
  },
  {
   "cell_type": "markdown",
   "source": [
    "Timer unit: 1e-07 s\r\n",
    "\r\n",
    "Total time: 33.5067 s\r\n",
    "File: <ipython-input-131-c151a5cd4da1>\r\n",
    "Function: mean_A at line 1\r\n",
    "\r\n",
    "Line #      Hits         Time  Per Hit   % Time  Line Contents\r\n",
    "==============================================================\r\n",
    "     1                                           def mean_A(reviews):\r\n",
    "     2         1         15.0     15.0      0.0      ratS = 0\r\n",
    "     3         1          8.0      8.0      0.0      k = 0\r\n",
    "     4    126697  279562694.0   2206.5     83.4      for i, r in reviews.iterrows():\r\n",
    "     5    126696   52714967.0    416.1     15.7          if r.date.year == 2010:\r\n",
    "     6     12094    2707164.0    223.8      0.8              ratS += r['rating']\r\n",
    "     7     12094      82230.0      6.8      0.0              k += 1\r\n",
    "     8         1         12.0     12.0      0.0      return ratS/k"
   ],
   "metadata": {}
  },
  {
   "cell_type": "markdown",
   "source": [
    "Больше всего времени тратится на интерации цикла и проверку условия"
   ],
   "metadata": {}
  },
  {
   "cell_type": "code",
   "execution_count": 19,
   "source": [
    "%lprun -f mean_B mean_B(reviews)"
   ],
   "outputs": [
    {
     "output_type": "stream",
     "name": "stdout",
     "text": [
      "Timer unit: 1e-07 s\n",
      "\n",
      "Total time: 1.36769 s\n",
      "File: <ipython-input-13-521e20ed591c>\n",
      "Function: mean_B at line 1\n",
      "\n",
      "Line #      Hits         Time  Per Hit   % Time  Line Contents\n",
      "==============================================================\n",
      "     1                                           def mean_B(reviews):\n",
      "     2         1      96871.0  96871.0      0.7      rv = reviews[reviews.date.dt.year == 2010]\n",
      "     3         1         13.0     13.0      0.0      ratS = 0\n",
      "     4     12095   12609244.0   1042.5     92.2      for i, r in rv.iterrows():\n",
      "     5     12094     970657.0     80.3      7.1          ratS += r['rating']\n",
      "     6         1         65.0     65.0      0.0      return ratS/rv.shape[0]"
     ]
    }
   ],
   "metadata": {}
  },
  {
   "cell_type": "markdown",
   "source": [
    "Timer unit: 1e-07 s\r\n",
    "\r\n",
    "Total time: 2.83106 s\r\n",
    "File: <ipython-input-132-2ada19111e66>\r\n",
    "Function: mean_B at line 1\r\n",
    "\r\n",
    "Line #      Hits         Time  Per Hit   % Time  Line Contents\r\n",
    "==============================================================\r\n",
    "     1                                           def mean_B(reviews):\r\n",
    "     2         1     167908.0 167908.0      0.6      rv = reviews[reviews.date.dt.year == 2010]\r\n",
    "     3         1         13.0     13.0      0.0      ratS = 0\r\n",
    "     4     12095   24993617.0   2066.4     88.3      for i, r in rv.iterrows():\r\n",
    "     5     12094    3148955.0    260.4     11.1          ratS += r['rating']\r\n",
    "     6         1         81.0     81.0      0.0      return ratS/rv.shape[0]"
   ],
   "metadata": {}
  },
  {
   "cell_type": "markdown",
   "source": [
    "Больше всего времени тратится на интерации цикла"
   ],
   "metadata": {}
  },
  {
   "cell_type": "code",
   "execution_count": 20,
   "source": [
    "%lprun -f mean_C mean_C(reviews)"
   ],
   "outputs": [
    {
     "output_type": "stream",
     "name": "stdout",
     "text": [
      "Timer unit: 1e-07 s\n",
      "\n",
      "Total time: 0.0090285 s\n",
      "File: <ipython-input-14-5852f625aa0e>\n",
      "Function: mean_C at line 1\n",
      "\n",
      "Line #      Hits         Time  Per Hit   % Time  Line Contents\n",
      "==============================================================\n",
      "     1                                           def mean_C(reviews):\n",
      "     2         1      90285.0  90285.0    100.0      return reviews[reviews.date.dt.year == 2010]['rating'].mean()"
     ]
    }
   ],
   "metadata": {}
  },
  {
   "cell_type": "markdown",
   "source": [
    "Timer unit: 1e-07 s\r\n",
    "\r\n",
    "Total time: 0.0171297 s\r\n",
    "File: <ipython-input-133-35496f1ea080>\r\n",
    "Function: mean_C at line 1\r\n",
    "\r\n",
    "Line #      Hits         Time  Per Hit   % Time  Line Contents\r\n",
    "==============================================================\r\n",
    "     1                                           def mean_C(reviews):\r\n",
    "     2         1     171297.0 171297.0    100.0      return reviews[reviews.date.dt.year == 2010]['rating'].mean()"
   ],
   "metadata": {}
  },
  {
   "cell_type": "code",
   "execution_count": 21,
   "source": [
    "def mean_B1(reviews):\r\n",
    "    rv = reviews[reviews.date.dt.year == 2010]\r\n",
    "    return rv['rating'].sum()/rv.shape[0]"
   ],
   "outputs": [],
   "metadata": {}
  },
  {
   "cell_type": "code",
   "execution_count": 22,
   "source": [
    "mean_B1(reviews)"
   ],
   "outputs": [
    {
     "output_type": "execute_result",
     "data": {
      "text/plain": [
       "4.4544402182900615"
      ]
     },
     "metadata": {},
     "execution_count": 22
    }
   ],
   "metadata": {}
  },
  {
   "cell_type": "code",
   "execution_count": 23,
   "source": [
    "%lprun -f mean_B1 mean_B1(reviews)"
   ],
   "outputs": [
    {
     "output_type": "stream",
     "name": "stdout",
     "text": [
      "Timer unit: 1e-07 s\n",
      "\n",
      "Total time: 0.0091159 s\n",
      "File: <ipython-input-21-9d4b86c33de6>\n",
      "Function: mean_B1 at line 1\n",
      "\n",
      "Line #      Hits         Time  Per Hit   % Time  Line Contents\n",
      "==============================================================\n",
      "     1                                           def mean_B1(reviews):\n",
      "     2         1      87788.0  87788.0     96.3      rv = reviews[reviews.date.dt.year == 2010]\n",
      "     3         1       3371.0   3371.0      3.7      return rv['rating'].sum()/rv.shape[0]"
     ]
    }
   ],
   "metadata": {}
  },
  {
   "cell_type": "markdown",
   "source": [
    "Timer unit: 1e-07 s\r\n",
    "\r\n",
    "Total time: 0.0196799 s\r\n",
    "File: <ipython-input-140-4f01dfa41a1e>\r\n",
    "Function: mean_B1 at line 1\r\n",
    "\r\n",
    "Line #      Hits         Time  Per Hit   % Time  Line Contents\r\n",
    "==============================================================\r\n",
    "     1                                           def mean_B1(reviews):\r\n",
    "     2         1     184861.0 184861.0     93.9      rv = reviews[reviews.date.dt.year == 2010]\r\n",
    "     3         1      11938.0  11938.0      6.1      return rv['rating'].sum()/rv.shape[0]"
   ],
   "metadata": {}
  },
  {
   "cell_type": "markdown",
   "source": [
    "3. Вам предлагается воспользоваться функцией, которая собирает статистику о том, сколько отзывов содержат то или иное слово. Измерьте время выполнения этой функции. Сможете ли вы найти узкие места в коде, используя профайлер? Выпишите (словами), что в имеющемся коде реализовано неоптимально. Оптимизируйте функцию и добейтесь значительного (как минимум, на один порядок) прироста в скорости выполнения."
   ],
   "metadata": {}
  },
  {
   "cell_type": "code",
   "execution_count": 24,
   "source": [
    "def get_word_reviews_count(df):\r\n",
    "    word_reviews = {}\r\n",
    "    for _, row in df.dropna(subset=['review']).iterrows():\r\n",
    "        recipe_id, review = row['recipe_id'], row['review']\r\n",
    "        words = review.split(' ')\r\n",
    "        for word in words:\r\n",
    "            if word not in word_reviews:\r\n",
    "                word_reviews[word] = []\r\n",
    "            word_reviews[word].append(recipe_id)\r\n",
    "    word_reviews_count = {}\r\n",
    "    for _, row in df.dropna(subset=['review']).iterrows():\r\n",
    "        review = row['review']\r\n",
    "        words = review.split(' ')\r\n",
    "        for word in words:\r\n",
    "            word_reviews_count[word] = len(word_reviews[word])\r\n",
    "    return word_reviews_count"
   ],
   "outputs": [],
   "metadata": {}
  },
  {
   "cell_type": "code",
   "execution_count": 25,
   "source": [
    "%lprun -f get_word_reviews_count get_word_reviews_count(reviews)"
   ],
   "outputs": [
    {
     "output_type": "stream",
     "name": "stdout",
     "text": [
      "Timer unit: 1e-07 s\n",
      "\n",
      "Total time: 44.3078 s\n",
      "File: <ipython-input-24-f2b5c45f390a>\n",
      "Function: get_word_reviews_count at line 1\n",
      "\n",
      "Line #      Hits         Time  Per Hit   % Time  Line Contents\n",
      "==============================================================\n",
      "     1                                           def get_word_reviews_count(df):\n",
      "     2         1         14.0     14.0      0.0      word_reviews = {}\n",
      "     3    126680  138116700.0   1090.3     31.2      for _, row in df.dropna(subset=['review']).iterrows():\n",
      "     4    126679   18725560.0    147.8      4.2          recipe_id, review = row['recipe_id'], row['review']\n",
      "     5    126679    3952675.0     31.2      0.9          words = review.split(' ')\n",
      "     6   6918689   16899927.0      2.4      3.8          for word in words:\n",
      "     7   6792010   27352082.0      4.0      6.2              if word not in word_reviews:\n",
      "     8    174426     679991.0      3.9      0.2                  word_reviews[word] = []\n",
      "     9   6792010   27985110.0      4.1      6.3              word_reviews[word].append(recipe_id)\n",
      "    10         1         14.0     14.0      0.0      word_reviews_count = {}\n",
      "    11    126680  135581298.0   1070.3     30.6      for _, row in df.dropna(subset=['review']).iterrows():\n",
      "    12    126679   10277708.0     81.1      2.3          review = row['review']\n",
      "    13    126679    3996989.0     31.6      0.9          words = review.split(' ')\n",
      "    14   6918689   17753842.0      2.6      4.0          for word in words:\n",
      "    15   6792010   41755881.0      6.1      9.4              word_reviews_count[word] = len(word_reviews[word])\n",
      "    16         1         22.0     22.0      0.0      return word_reviews_count"
     ]
    }
   ],
   "metadata": {}
  },
  {
   "cell_type": "markdown",
   "source": [
    "Timer unit: 1e-07 s\r\n",
    "\r\n",
    "Total time: 94.8331 s\r\n",
    "File: <ipython-input-37-f2b5c45f390a>\r\n",
    "Function: get_word_reviews_count at line 1\r\n",
    "\r\n",
    "Line #      Hits         Time  Per Hit   % Time  Line Contents\r\n",
    "==============================================================\r\n",
    "     1                                           def get_word_reviews_count(df):\r\n",
    "     2         1         44.0     44.0      0.0      word_reviews = {}\r\n",
    "     3    126680  307372721.0   2426.4     32.4      for _, row in df.dropna(subset=['review']).iterrows():\r\n",
    "     4    126679   65111357.0    514.0      6.9          recipe_id, review = row['recipe_id'], row['review']\r\n",
    "     5    126679    7858419.0     62.0      0.8          words = review.split(' ')\r\n",
    "     6   6918689   30722058.0      4.4      3.2          for word in words:\r\n",
    "     7   6792010   46552338.0      6.9      4.9              if word not in word_reviews:\r\n",
    "     8    174426    1295688.0      7.4      0.1                  word_reviews[word] = []\r\n",
    "     9   6792010   50238494.0      7.4      5.3              word_reviews[word].append(recipe_id)\r\n",
    "    10         1         24.0     24.0      0.0      word_reviews_count = {}\r\n",
    "    11    126680  291349315.0   2299.9     30.7      for _, row in df.dropna(subset=['review']).iterrows():\r\n",
    "    12    126679   37424069.0    295.4      3.9          review = row['review']\r\n",
    "    13    126679    7654003.0     60.4      0.8          words = review.split(' ')\r\n",
    "    14   6918689   31503737.0      4.6      3.3          for word in words:\r\n",
    "    15   6792010   71249044.0     10.5      7.5              word_reviews_count[word] = len(word_reviews[word])\r\n",
    "    16         1         18.0     18.0      0.0      return word_reviews_count"
   ],
   "metadata": {}
  },
  {
   "cell_type": "markdown",
   "source": [
    "Во-первых, данную функцию как минимум замедляет наличие двух похожих циклов. Во-вторых, мы храним индексы, которые не нужны. В-третьих, сама функция работает не совсем корректно."
   ],
   "metadata": {}
  },
  {
   "cell_type": "code",
   "execution_count": 26,
   "source": [
    "def get_word_reviews_count2(df):\r\n",
    "    k = 0\r\n",
    "    word_reviews = dict.fromkeys(\" \".join(reviews['review'].dropna()).split(' '), 0)\r\n",
    "    for row in df['review'].dropna():\r\n",
    "        for word in set(row.split(' ')):\r\n",
    "            word_reviews[word] += 1\r\n",
    "    return word_reviews"
   ],
   "outputs": [],
   "metadata": {}
  },
  {
   "cell_type": "code",
   "execution_count": 27,
   "source": [
    "%lprun -f get_word_reviews_count2 get_word_reviews_count2(reviews)"
   ],
   "outputs": [
    {
     "output_type": "stream",
     "name": "stdout",
     "text": [
      "Timer unit: 1e-07 s\n",
      "\n",
      "Total time: 5.42143 s\n",
      "File: <ipython-input-26-d6356bc3e693>\n",
      "Function: get_word_reviews_count2 at line 1\n",
      "\n",
      "Line #      Hits         Time  Per Hit   % Time  Line Contents\n",
      "==============================================================\n",
      "     1                                           def get_word_reviews_count2(df):\n",
      "     2         1         13.0     13.0      0.0      k = 0\n",
      "     3         1    8729405.0 8729405.0     16.1      word_reviews = dict.fromkeys(\" \".join(reviews['review'].dropna()).split(' '), 0)\n",
      "     4    126680     571151.0      4.5      1.1      for row in df['review'].dropna():\n",
      "     5   5513986   20597172.0      3.7     38.0          for word in set(row.split(' ')):\n",
      "     6   5387307   24316570.0      4.5     44.9              word_reviews[word] += 1\n",
      "     7         1         18.0     18.0      0.0      return word_reviews"
     ]
    }
   ],
   "metadata": {}
  },
  {
   "cell_type": "markdown",
   "source": [
    "Timer unit: 1e-07 s\r\n",
    "\r\n",
    "Total time: 9.2698 s\r\n",
    "File: <ipython-input-45-c95051c92bb4>\r\n",
    "Function: get_word_reviews_count2 at line 1\r\n",
    "\r\n",
    "Line #      Hits         Time  Per Hit   % Time  Line Contents\r\n",
    "==============================================================\r\n",
    "     1                                           def get_word_reviews_count2(df):\r\n",
    "     2         1         21.0     21.0      0.0      k = 0\r\n",
    "     3         1   16691021.0 16691021.0     18.0      word_reviews = dict.fromkeys(\" \".join(reviews['review'].dropna()).split(' '), 0)\r\n",
    "     4    126680    1109065.0      8.8      1.2      for row in df['review'].dropna():\r\n",
    "     5                                           \r\n",
    "     6   5513986   34795738.0      6.3     37.5          for word in set(row.split(' ')):\r\n",
    "     7   5387307   40102150.0      7.4     43.3              word_reviews[word] += 1\r\n",
    "     8         1         30.0     30.0      0.0      return word_reviews"
   ],
   "metadata": {}
  },
  {
   "cell_type": "markdown",
   "source": [
    "4. Напишите несколько версий функции `MAPE` (см. [MAPE](https://en.wikipedia.org/wiki/Mean_absolute_percentage_error)) для расчета среднего абсолютного процентного отклонения значения рейтинга отзыва на рецепт от среднего значения рейтинга по всем отзывам для этого рецепта. \r\n",
    "    1. Без использования векторизованных операций и методов массивов `numpy` и без использования `numba`\r\n",
    "    2. Без использования векторизованных операций и методов массивов `numpy`, но с использованием `numba`\r\n",
    "    3. С использованием векторизованных операций и методов массивов `numpy`, но без использования `numba`\r\n",
    "    4. C использованием векторизованных операций и методов массивов `numpy` и `numba`\r\n",
    "    \r\n",
    "Измерьте время выполнения каждой из реализаций.\r\n",
    "\r\n",
    "Замечание: удалите из выборки отзывы с нулевым рейтингом.\r\n"
   ],
   "metadata": {}
  },
  {
   "cell_type": "code",
   "execution_count": 400,
   "source": [
    "rv = reviews[reviews['rating'] != 0]"
   ],
   "outputs": [],
   "metadata": {}
  },
  {
   "cell_type": "code",
   "execution_count": 401,
   "source": [
    "def mean_arr(df):\r\n",
    "    df1 = pd.merge(df, df.groupby('recipe_id')['rating'].mean(), left_on='recipe_id', right_on='recipe_id', how='left')\r\n",
    "    return np.array(df1['rating_x']), np.array(df1['rating_y'])"
   ],
   "outputs": [],
   "metadata": {}
  },
  {
   "cell_type": "code",
   "execution_count": 402,
   "source": [
    "rating, rat_mean = mean_arr(rv)"
   ],
   "outputs": [],
   "metadata": {}
  },
  {
   "cell_type": "code",
   "execution_count": 403,
   "source": [
    "def mape_1(rating, rat_mean):\r\n",
    "    s = 0\r\n",
    "    for i in range(rating.size):\r\n",
    "        s += abs((rating[i] - rat_mean[i]) /rating[i])\r\n",
    "    return 100 * s/rating.size"
   ],
   "outputs": [],
   "metadata": {}
  },
  {
   "cell_type": "code",
   "execution_count": 404,
   "source": [
    "mape_1(rating, rat_mean)"
   ],
   "outputs": [
    {
     "output_type": "execute_result",
     "data": {
      "text/plain": [
       "11.171550259058838"
      ]
     },
     "metadata": {},
     "execution_count": 404
    }
   ],
   "metadata": {}
  },
  {
   "cell_type": "code",
   "execution_count": 405,
   "source": [
    "%lprun -f mape_1 mape_1(rating, rat_mean)"
   ],
   "outputs": [
    {
     "output_type": "stream",
     "name": "stdout",
     "text": [
      "Timer unit: 1e-07 s\n",
      "\n",
      "Total time: 0.377799 s\n",
      "File: <ipython-input-403-f49b29e03961>\n",
      "Function: mape_1 at line 1\n",
      "\n",
      "Line #      Hits         Time  Per Hit   % Time  Line Contents\n",
      "==============================================================\n",
      "     1                                           def mape_1(rating, rat_mean):\n",
      "     2         1         16.0     16.0      0.0      s = 0\n",
      "     3    119892     373265.0      3.1      9.9      for i in range(rating.size):\n",
      "     4    119891    3404671.0     28.4     90.1          s += abs((rating[i] - rat_mean[i]) /rating[i])\n",
      "     5         1         37.0     37.0      0.0      return 100 * s/rating.size"
     ]
    }
   ],
   "metadata": {}
  },
  {
   "cell_type": "code",
   "execution_count": 406,
   "source": [
    "@njit\r\n",
    "def mape_2(rating, rat_mean):\r\n",
    "    s = 0\r\n",
    "    for i in range(rating.size):\r\n",
    "        s += abs((rating[i] - rat_mean[i]) /rating[i])\r\n",
    "    return 100 * s/rating.size"
   ],
   "outputs": [],
   "metadata": {}
  },
  {
   "cell_type": "code",
   "execution_count": 407,
   "source": [
    "mape_2(rating, rat_mean)"
   ],
   "outputs": [
    {
     "output_type": "execute_result",
     "data": {
      "text/plain": [
       "11.171550259058838"
      ]
     },
     "metadata": {},
     "execution_count": 407
    }
   ],
   "metadata": {}
  },
  {
   "cell_type": "code",
   "execution_count": 408,
   "source": [
    "%lprun -f mape_2 mape_2(rating, rat_mean)"
   ],
   "outputs": [
    {
     "output_type": "stream",
     "name": "stdout",
     "text": [
      "Timer unit: 1e-07 s\n",
      "\n",
      "Total time: 0 s\n",
      "File: <ipython-input-406-8191d7a16ac1>\n",
      "Function: mape_2 at line 1\n",
      "\n",
      "Line #      Hits         Time  Per Hit   % Time  Line Contents\n",
      "==============================================================\n",
      "     1                                           @njit\n",
      "     2                                           def mape_2(rating, rat_mean):\n",
      "     3                                               s = 0\n",
      "     4                                               for i in range(rating.size):\n",
      "     5                                                   s += abs((rating[i] - rat_mean[i]) /rating[i])\n",
      "     6                                               return 100 * s/rating.size"
     ]
    }
   ],
   "metadata": {}
  },
  {
   "cell_type": "code",
   "execution_count": 409,
   "source": [
    "def mape_3(rating, rat_mean):\r\n",
    "    return 100 * np.mean(np.abs((rating - rat_mean) /rating))"
   ],
   "outputs": [],
   "metadata": {}
  },
  {
   "cell_type": "code",
   "execution_count": 410,
   "source": [
    "mape_3(rating, rat_mean)"
   ],
   "outputs": [
    {
     "output_type": "execute_result",
     "data": {
      "text/plain": [
       "11.171550259058085"
      ]
     },
     "metadata": {},
     "execution_count": 410
    }
   ],
   "metadata": {}
  },
  {
   "cell_type": "code",
   "execution_count": 411,
   "source": [
    "%lprun -f mape_3 mape_3(rating, rat_mean)"
   ],
   "outputs": [
    {
     "output_type": "stream",
     "name": "stdout",
     "text": [
      "Timer unit: 1e-07 s\n",
      "\n",
      "Total time: 0.0009301 s\n",
      "File: <ipython-input-409-71b339867b9d>\n",
      "Function: mape_3 at line 1\n",
      "\n",
      "Line #      Hits         Time  Per Hit   % Time  Line Contents\n",
      "==============================================================\n",
      "     1                                           def mape_3(rating, rat_mean):\n",
      "     2         1       9301.0   9301.0    100.0      return 100 * np.mean(np.abs((rating - rat_mean) /rating))"
     ]
    }
   ],
   "metadata": {}
  },
  {
   "cell_type": "code",
   "execution_count": 412,
   "source": [
    "@njit\r\n",
    "def mape_4(rating, rat_mean):\r\n",
    "    return 100 * np.mean(np.abs((rating - rat_mean) /rating))"
   ],
   "outputs": [],
   "metadata": {}
  },
  {
   "cell_type": "code",
   "execution_count": 413,
   "source": [
    "mape_4(rating, rat_mean)"
   ],
   "outputs": [
    {
     "output_type": "execute_result",
     "data": {
      "text/plain": [
       "11.17155025905884"
      ]
     },
     "metadata": {},
     "execution_count": 413
    }
   ],
   "metadata": {}
  },
  {
   "cell_type": "code",
   "execution_count": 414,
   "source": [
    "%lprun -f mape_4 mape_4(rating, rat_mean)"
   ],
   "outputs": [
    {
     "output_type": "stream",
     "name": "stdout",
     "text": [
      "Timer unit: 1e-07 s\n",
      "\n",
      "Total time: 0 s\n",
      "File: <ipython-input-412-3920eccc31f9>\n",
      "Function: mape_4 at line 1\n",
      "\n",
      "Line #      Hits         Time  Per Hit   % Time  Line Contents\n",
      "==============================================================\n",
      "     1                                           @njit\n",
      "     2                                           def mape_4(rating, rat_mean):\n",
      "     3                                               return 100 * np.mean(np.abs((rating - rat_mean) /rating))"
     ]
    }
   ],
   "metadata": {}
  },
  {
   "cell_type": "code",
   "execution_count": 415,
   "source": [
    "#неверно трактованное условие\r\n",
    "def mape_3_(df):\r\n",
    "    mn = df.groupby('recipe_id')['rating'].mean()\r\n",
    "    mape = {}\r\n",
    "    for ind in mn.index:\r\n",
    "        revs = df[df['recipe_id'] == ind]['rating']\r\n",
    "        revs = abs((revs - mn[ind]) / revs)\r\n",
    "        mape[ind] = 100 / revs.shape[0] * revs.sum()\r\n",
    "    return pd.Series(mape)\r\n"
   ],
   "outputs": [],
   "metadata": {}
  },
  {
   "cell_type": "code",
   "execution_count": 416,
   "source": [
    "%lprun -f mape_3_ mape_3_(rv)"
   ],
   "outputs": [
    {
     "output_type": "stream",
     "name": "stdout",
     "text": [
      "Timer unit: 1e-07 s\n",
      "\n",
      "Total time: 68.9809 s\n",
      "File: <ipython-input-415-7a697fd356e8>\n",
      "Function: mape_3_ at line 2\n",
      "\n",
      "Line #      Hits         Time  Per Hit   % Time  Line Contents\n",
      "==============================================================\n",
      "     2                                           def mape_3_(df):\n",
      "     3         1      97799.0  97799.0      0.0      mn = df.groupby('recipe_id')['rating'].mean()\n",
      "     4         1         14.0     14.0      0.0      mape = {}\n",
      "     5     27441     461737.0     16.8      0.1      for ind in mn.index:\n",
      "     6     27440  457289303.0  16665.1     66.3          revs = df[df['recipe_id'] == ind]['rating']\n",
      "     7     27440  192231039.0   7005.5     27.9          revs = abs((revs - mn[ind]) / revs)\n",
      "     8     27440   39676876.0   1446.0      5.8          mape[ind] = 100 / revs.shape[0] * revs.sum()\n",
      "     9         1      52530.0  52530.0      0.0      return pd.Series(mape)"
     ]
    }
   ],
   "metadata": {}
  }
 ],
 "metadata": {
  "interpreter": {
   "hash": "b3ba2566441a7c06988d0923437866b63cedc61552a5af99d1f4fb67d367b25f"
  },
  "kernelspec": {
   "name": "python3",
   "display_name": "Python 3.7.3 64-bit ('base': conda)"
  },
  "language_info": {
   "codemirror_mode": {
    "name": "ipython",
    "version": 3
   },
   "file_extension": ".py",
   "mimetype": "text/x-python",
   "name": "python",
   "nbconvert_exporter": "python",
   "pygments_lexer": "ipython3",
   "version": "3.7.3"
  }
 },
 "nbformat": 4,
 "nbformat_minor": 4
}