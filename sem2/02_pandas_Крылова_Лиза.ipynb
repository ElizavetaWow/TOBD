{
 "cells": [
  {
   "cell_type": "markdown",
   "source": [
    "# Pandas"
   ],
   "metadata": {}
  },
  {
   "cell_type": "markdown",
   "source": [
    "Материалы:\n",
    "* Макрушин С.В. \"Лекция 2: Библиотека Pandas\"\n",
    "* https://pandas.pydata.org/docs/user_guide/index.html#\n",
    "* https://pandas.pydata.org/docs/reference/index.html\n",
    "* Уэс Маккини. Python и анализ данных"
   ],
   "metadata": {}
  },
  {
   "cell_type": "code",
   "execution_count": 2,
   "source": [
    "import numpy as np\r\n",
    "import pandas as pd"
   ],
   "outputs": [],
   "metadata": {}
  },
  {
   "cell_type": "markdown",
   "source": [
    "## Задачи для совместного разбора"
   ],
   "metadata": {}
  },
  {
   "cell_type": "markdown",
   "source": [
    "1. Загрузите данные из файла `sp500hst.txt` и обозначьте столбцы в соответствии с содержимым: `\"date\", \"ticker\", \"open\", \"high\", \"low\", \"close\", \"volume\"`."
   ],
   "metadata": {}
  },
  {
   "cell_type": "code",
   "execution_count": 3,
   "source": [
    "df = pd.read_csv(\"sp500hst.txt\", sep=\",\", header=None, \r\n",
    "                 names=[\"date\", \"ticker\", \"open\", \"high\", \"low\", \"close\", \"volume\"])\r\n",
    "df"
   ],
   "outputs": [
    {
     "output_type": "execute_result",
     "data": {
      "text/html": [
       "<div>\n",
       "<style scoped>\n",
       "    .dataframe tbody tr th:only-of-type {\n",
       "        vertical-align: middle;\n",
       "    }\n",
       "\n",
       "    .dataframe tbody tr th {\n",
       "        vertical-align: top;\n",
       "    }\n",
       "\n",
       "    .dataframe thead th {\n",
       "        text-align: right;\n",
       "    }\n",
       "</style>\n",
       "<table border=\"1\" class=\"dataframe\">\n",
       "  <thead>\n",
       "    <tr style=\"text-align: right;\">\n",
       "      <th></th>\n",
       "      <th>date</th>\n",
       "      <th>ticker</th>\n",
       "      <th>open</th>\n",
       "      <th>high</th>\n",
       "      <th>low</th>\n",
       "      <th>close</th>\n",
       "      <th>volume</th>\n",
       "    </tr>\n",
       "  </thead>\n",
       "  <tbody>\n",
       "    <tr>\n",
       "      <th>0</th>\n",
       "      <td>20090821</td>\n",
       "      <td>A</td>\n",
       "      <td>25.60</td>\n",
       "      <td>25.6100</td>\n",
       "      <td>25.220</td>\n",
       "      <td>25.55</td>\n",
       "      <td>34758</td>\n",
       "    </tr>\n",
       "    <tr>\n",
       "      <th>1</th>\n",
       "      <td>20090824</td>\n",
       "      <td>A</td>\n",
       "      <td>25.64</td>\n",
       "      <td>25.7400</td>\n",
       "      <td>25.330</td>\n",
       "      <td>25.50</td>\n",
       "      <td>22247</td>\n",
       "    </tr>\n",
       "    <tr>\n",
       "      <th>2</th>\n",
       "      <td>20090825</td>\n",
       "      <td>A</td>\n",
       "      <td>25.50</td>\n",
       "      <td>25.7000</td>\n",
       "      <td>25.225</td>\n",
       "      <td>25.34</td>\n",
       "      <td>30891</td>\n",
       "    </tr>\n",
       "    <tr>\n",
       "      <th>3</th>\n",
       "      <td>20090826</td>\n",
       "      <td>A</td>\n",
       "      <td>25.32</td>\n",
       "      <td>25.6425</td>\n",
       "      <td>25.145</td>\n",
       "      <td>25.48</td>\n",
       "      <td>33334</td>\n",
       "    </tr>\n",
       "    <tr>\n",
       "      <th>4</th>\n",
       "      <td>20090827</td>\n",
       "      <td>A</td>\n",
       "      <td>25.50</td>\n",
       "      <td>25.5700</td>\n",
       "      <td>25.230</td>\n",
       "      <td>25.54</td>\n",
       "      <td>70176</td>\n",
       "    </tr>\n",
       "    <tr>\n",
       "      <th>...</th>\n",
       "      <td>...</td>\n",
       "      <td>...</td>\n",
       "      <td>...</td>\n",
       "      <td>...</td>\n",
       "      <td>...</td>\n",
       "      <td>...</td>\n",
       "      <td>...</td>\n",
       "    </tr>\n",
       "    <tr>\n",
       "      <th>122569</th>\n",
       "      <td>20100813</td>\n",
       "      <td>ZMH</td>\n",
       "      <td>51.72</td>\n",
       "      <td>51.9000</td>\n",
       "      <td>51.380</td>\n",
       "      <td>51.44</td>\n",
       "      <td>14561</td>\n",
       "    </tr>\n",
       "    <tr>\n",
       "      <th>122570</th>\n",
       "      <td>20100816</td>\n",
       "      <td>ZMH</td>\n",
       "      <td>51.13</td>\n",
       "      <td>51.4700</td>\n",
       "      <td>50.600</td>\n",
       "      <td>51.00</td>\n",
       "      <td>13489</td>\n",
       "    </tr>\n",
       "    <tr>\n",
       "      <th>122571</th>\n",
       "      <td>20100817</td>\n",
       "      <td>ZMH</td>\n",
       "      <td>51.14</td>\n",
       "      <td>51.6000</td>\n",
       "      <td>50.890</td>\n",
       "      <td>51.21</td>\n",
       "      <td>20498</td>\n",
       "    </tr>\n",
       "    <tr>\n",
       "      <th>122572</th>\n",
       "      <td>20100819</td>\n",
       "      <td>ZMH</td>\n",
       "      <td>51.63</td>\n",
       "      <td>51.6300</td>\n",
       "      <td>50.170</td>\n",
       "      <td>50.22</td>\n",
       "      <td>18259</td>\n",
       "    </tr>\n",
       "    <tr>\n",
       "      <th>122573</th>\n",
       "      <td>20100820</td>\n",
       "      <td>ZMH</td>\n",
       "      <td>50.03</td>\n",
       "      <td>50.5500</td>\n",
       "      <td>49.480</td>\n",
       "      <td>49.82</td>\n",
       "      <td>17792</td>\n",
       "    </tr>\n",
       "  </tbody>\n",
       "</table>\n",
       "<p>122574 rows × 7 columns</p>\n",
       "</div>"
      ],
      "text/plain": [
       "            date ticker   open     high     low  close  volume\n",
       "0       20090821      A  25.60  25.6100  25.220  25.55   34758\n",
       "1       20090824      A  25.64  25.7400  25.330  25.50   22247\n",
       "2       20090825      A  25.50  25.7000  25.225  25.34   30891\n",
       "3       20090826      A  25.32  25.6425  25.145  25.48   33334\n",
       "4       20090827      A  25.50  25.5700  25.230  25.54   70176\n",
       "...          ...    ...    ...      ...     ...    ...     ...\n",
       "122569  20100813    ZMH  51.72  51.9000  51.380  51.44   14561\n",
       "122570  20100816    ZMH  51.13  51.4700  50.600  51.00   13489\n",
       "122571  20100817    ZMH  51.14  51.6000  50.890  51.21   20498\n",
       "122572  20100819    ZMH  51.63  51.6300  50.170  50.22   18259\n",
       "122573  20100820    ZMH  50.03  50.5500  49.480  49.82   17792\n",
       "\n",
       "[122574 rows x 7 columns]"
      ]
     },
     "metadata": {},
     "execution_count": 3
    }
   ],
   "metadata": {}
  },
  {
   "cell_type": "markdown",
   "source": [
    "2. Рассчитайте среднее значение показателей для каждого из столбцов c номерами 3-6."
   ],
   "metadata": {}
  },
  {
   "cell_type": "code",
   "execution_count": 4,
   "source": [
    "df[df.columns[3:7]].mean()"
   ],
   "outputs": [
    {
     "output_type": "execute_result",
     "data": {
      "text/plain": [
       "high         43.102243\n",
       "low          42.054464\n",
       "close        42.601865\n",
       "volume    81395.068138\n",
       "dtype: float64"
      ]
     },
     "metadata": {},
     "execution_count": 4
    }
   ],
   "metadata": {}
  },
  {
   "cell_type": "markdown",
   "source": [
    "3. Добавьте столбец, содержащий только число месяца, к которому относится дата."
   ],
   "metadata": {}
  },
  {
   "cell_type": "code",
   "execution_count": 5,
   "source": [
    "df[\"month\"] = pd.to_datetime(df['date'], format=\"%Y%m%d\").dt.month"
   ],
   "outputs": [],
   "metadata": {}
  },
  {
   "cell_type": "code",
   "execution_count": 31,
   "source": [
    "df.head()"
   ],
   "outputs": [
    {
     "output_type": "execute_result",
     "data": {
      "text/html": [
       "<div>\n",
       "<style scoped>\n",
       "    .dataframe tbody tr th:only-of-type {\n",
       "        vertical-align: middle;\n",
       "    }\n",
       "\n",
       "    .dataframe tbody tr th {\n",
       "        vertical-align: top;\n",
       "    }\n",
       "\n",
       "    .dataframe thead th {\n",
       "        text-align: right;\n",
       "    }\n",
       "</style>\n",
       "<table border=\"1\" class=\"dataframe\">\n",
       "  <thead>\n",
       "    <tr style=\"text-align: right;\">\n",
       "      <th></th>\n",
       "      <th>date</th>\n",
       "      <th>ticker</th>\n",
       "      <th>open</th>\n",
       "      <th>high</th>\n",
       "      <th>low</th>\n",
       "      <th>close</th>\n",
       "      <th>volume</th>\n",
       "      <th>month</th>\n",
       "    </tr>\n",
       "  </thead>\n",
       "  <tbody>\n",
       "    <tr>\n",
       "      <th>0</th>\n",
       "      <td>20090821</td>\n",
       "      <td>A</td>\n",
       "      <td>25.60</td>\n",
       "      <td>25.6100</td>\n",
       "      <td>25.220</td>\n",
       "      <td>25.55</td>\n",
       "      <td>34758</td>\n",
       "      <td>8</td>\n",
       "    </tr>\n",
       "    <tr>\n",
       "      <th>1</th>\n",
       "      <td>20090824</td>\n",
       "      <td>A</td>\n",
       "      <td>25.64</td>\n",
       "      <td>25.7400</td>\n",
       "      <td>25.330</td>\n",
       "      <td>25.50</td>\n",
       "      <td>22247</td>\n",
       "      <td>8</td>\n",
       "    </tr>\n",
       "    <tr>\n",
       "      <th>2</th>\n",
       "      <td>20090825</td>\n",
       "      <td>A</td>\n",
       "      <td>25.50</td>\n",
       "      <td>25.7000</td>\n",
       "      <td>25.225</td>\n",
       "      <td>25.34</td>\n",
       "      <td>30891</td>\n",
       "      <td>8</td>\n",
       "    </tr>\n",
       "    <tr>\n",
       "      <th>3</th>\n",
       "      <td>20090826</td>\n",
       "      <td>A</td>\n",
       "      <td>25.32</td>\n",
       "      <td>25.6425</td>\n",
       "      <td>25.145</td>\n",
       "      <td>25.48</td>\n",
       "      <td>33334</td>\n",
       "      <td>8</td>\n",
       "    </tr>\n",
       "    <tr>\n",
       "      <th>4</th>\n",
       "      <td>20090827</td>\n",
       "      <td>A</td>\n",
       "      <td>25.50</td>\n",
       "      <td>25.5700</td>\n",
       "      <td>25.230</td>\n",
       "      <td>25.54</td>\n",
       "      <td>70176</td>\n",
       "      <td>8</td>\n",
       "    </tr>\n",
       "  </tbody>\n",
       "</table>\n",
       "</div>"
      ],
      "text/plain": [
       "       date ticker   open     high     low  close  volume  month\n",
       "0  20090821      A  25.60  25.6100  25.220  25.55   34758      8\n",
       "1  20090824      A  25.64  25.7400  25.330  25.50   22247      8\n",
       "2  20090825      A  25.50  25.7000  25.225  25.34   30891      8\n",
       "3  20090826      A  25.32  25.6425  25.145  25.48   33334      8\n",
       "4  20090827      A  25.50  25.5700  25.230  25.54   70176      8"
      ]
     },
     "metadata": {},
     "execution_count": 31
    }
   ],
   "metadata": {}
  },
  {
   "cell_type": "code",
   "execution_count": 20,
   "source": [
    "df[\"ticker\"].str.lower().head()"
   ],
   "outputs": [
    {
     "output_type": "execute_result",
     "data": {
      "text/plain": [
       "0    a\n",
       "1    a\n",
       "2    a\n",
       "3    a\n",
       "4    a\n",
       "Name: ticker, dtype: object"
      ]
     },
     "metadata": {},
     "execution_count": 20
    }
   ],
   "metadata": {}
  },
  {
   "cell_type": "markdown",
   "source": [
    "4. Рассчитайте суммарный объем торгов для для одинаковых значений тикеров."
   ],
   "metadata": {}
  },
  {
   "cell_type": "code",
   "execution_count": 24,
   "source": [
    "df.groupby('ticker')['volume'].sum()"
   ],
   "outputs": [
    {
     "output_type": "execute_result",
     "data": {
      "text/plain": [
       "ticker\n",
       "A        8609336\n",
       "AA      81898998\n",
       "AAPL    52261170\n",
       "ABC      9006756\n",
       "ABT     18975870\n",
       "          ...   \n",
       "XTO     21297931\n",
       "YHOO    56837171\n",
       "YUM     10971538\n",
       "ZION    15551119\n",
       "ZMH      4938916\n",
       "Name: volume, Length: 524, dtype: int64"
      ]
     },
     "metadata": {},
     "execution_count": 24
    }
   ],
   "metadata": {}
  },
  {
   "cell_type": "markdown",
   "source": [
    "5. Загрузите данные из файла sp500hst.txt и обозначьте столбцы в соответствии с содержимым: \"date\", \"ticker\", \"open\", \"high\", \"low\", \"close\", \"volume\". Добавьте столбец с расшифровкой названия тикера, используя данные из файла `sp_data2.csv` . В случае нехватки данных об именах тикеров корректно обработать их."
   ],
   "metadata": {}
  },
  {
   "cell_type": "code",
   "execution_count": 72,
   "source": [
    "dff = pd.read_csv(\"sp_data2.csv\", sep=\";\", header=None, names=[\"ticker\", \"name\", \"prs\"], usecols=[0,1])\r\n",
    "dff.head()"
   ],
   "outputs": [
    {
     "output_type": "execute_result",
     "data": {
      "text/html": [
       "<div>\n",
       "<style scoped>\n",
       "    .dataframe tbody tr th:only-of-type {\n",
       "        vertical-align: middle;\n",
       "    }\n",
       "\n",
       "    .dataframe tbody tr th {\n",
       "        vertical-align: top;\n",
       "    }\n",
       "\n",
       "    .dataframe thead th {\n",
       "        text-align: right;\n",
       "    }\n",
       "</style>\n",
       "<table border=\"1\" class=\"dataframe\">\n",
       "  <thead>\n",
       "    <tr style=\"text-align: right;\">\n",
       "      <th></th>\n",
       "      <th>ticker</th>\n",
       "      <th>name</th>\n",
       "    </tr>\n",
       "  </thead>\n",
       "  <tbody>\n",
       "    <tr>\n",
       "      <th>0</th>\n",
       "      <td>AAPL</td>\n",
       "      <td>Apple</td>\n",
       "    </tr>\n",
       "    <tr>\n",
       "      <th>1</th>\n",
       "      <td>AMZN</td>\n",
       "      <td>Amazon.com</td>\n",
       "    </tr>\n",
       "    <tr>\n",
       "      <th>2</th>\n",
       "      <td>GOOGL</td>\n",
       "      <td>Alphabet</td>\n",
       "    </tr>\n",
       "    <tr>\n",
       "      <th>3</th>\n",
       "      <td>GOOG</td>\n",
       "      <td>Alphabet</td>\n",
       "    </tr>\n",
       "    <tr>\n",
       "      <th>4</th>\n",
       "      <td>MSFT</td>\n",
       "      <td>Microsoft</td>\n",
       "    </tr>\n",
       "  </tbody>\n",
       "</table>\n",
       "</div>"
      ],
      "text/plain": [
       "  ticker        name\n",
       "0   AAPL       Apple\n",
       "1   AMZN  Amazon.com\n",
       "2  GOOGL    Alphabet\n",
       "3   GOOG    Alphabet\n",
       "4   MSFT   Microsoft"
      ]
     },
     "metadata": {},
     "execution_count": 72
    }
   ],
   "metadata": {}
  },
  {
   "cell_type": "code",
   "execution_count": 73,
   "source": [
    "pd.merge(df, dff, left_on='ticker', right_on='ticker').head()"
   ],
   "outputs": [
    {
     "output_type": "execute_result",
     "data": {
      "text/html": [
       "<div>\n",
       "<style scoped>\n",
       "    .dataframe tbody tr th:only-of-type {\n",
       "        vertical-align: middle;\n",
       "    }\n",
       "\n",
       "    .dataframe tbody tr th {\n",
       "        vertical-align: top;\n",
       "    }\n",
       "\n",
       "    .dataframe thead th {\n",
       "        text-align: right;\n",
       "    }\n",
       "</style>\n",
       "<table border=\"1\" class=\"dataframe\">\n",
       "  <thead>\n",
       "    <tr style=\"text-align: right;\">\n",
       "      <th></th>\n",
       "      <th>date</th>\n",
       "      <th>ticker</th>\n",
       "      <th>open</th>\n",
       "      <th>high</th>\n",
       "      <th>low</th>\n",
       "      <th>close</th>\n",
       "      <th>volume</th>\n",
       "      <th>month</th>\n",
       "      <th>name</th>\n",
       "    </tr>\n",
       "  </thead>\n",
       "  <tbody>\n",
       "    <tr>\n",
       "      <th>0</th>\n",
       "      <td>20090821</td>\n",
       "      <td>A</td>\n",
       "      <td>25.60</td>\n",
       "      <td>25.6100</td>\n",
       "      <td>25.220</td>\n",
       "      <td>25.55</td>\n",
       "      <td>34758</td>\n",
       "      <td>8</td>\n",
       "      <td>Agilent Technologies</td>\n",
       "    </tr>\n",
       "    <tr>\n",
       "      <th>1</th>\n",
       "      <td>20090824</td>\n",
       "      <td>A</td>\n",
       "      <td>25.64</td>\n",
       "      <td>25.7400</td>\n",
       "      <td>25.330</td>\n",
       "      <td>25.50</td>\n",
       "      <td>22247</td>\n",
       "      <td>8</td>\n",
       "      <td>Agilent Technologies</td>\n",
       "    </tr>\n",
       "    <tr>\n",
       "      <th>2</th>\n",
       "      <td>20090825</td>\n",
       "      <td>A</td>\n",
       "      <td>25.50</td>\n",
       "      <td>25.7000</td>\n",
       "      <td>25.225</td>\n",
       "      <td>25.34</td>\n",
       "      <td>30891</td>\n",
       "      <td>8</td>\n",
       "      <td>Agilent Technologies</td>\n",
       "    </tr>\n",
       "    <tr>\n",
       "      <th>3</th>\n",
       "      <td>20090826</td>\n",
       "      <td>A</td>\n",
       "      <td>25.32</td>\n",
       "      <td>25.6425</td>\n",
       "      <td>25.145</td>\n",
       "      <td>25.48</td>\n",
       "      <td>33334</td>\n",
       "      <td>8</td>\n",
       "      <td>Agilent Technologies</td>\n",
       "    </tr>\n",
       "    <tr>\n",
       "      <th>4</th>\n",
       "      <td>20090827</td>\n",
       "      <td>A</td>\n",
       "      <td>25.50</td>\n",
       "      <td>25.5700</td>\n",
       "      <td>25.230</td>\n",
       "      <td>25.54</td>\n",
       "      <td>70176</td>\n",
       "      <td>8</td>\n",
       "      <td>Agilent Technologies</td>\n",
       "    </tr>\n",
       "  </tbody>\n",
       "</table>\n",
       "</div>"
      ],
      "text/plain": [
       "       date ticker   open     high     low  close  volume  month  \\\n",
       "0  20090821      A  25.60  25.6100  25.220  25.55   34758      8   \n",
       "1  20090824      A  25.64  25.7400  25.330  25.50   22247      8   \n",
       "2  20090825      A  25.50  25.7000  25.225  25.34   30891      8   \n",
       "3  20090826      A  25.32  25.6425  25.145  25.48   33334      8   \n",
       "4  20090827      A  25.50  25.5700  25.230  25.54   70176      8   \n",
       "\n",
       "                   name  \n",
       "0  Agilent Technologies  \n",
       "1  Agilent Technologies  \n",
       "2  Agilent Technologies  \n",
       "3  Agilent Technologies  \n",
       "4  Agilent Technologies  "
      ]
     },
     "metadata": {},
     "execution_count": 73
    }
   ],
   "metadata": {}
  },
  {
   "cell_type": "code",
   "execution_count": 74,
   "source": [
    "pd.merge(df, dff, left_on='ticker', right_on='ticker', how='left').head()"
   ],
   "outputs": [
    {
     "output_type": "execute_result",
     "data": {
      "text/html": [
       "<div>\n",
       "<style scoped>\n",
       "    .dataframe tbody tr th:only-of-type {\n",
       "        vertical-align: middle;\n",
       "    }\n",
       "\n",
       "    .dataframe tbody tr th {\n",
       "        vertical-align: top;\n",
       "    }\n",
       "\n",
       "    .dataframe thead th {\n",
       "        text-align: right;\n",
       "    }\n",
       "</style>\n",
       "<table border=\"1\" class=\"dataframe\">\n",
       "  <thead>\n",
       "    <tr style=\"text-align: right;\">\n",
       "      <th></th>\n",
       "      <th>date</th>\n",
       "      <th>ticker</th>\n",
       "      <th>open</th>\n",
       "      <th>high</th>\n",
       "      <th>low</th>\n",
       "      <th>close</th>\n",
       "      <th>volume</th>\n",
       "      <th>month</th>\n",
       "      <th>name</th>\n",
       "    </tr>\n",
       "  </thead>\n",
       "  <tbody>\n",
       "    <tr>\n",
       "      <th>0</th>\n",
       "      <td>20090821</td>\n",
       "      <td>A</td>\n",
       "      <td>25.60</td>\n",
       "      <td>25.6100</td>\n",
       "      <td>25.220</td>\n",
       "      <td>25.55</td>\n",
       "      <td>34758</td>\n",
       "      <td>8</td>\n",
       "      <td>Agilent Technologies</td>\n",
       "    </tr>\n",
       "    <tr>\n",
       "      <th>1</th>\n",
       "      <td>20090824</td>\n",
       "      <td>A</td>\n",
       "      <td>25.64</td>\n",
       "      <td>25.7400</td>\n",
       "      <td>25.330</td>\n",
       "      <td>25.50</td>\n",
       "      <td>22247</td>\n",
       "      <td>8</td>\n",
       "      <td>Agilent Technologies</td>\n",
       "    </tr>\n",
       "    <tr>\n",
       "      <th>2</th>\n",
       "      <td>20090825</td>\n",
       "      <td>A</td>\n",
       "      <td>25.50</td>\n",
       "      <td>25.7000</td>\n",
       "      <td>25.225</td>\n",
       "      <td>25.34</td>\n",
       "      <td>30891</td>\n",
       "      <td>8</td>\n",
       "      <td>Agilent Technologies</td>\n",
       "    </tr>\n",
       "    <tr>\n",
       "      <th>3</th>\n",
       "      <td>20090826</td>\n",
       "      <td>A</td>\n",
       "      <td>25.32</td>\n",
       "      <td>25.6425</td>\n",
       "      <td>25.145</td>\n",
       "      <td>25.48</td>\n",
       "      <td>33334</td>\n",
       "      <td>8</td>\n",
       "      <td>Agilent Technologies</td>\n",
       "    </tr>\n",
       "    <tr>\n",
       "      <th>4</th>\n",
       "      <td>20090827</td>\n",
       "      <td>A</td>\n",
       "      <td>25.50</td>\n",
       "      <td>25.5700</td>\n",
       "      <td>25.230</td>\n",
       "      <td>25.54</td>\n",
       "      <td>70176</td>\n",
       "      <td>8</td>\n",
       "      <td>Agilent Technologies</td>\n",
       "    </tr>\n",
       "  </tbody>\n",
       "</table>\n",
       "</div>"
      ],
      "text/plain": [
       "       date ticker   open     high     low  close  volume  month  \\\n",
       "0  20090821      A  25.60  25.6100  25.220  25.55   34758      8   \n",
       "1  20090824      A  25.64  25.7400  25.330  25.50   22247      8   \n",
       "2  20090825      A  25.50  25.7000  25.225  25.34   30891      8   \n",
       "3  20090826      A  25.32  25.6425  25.145  25.48   33334      8   \n",
       "4  20090827      A  25.50  25.5700  25.230  25.54   70176      8   \n",
       "\n",
       "                   name  \n",
       "0  Agilent Technologies  \n",
       "1  Agilent Technologies  \n",
       "2  Agilent Technologies  \n",
       "3  Agilent Technologies  \n",
       "4  Agilent Technologies  "
      ]
     },
     "metadata": {},
     "execution_count": 74
    }
   ],
   "metadata": {}
  },
  {
   "cell_type": "markdown",
   "source": [
    "## Лабораторная работа №2"
   ],
   "metadata": {}
  },
  {
   "cell_type": "markdown",
   "source": [
    "### Базовые операции с `DataFrame`"
   ],
   "metadata": {}
  },
  {
   "cell_type": "markdown",
   "source": [
    "1.1 В файлах `recipes_sample.csv` и `reviews_sample.csv` находится информация об рецептах блюд и отзывах на эти рецепты соответственно. Загрузите данные из файлов в виде `pd.DataFrame` с названиями `recipes` и `reviews`. Обратите внимание на корректное считывание столбца(ов) с индексами."
   ],
   "metadata": {}
  },
  {
   "cell_type": "code",
   "execution_count": 30,
   "source": [
    "recipes = pd.read_csv(\"recipes_sample.csv\", sep=\",\")\r\n",
    "recipes.head()"
   ],
   "outputs": [
    {
     "output_type": "execute_result",
     "data": {
      "text/html": [
       "<div>\n",
       "<style scoped>\n",
       "    .dataframe tbody tr th:only-of-type {\n",
       "        vertical-align: middle;\n",
       "    }\n",
       "\n",
       "    .dataframe tbody tr th {\n",
       "        vertical-align: top;\n",
       "    }\n",
       "\n",
       "    .dataframe thead th {\n",
       "        text-align: right;\n",
       "    }\n",
       "</style>\n",
       "<table border=\"1\" class=\"dataframe\">\n",
       "  <thead>\n",
       "    <tr style=\"text-align: right;\">\n",
       "      <th></th>\n",
       "      <th>name</th>\n",
       "      <th>id</th>\n",
       "      <th>minutes</th>\n",
       "      <th>contributor_id</th>\n",
       "      <th>submitted</th>\n",
       "      <th>n_steps</th>\n",
       "      <th>description</th>\n",
       "      <th>n_ingredients</th>\n",
       "    </tr>\n",
       "  </thead>\n",
       "  <tbody>\n",
       "    <tr>\n",
       "      <th>0</th>\n",
       "      <td>george s at the cove  black bean soup</td>\n",
       "      <td>44123</td>\n",
       "      <td>90</td>\n",
       "      <td>35193</td>\n",
       "      <td>2002-10-25</td>\n",
       "      <td>NaN</td>\n",
       "      <td>an original recipe created by chef scott meska...</td>\n",
       "      <td>18.0</td>\n",
       "    </tr>\n",
       "    <tr>\n",
       "      <th>1</th>\n",
       "      <td>healthy for them  yogurt popsicles</td>\n",
       "      <td>67664</td>\n",
       "      <td>10</td>\n",
       "      <td>91970</td>\n",
       "      <td>2003-07-26</td>\n",
       "      <td>NaN</td>\n",
       "      <td>my children and their friends ask for my homem...</td>\n",
       "      <td>NaN</td>\n",
       "    </tr>\n",
       "    <tr>\n",
       "      <th>2</th>\n",
       "      <td>i can t believe it s spinach</td>\n",
       "      <td>38798</td>\n",
       "      <td>30</td>\n",
       "      <td>1533</td>\n",
       "      <td>2002-08-29</td>\n",
       "      <td>NaN</td>\n",
       "      <td>these were so go, it surprised even me.</td>\n",
       "      <td>8.0</td>\n",
       "    </tr>\n",
       "    <tr>\n",
       "      <th>3</th>\n",
       "      <td>italian  gut busters</td>\n",
       "      <td>35173</td>\n",
       "      <td>45</td>\n",
       "      <td>22724</td>\n",
       "      <td>2002-07-27</td>\n",
       "      <td>NaN</td>\n",
       "      <td>my sister-in-law made these for us at a family...</td>\n",
       "      <td>NaN</td>\n",
       "    </tr>\n",
       "    <tr>\n",
       "      <th>4</th>\n",
       "      <td>love is in the air  beef fondue   sauces</td>\n",
       "      <td>84797</td>\n",
       "      <td>25</td>\n",
       "      <td>4470</td>\n",
       "      <td>2004-02-23</td>\n",
       "      <td>4.0</td>\n",
       "      <td>i think a fondue is a very romantic casual din...</td>\n",
       "      <td>NaN</td>\n",
       "    </tr>\n",
       "  </tbody>\n",
       "</table>\n",
       "</div>"
      ],
      "text/plain": [
       "                                       name     id  minutes  contributor_id  \\\n",
       "0     george s at the cove  black bean soup  44123       90           35193   \n",
       "1        healthy for them  yogurt popsicles  67664       10           91970   \n",
       "2              i can t believe it s spinach  38798       30            1533   \n",
       "3                      italian  gut busters  35173       45           22724   \n",
       "4  love is in the air  beef fondue   sauces  84797       25            4470   \n",
       "\n",
       "    submitted  n_steps                                        description  \\\n",
       "0  2002-10-25      NaN  an original recipe created by chef scott meska...   \n",
       "1  2003-07-26      NaN  my children and their friends ask for my homem...   \n",
       "2  2002-08-29      NaN            these were so go, it surprised even me.   \n",
       "3  2002-07-27      NaN  my sister-in-law made these for us at a family...   \n",
       "4  2004-02-23      4.0  i think a fondue is a very romantic casual din...   \n",
       "\n",
       "   n_ingredients  \n",
       "0           18.0  \n",
       "1            NaN  \n",
       "2            8.0  \n",
       "3            NaN  \n",
       "4            NaN  "
      ]
     },
     "metadata": {},
     "execution_count": 30
    }
   ],
   "metadata": {}
  },
  {
   "cell_type": "code",
   "execution_count": 39,
   "source": [
    "reviews = pd.read_csv(\"reviews_sample.csv\", sep=\",\")\r\n",
    "reviews.rename(columns={'Unnamed: 0': 'id'}, inplace=True)\r\n",
    "reviews.head()"
   ],
   "outputs": [
    {
     "output_type": "execute_result",
     "data": {
      "text/html": [
       "<div>\n",
       "<style scoped>\n",
       "    .dataframe tbody tr th:only-of-type {\n",
       "        vertical-align: middle;\n",
       "    }\n",
       "\n",
       "    .dataframe tbody tr th {\n",
       "        vertical-align: top;\n",
       "    }\n",
       "\n",
       "    .dataframe thead th {\n",
       "        text-align: right;\n",
       "    }\n",
       "</style>\n",
       "<table border=\"1\" class=\"dataframe\">\n",
       "  <thead>\n",
       "    <tr style=\"text-align: right;\">\n",
       "      <th></th>\n",
       "      <th>id</th>\n",
       "      <th>user_id</th>\n",
       "      <th>recipe_id</th>\n",
       "      <th>date</th>\n",
       "      <th>rating</th>\n",
       "      <th>review</th>\n",
       "    </tr>\n",
       "  </thead>\n",
       "  <tbody>\n",
       "    <tr>\n",
       "      <th>0</th>\n",
       "      <td>370476</td>\n",
       "      <td>21752</td>\n",
       "      <td>57993</td>\n",
       "      <td>2003-05-01</td>\n",
       "      <td>5</td>\n",
       "      <td>Last week whole sides of frozen salmon fillet ...</td>\n",
       "    </tr>\n",
       "    <tr>\n",
       "      <th>1</th>\n",
       "      <td>624300</td>\n",
       "      <td>431813</td>\n",
       "      <td>142201</td>\n",
       "      <td>2007-09-16</td>\n",
       "      <td>5</td>\n",
       "      <td>So simple and so tasty!  I used a yellow capsi...</td>\n",
       "    </tr>\n",
       "    <tr>\n",
       "      <th>2</th>\n",
       "      <td>187037</td>\n",
       "      <td>400708</td>\n",
       "      <td>252013</td>\n",
       "      <td>2008-01-10</td>\n",
       "      <td>4</td>\n",
       "      <td>Very nice breakfast HH, easy to make and yummy...</td>\n",
       "    </tr>\n",
       "    <tr>\n",
       "      <th>3</th>\n",
       "      <td>706134</td>\n",
       "      <td>2001852463</td>\n",
       "      <td>404716</td>\n",
       "      <td>2017-12-11</td>\n",
       "      <td>5</td>\n",
       "      <td>These are a favorite for the holidays and so e...</td>\n",
       "    </tr>\n",
       "    <tr>\n",
       "      <th>4</th>\n",
       "      <td>312179</td>\n",
       "      <td>95810</td>\n",
       "      <td>129396</td>\n",
       "      <td>2008-03-14</td>\n",
       "      <td>5</td>\n",
       "      <td>Excellent soup!  The tomato flavor is just gre...</td>\n",
       "    </tr>\n",
       "  </tbody>\n",
       "</table>\n",
       "</div>"
      ],
      "text/plain": [
       "       id     user_id  recipe_id        date  rating  \\\n",
       "0  370476       21752      57993  2003-05-01       5   \n",
       "1  624300      431813     142201  2007-09-16       5   \n",
       "2  187037      400708     252013  2008-01-10       4   \n",
       "3  706134  2001852463     404716  2017-12-11       5   \n",
       "4  312179       95810     129396  2008-03-14       5   \n",
       "\n",
       "                                              review  \n",
       "0  Last week whole sides of frozen salmon fillet ...  \n",
       "1  So simple and so tasty!  I used a yellow capsi...  \n",
       "2  Very nice breakfast HH, easy to make and yummy...  \n",
       "3  These are a favorite for the holidays and so e...  \n",
       "4  Excellent soup!  The tomato flavor is just gre...  "
      ]
     },
     "metadata": {},
     "execution_count": 39
    }
   ],
   "metadata": {}
  },
  {
   "cell_type": "markdown",
   "source": [
    "1.2 Для каждой из таблиц выведите основные параметры:\n",
    "* количество точек данных (строк);\n",
    "* количество столбцов;\n",
    "* тип данных каждого столбца."
   ],
   "metadata": {}
  },
  {
   "cell_type": "code",
   "execution_count": 8,
   "source": [
    "print(recipes.shape[0])\r\n",
    "print(recipes.shape[1])\r\n",
    "print(recipes.dtypes)"
   ],
   "outputs": [
    {
     "output_type": "stream",
     "name": "stdout",
     "text": [
      "30000\n",
      "8\n",
      "name               object\n",
      "id                  int64\n",
      "minutes             int64\n",
      "contributor_id      int64\n",
      "submitted          object\n",
      "n_steps           float64\n",
      "description        object\n",
      "n_ingredients     float64\n",
      "dtype: object\n"
     ]
    }
   ],
   "metadata": {}
  },
  {
   "cell_type": "code",
   "execution_count": 9,
   "source": [
    "print(reviews.shape[0])\r\n",
    "print(reviews.shape[1])\r\n",
    "print(reviews.dtypes)"
   ],
   "outputs": [
    {
     "output_type": "stream",
     "name": "stdout",
     "text": [
      "126696\n",
      "6\n",
      "id            int64\n",
      "user_id       int64\n",
      "recipe_id     int64\n",
      "date         object\n",
      "rating        int64\n",
      "review       object\n",
      "dtype: object\n"
     ]
    }
   ],
   "metadata": {}
  },
  {
   "cell_type": "markdown",
   "source": [
    "# 1.3 Исследуйте, в каких столбцах таблиц содержатся пропуски. Посчитайте долю строк, содержащих пропуски, в отношении к общему количеству строк."
   ],
   "metadata": {}
  },
  {
   "cell_type": "code",
   "execution_count": 155,
   "source": [
    "recipes.isna()"
   ],
   "outputs": [
    {
     "output_type": "execute_result",
     "data": {
      "text/html": [
       "<div>\n",
       "<style scoped>\n",
       "    .dataframe tbody tr th:only-of-type {\n",
       "        vertical-align: middle;\n",
       "    }\n",
       "\n",
       "    .dataframe tbody tr th {\n",
       "        vertical-align: top;\n",
       "    }\n",
       "\n",
       "    .dataframe thead th {\n",
       "        text-align: right;\n",
       "    }\n",
       "</style>\n",
       "<table border=\"1\" class=\"dataframe\">\n",
       "  <thead>\n",
       "    <tr style=\"text-align: right;\">\n",
       "      <th></th>\n",
       "      <th>name</th>\n",
       "      <th>id</th>\n",
       "      <th>minutes</th>\n",
       "      <th>contributor_id</th>\n",
       "      <th>submitted</th>\n",
       "      <th>n_steps</th>\n",
       "      <th>description</th>\n",
       "      <th>n_ingredients</th>\n",
       "    </tr>\n",
       "  </thead>\n",
       "  <tbody>\n",
       "    <tr>\n",
       "      <th>0</th>\n",
       "      <td>False</td>\n",
       "      <td>False</td>\n",
       "      <td>False</td>\n",
       "      <td>False</td>\n",
       "      <td>False</td>\n",
       "      <td>True</td>\n",
       "      <td>False</td>\n",
       "      <td>False</td>\n",
       "    </tr>\n",
       "    <tr>\n",
       "      <th>1</th>\n",
       "      <td>False</td>\n",
       "      <td>False</td>\n",
       "      <td>False</td>\n",
       "      <td>False</td>\n",
       "      <td>False</td>\n",
       "      <td>True</td>\n",
       "      <td>False</td>\n",
       "      <td>True</td>\n",
       "    </tr>\n",
       "    <tr>\n",
       "      <th>2</th>\n",
       "      <td>False</td>\n",
       "      <td>False</td>\n",
       "      <td>False</td>\n",
       "      <td>False</td>\n",
       "      <td>False</td>\n",
       "      <td>True</td>\n",
       "      <td>False</td>\n",
       "      <td>False</td>\n",
       "    </tr>\n",
       "    <tr>\n",
       "      <th>3</th>\n",
       "      <td>False</td>\n",
       "      <td>False</td>\n",
       "      <td>False</td>\n",
       "      <td>False</td>\n",
       "      <td>False</td>\n",
       "      <td>True</td>\n",
       "      <td>False</td>\n",
       "      <td>True</td>\n",
       "    </tr>\n",
       "    <tr>\n",
       "      <th>4</th>\n",
       "      <td>False</td>\n",
       "      <td>False</td>\n",
       "      <td>False</td>\n",
       "      <td>False</td>\n",
       "      <td>False</td>\n",
       "      <td>False</td>\n",
       "      <td>False</td>\n",
       "      <td>True</td>\n",
       "    </tr>\n",
       "    <tr>\n",
       "      <th>...</th>\n",
       "      <td>...</td>\n",
       "      <td>...</td>\n",
       "      <td>...</td>\n",
       "      <td>...</td>\n",
       "      <td>...</td>\n",
       "      <td>...</td>\n",
       "      <td>...</td>\n",
       "      <td>...</td>\n",
       "    </tr>\n",
       "    <tr>\n",
       "      <th>29995</th>\n",
       "      <td>False</td>\n",
       "      <td>False</td>\n",
       "      <td>False</td>\n",
       "      <td>False</td>\n",
       "      <td>False</td>\n",
       "      <td>False</td>\n",
       "      <td>False</td>\n",
       "      <td>False</td>\n",
       "    </tr>\n",
       "    <tr>\n",
       "      <th>29996</th>\n",
       "      <td>False</td>\n",
       "      <td>False</td>\n",
       "      <td>False</td>\n",
       "      <td>False</td>\n",
       "      <td>False</td>\n",
       "      <td>True</td>\n",
       "      <td>False</td>\n",
       "      <td>False</td>\n",
       "    </tr>\n",
       "    <tr>\n",
       "      <th>29997</th>\n",
       "      <td>False</td>\n",
       "      <td>False</td>\n",
       "      <td>False</td>\n",
       "      <td>False</td>\n",
       "      <td>False</td>\n",
       "      <td>True</td>\n",
       "      <td>False</td>\n",
       "      <td>True</td>\n",
       "    </tr>\n",
       "    <tr>\n",
       "      <th>29998</th>\n",
       "      <td>False</td>\n",
       "      <td>False</td>\n",
       "      <td>False</td>\n",
       "      <td>False</td>\n",
       "      <td>False</td>\n",
       "      <td>True</td>\n",
       "      <td>False</td>\n",
       "      <td>True</td>\n",
       "    </tr>\n",
       "    <tr>\n",
       "      <th>29999</th>\n",
       "      <td>False</td>\n",
       "      <td>False</td>\n",
       "      <td>False</td>\n",
       "      <td>False</td>\n",
       "      <td>False</td>\n",
       "      <td>False</td>\n",
       "      <td>False</td>\n",
       "      <td>False</td>\n",
       "    </tr>\n",
       "  </tbody>\n",
       "</table>\n",
       "<p>30000 rows × 8 columns</p>\n",
       "</div>"
      ],
      "text/plain": [
       "        name     id  minutes  contributor_id  submitted  n_steps  description  \\\n",
       "0      False  False    False           False      False     True        False   \n",
       "1      False  False    False           False      False     True        False   \n",
       "2      False  False    False           False      False     True        False   \n",
       "3      False  False    False           False      False     True        False   \n",
       "4      False  False    False           False      False    False        False   \n",
       "...      ...    ...      ...             ...        ...      ...          ...   \n",
       "29995  False  False    False           False      False    False        False   \n",
       "29996  False  False    False           False      False     True        False   \n",
       "29997  False  False    False           False      False     True        False   \n",
       "29998  False  False    False           False      False     True        False   \n",
       "29999  False  False    False           False      False    False        False   \n",
       "\n",
       "       n_ingredients  \n",
       "0              False  \n",
       "1               True  \n",
       "2              False  \n",
       "3               True  \n",
       "4               True  \n",
       "...              ...  \n",
       "29995          False  \n",
       "29996          False  \n",
       "29997           True  \n",
       "29998           True  \n",
       "29999          False  \n",
       "\n",
       "[30000 rows x 8 columns]"
      ]
     },
     "metadata": {},
     "execution_count": 155
    }
   ],
   "metadata": {}
  },
  {
   "cell_type": "code",
   "execution_count": 61,
   "source": [
    "print(recipes[recipes.columns[recipes.isna().sum(axis=0) > 0]].head(0))\r\n",
    "print(recipes.isna().sum(axis=0))"
   ],
   "outputs": [
    {
     "output_type": "stream",
     "name": "stdout",
     "text": [
      "Empty DataFrame\n",
      "Columns: [n_steps, description, n_ingredients]\n",
      "Index: []\n",
      "name                  0\n",
      "id                    0\n",
      "minutes               0\n",
      "contributor_id        0\n",
      "submitted             0\n",
      "n_steps           11190\n",
      "description         623\n",
      "n_ingredients      8880\n",
      "dtype: int64\n"
     ]
    }
   ],
   "metadata": {}
  },
  {
   "cell_type": "code",
   "execution_count": 78,
   "source": [
    "sum(recipes.isna().sum(axis=1) > 0)/recipes.shape[0]"
   ],
   "outputs": [
    {
     "output_type": "execute_result",
     "data": {
      "text/plain": [
       "0.5684666666666667"
      ]
     },
     "metadata": {},
     "execution_count": 78
    }
   ],
   "metadata": {}
  },
  {
   "cell_type": "code",
   "execution_count": null,
   "source": [],
   "outputs": [],
   "metadata": {}
  },
  {
   "cell_type": "markdown",
   "source": [
    "1.4 Рассчитайте среднее значение для каждого из числовых столбцов (где это имеет смысл)."
   ],
   "metadata": {}
  },
  {
   "cell_type": "code",
   "execution_count": 13,
   "source": [
    "print(recipes[['minutes', 'n_steps', 'n_ingredients']].mean())\r\n",
    "print(reviews[['rating']].mean())"
   ],
   "outputs": [
    {
     "output_type": "stream",
     "name": "stdout",
     "text": [
      "minutes          123.358133\n",
      "n_steps            9.805582\n",
      "n_ingredients      9.008286\n",
      "dtype: float64\n",
      "rating    4.410802\n",
      "dtype: float64\n"
     ]
    }
   ],
   "metadata": {}
  },
  {
   "cell_type": "markdown",
   "source": [
    "1.5 Создайте серию из 10 случайных названий рецептов."
   ],
   "metadata": {}
  },
  {
   "cell_type": "code",
   "execution_count": 14,
   "source": [
    "recipes.sample(10)['name']"
   ],
   "outputs": [
    {
     "output_type": "execute_result",
     "data": {
      "text/plain": [
       "19668                        p  j  browne s pub dip\n",
       "15028                   john elway s hamburger soup\n",
       "15117    just like  jack astor s crab dip   copycat\n",
       "8234               creamy corn and broccoli chowder\n",
       "29561               ww 2 points potluck pasta salad\n",
       "9428                   dianne s rhubarb custard pie\n",
       "13628                herb scented blueberry s mores\n",
       "14950                                   jello salad\n",
       "8768           crostini with olives and feta spread\n",
       "24113                                  shrimp toast\n",
       "Name: name, dtype: object"
      ]
     },
     "metadata": {},
     "execution_count": 14
    }
   ],
   "metadata": {}
  },
  {
   "cell_type": "markdown",
   "source": [
    "1.6 Измените индекс в таблице `reviews`, пронумеровав строки, начиная с нуля."
   ],
   "metadata": {}
  },
  {
   "cell_type": "code",
   "execution_count": 40,
   "source": [
    "reviews['id']= reviews['id']-reviews['id'].min()\r\n",
    "reviews.head()"
   ],
   "outputs": [
    {
     "output_type": "execute_result",
     "data": {
      "text/html": [
       "<div>\n",
       "<style scoped>\n",
       "    .dataframe tbody tr th:only-of-type {\n",
       "        vertical-align: middle;\n",
       "    }\n",
       "\n",
       "    .dataframe tbody tr th {\n",
       "        vertical-align: top;\n",
       "    }\n",
       "\n",
       "    .dataframe thead th {\n",
       "        text-align: right;\n",
       "    }\n",
       "</style>\n",
       "<table border=\"1\" class=\"dataframe\">\n",
       "  <thead>\n",
       "    <tr style=\"text-align: right;\">\n",
       "      <th></th>\n",
       "      <th>id</th>\n",
       "      <th>user_id</th>\n",
       "      <th>recipe_id</th>\n",
       "      <th>date</th>\n",
       "      <th>rating</th>\n",
       "      <th>review</th>\n",
       "    </tr>\n",
       "  </thead>\n",
       "  <tbody>\n",
       "    <tr>\n",
       "      <th>0</th>\n",
       "      <td>370471</td>\n",
       "      <td>21752</td>\n",
       "      <td>57993</td>\n",
       "      <td>2003-05-01</td>\n",
       "      <td>5</td>\n",
       "      <td>Last week whole sides of frozen salmon fillet ...</td>\n",
       "    </tr>\n",
       "    <tr>\n",
       "      <th>1</th>\n",
       "      <td>624295</td>\n",
       "      <td>431813</td>\n",
       "      <td>142201</td>\n",
       "      <td>2007-09-16</td>\n",
       "      <td>5</td>\n",
       "      <td>So simple and so tasty!  I used a yellow capsi...</td>\n",
       "    </tr>\n",
       "    <tr>\n",
       "      <th>2</th>\n",
       "      <td>187032</td>\n",
       "      <td>400708</td>\n",
       "      <td>252013</td>\n",
       "      <td>2008-01-10</td>\n",
       "      <td>4</td>\n",
       "      <td>Very nice breakfast HH, easy to make and yummy...</td>\n",
       "    </tr>\n",
       "    <tr>\n",
       "      <th>3</th>\n",
       "      <td>706129</td>\n",
       "      <td>2001852463</td>\n",
       "      <td>404716</td>\n",
       "      <td>2017-12-11</td>\n",
       "      <td>5</td>\n",
       "      <td>These are a favorite for the holidays and so e...</td>\n",
       "    </tr>\n",
       "    <tr>\n",
       "      <th>4</th>\n",
       "      <td>312174</td>\n",
       "      <td>95810</td>\n",
       "      <td>129396</td>\n",
       "      <td>2008-03-14</td>\n",
       "      <td>5</td>\n",
       "      <td>Excellent soup!  The tomato flavor is just gre...</td>\n",
       "    </tr>\n",
       "  </tbody>\n",
       "</table>\n",
       "</div>"
      ],
      "text/plain": [
       "       id     user_id  recipe_id        date  rating  \\\n",
       "0  370471       21752      57993  2003-05-01       5   \n",
       "1  624295      431813     142201  2007-09-16       5   \n",
       "2  187032      400708     252013  2008-01-10       4   \n",
       "3  706129  2001852463     404716  2017-12-11       5   \n",
       "4  312174       95810     129396  2008-03-14       5   \n",
       "\n",
       "                                              review  \n",
       "0  Last week whole sides of frozen salmon fillet ...  \n",
       "1  So simple and so tasty!  I used a yellow capsi...  \n",
       "2  Very nice breakfast HH, easy to make and yummy...  \n",
       "3  These are a favorite for the holidays and so e...  \n",
       "4  Excellent soup!  The tomato flavor is just gre...  "
      ]
     },
     "metadata": {},
     "execution_count": 40
    }
   ],
   "metadata": {}
  },
  {
   "cell_type": "markdown",
   "source": [
    "1.7 Выведите информацию о рецептах, время выполнения которых не больше 20 минут и кол-во ингредиентов в которых не больше 5."
   ],
   "metadata": {}
  },
  {
   "cell_type": "markdown",
   "source": [
    "### Работа с датами в `pandas`"
   ],
   "metadata": {}
  },
  {
   "cell_type": "markdown",
   "source": [
    "2.1 Преобразуйте столбец `submitted` из таблицы `recipes` в формат времени. Модифицируйте решение задачи 1.1 так, чтобы считать столбец сразу в нужном формате."
   ],
   "metadata": {}
  },
  {
   "cell_type": "markdown",
   "source": [
    "2.2 Выведите информацию о рецептах, добавленных в датасет не позже 2010 года."
   ],
   "metadata": {}
  },
  {
   "cell_type": "markdown",
   "source": [
    "### Работа со строковыми данными в `pandas`"
   ],
   "metadata": {}
  },
  {
   "cell_type": "markdown",
   "source": [
    "3.1  Добавьте в таблицу `recipes` столбец `description_length`, в котором хранится длина описания рецепта из столбца `description`."
   ],
   "metadata": {}
  },
  {
   "cell_type": "markdown",
   "source": [
    "3.2 Измените название каждого рецепта в таблице `recipes` таким образом, чтобы каждое слово в названии начиналось с прописной буквы."
   ],
   "metadata": {}
  },
  {
   "cell_type": "markdown",
   "source": [
    "3.3 Добавьте в таблицу `recipes` столбец `name_word_count`, в котором хранится количество слов из названии рецепта (считайте, что слова в названии разделяются только пробелами)."
   ],
   "metadata": {}
  },
  {
   "cell_type": "markdown",
   "source": [
    "### Группировки таблиц `pd.DataFrame`"
   ],
   "metadata": {}
  },
  {
   "cell_type": "markdown",
   "source": [
    "4.1 Посчитайте количество рецептов, представленных каждым из участников (`contributor_id`). Какой участник добавил максимальное кол-во рецептов?"
   ],
   "metadata": {}
  },
  {
   "cell_type": "markdown",
   "source": [
    "4.2 Посчитайте средний рейтинг к каждому из рецептов. Для скольких рецептов отсутствуют отзывы?"
   ],
   "metadata": {}
  },
  {
   "cell_type": "markdown",
   "source": [
    "4.3 Посчитайте количество рецептов с разбивкой по годам создания."
   ],
   "metadata": {}
  },
  {
   "cell_type": "markdown",
   "source": [
    "### Объединение таблиц `pd.DataFrame`"
   ],
   "metadata": {}
  },
  {
   "cell_type": "markdown",
   "source": [
    "5.1 При помощи объединения таблиц, создайте `DataFrame`, состоящий из четырех столбцов: `id`, `name`, `user_id`, `rating`. Рецепты без отзывов должны отсутствовать в данной таблице. Подтвердите правильность работы вашего кода, выбрав рецепт, не имеющий отзывов, и выведя на экран строку из полученного `DataFrame`, содержащую информацию об этом отзыве."
   ],
   "metadata": {}
  },
  {
   "cell_type": "markdown",
   "source": [
    "5.2 При помощи объединения таблиц и группировок, создайте `DataFrame`, состоящий из трех столбцов: `recipe_id`, `name`, `review_count`. У рецептов, для которых отсутствуют отзывы, в соответствущем столбце должен быть указан 0. Подтвердите правильность работы вашего кода, выбрав рецепт, не имеющий отзывов, и выведя на экран строку из полученного `DataFrame`, содержащую информацию об этом отзыве.\n"
   ],
   "metadata": {}
  },
  {
   "cell_type": "markdown",
   "source": [
    "5.3. Выясните, отзывы, добавленные в каком году, имеют наименьший средний рейтинг?"
   ],
   "metadata": {}
  },
  {
   "cell_type": "markdown",
   "source": [
    "### Сохранение таблиц `pd.DataFrame`"
   ],
   "metadata": {}
  },
  {
   "cell_type": "markdown",
   "source": [
    "6.1 Отсортируйте таблицу в порядке убывания величины столбца `name_word_count` и сохраните результаты выполнения заданий 3.1-3.3 в csv файл. "
   ],
   "metadata": {}
  },
  {
   "cell_type": "markdown",
   "source": [
    "6.2 Воспользовавшись `pd.ExcelWriter`, cохраните результаты 5.1 и 5.2 в файл: на лист с названием `Рецепты с оценками` сохраните результаты выполнения 5.1; на лист с названием `Количество отзывов по рецептам` сохраните результаты выполнения 5.2."
   ],
   "metadata": {}
  }
 ],
 "metadata": {
  "kernelspec": {
   "name": "python3",
   "display_name": "Python 3.8.8 64-bit ('base': conda)"
  },
  "language_info": {
   "codemirror_mode": {
    "name": "ipython",
    "version": 3
   },
   "file_extension": ".py",
   "mimetype": "text/x-python",
   "name": "python",
   "nbconvert_exporter": "python",
   "pygments_lexer": "ipython3",
   "version": "3.8.8"
  },
  "interpreter": {
   "hash": "b3ba2566441a7c06988d0923437866b63cedc61552a5af99d1f4fb67d367b25f"
  }
 },
 "nbformat": 4,
 "nbformat_minor": 4
}