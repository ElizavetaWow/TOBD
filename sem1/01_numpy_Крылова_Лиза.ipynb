{
 "cells": [
  {
   "cell_type": "markdown",
   "source": [
    "# Numpy"
   ],
   "metadata": {}
  },
  {
   "cell_type": "markdown",
   "source": [
    "Материалы:\n",
    "* Макрушин С.В. \"Лекция 1: Библиотека Numpy\"\n",
    "* https://numpy.org/doc/stable/user/index.html\n",
    "* https://numpy.org/doc/stable/reference/index.html\n",
    "* Уэс Маккини. Python и анализ данных"
   ],
   "metadata": {}
  },
  {
   "cell_type": "code",
   "execution_count": 2,
   "source": [
    "import numpy as np"
   ],
   "outputs": [],
   "metadata": {}
  },
  {
   "cell_type": "markdown",
   "source": [
    "## Задачи для совместного разбора"
   ],
   "metadata": {}
  },
  {
   "cell_type": "markdown",
   "source": [
    "1. Сгенерировать двухмерный массив `arr` размерности (4, 7), состоящий из случайных действительных чисел, равномерно распределенных в диапазоне от 0 до 20. Нормализовать значения массива с помощью преобразования вида  $𝑎𝑥+𝑏$  так, что после нормализации максимальный элемент масcива будет равен 1.0, минимальный 0.0"
   ],
   "metadata": {}
  },
  {
   "cell_type": "code",
   "execution_count": 361,
   "source": [
    "arr = np.random.uniform(0, 20, size=(4, 7))\r\n",
    "print(arr)\r\n",
    "mmin = np.min(arr)\r\n",
    "mmax = np.max(arr)\r\n",
    "arr/(mmax-mmin)-mmin/(mmax-mmin)"
   ],
   "outputs": [
    {
     "output_type": "stream",
     "name": "stdout",
     "text": [
      "[[ 6.82126706  4.96618748 11.34759117  2.16280203 10.71973645 15.24693506\n",
      "  11.47725457]\n",
      " [ 6.2738735  19.71159092  5.84909776  9.50903166 12.96604261 16.27539078\n",
      "   6.745738  ]\n",
      " [ 5.85927569 15.7716058   6.63031999  7.67742824  0.86594976 10.16198133\n",
      "  16.31755181]\n",
      " [ 0.05261532  0.33871749 12.83200054 13.12962319 10.7904322  16.55781081\n",
      "   7.01380218]]\n"
     ]
    },
    {
     "output_type": "execute_result",
     "data": {
      "text/plain": [
       "array([[0.34430338, 0.2499404 , 0.57454549, 0.10733961, 0.54260819,\n",
       "        0.77289479, 0.58114113],\n",
       "       [0.31645892, 1.        , 0.2948517 , 0.48102284, 0.65687183,\n",
       "        0.8252096 , 0.34046142],\n",
       "       [0.29536943, 0.7995834 , 0.33459041, 0.38785403, 0.04137217,\n",
       "        0.51423666, 0.82735422],\n",
       "       [0.        , 0.01455326, 0.65005347, 0.66519274, 0.54620429,\n",
       "        0.83957556, 0.35409713]])"
      ]
     },
     "metadata": {},
     "execution_count": 361
    }
   ],
   "metadata": {}
  },
  {
   "cell_type": "markdown",
   "source": [
    "2. Создать матрицу 8 на 10 из случайных целых (используя модуль `numpy.random`) чисел из диапозона от 0 до 10 и найти в ней строку (ее индекс и вывести саму строку), в которой сумма значений минимальна."
   ],
   "metadata": {}
  },
  {
   "cell_type": "code",
   "execution_count": 17,
   "source": [
    "arr = np.random.randint(0, 10, size=(8, 10))\r\n",
    "print(arr)\r\n",
    "mmin = np.min(np.sum(arr, axis=1))\r\n",
    "#print(mmin, np.sum(arr, axis=1))\r\n",
    "print(np.argmin(np.sum(arr, axis=1)))\r\n",
    "print(arr[np.argmin(np.sum(arr, axis=1))])"
   ],
   "outputs": [
    {
     "output_type": "stream",
     "name": "stdout",
     "text": [
      "[[9 5 4 6 4 2 1 6 9 5]\n",
      " [2 2 2 6 8 1 0 9 1 1]\n",
      " [1 1 6 8 4 7 6 4 3 2]\n",
      " [8 2 1 0 8 1 9 1 1 3]\n",
      " [1 8 8 3 3 7 3 3 1 8]\n",
      " [2 9 2 9 3 4 4 3 8 8]\n",
      " [9 1 3 3 4 5 1 1 0 5]\n",
      " [7 3 7 1 7 6 4 3 6 2]]\n",
      "1\n",
      "[2 2 2 6 8 1 0 9 1 1]\n"
     ]
    }
   ],
   "metadata": {}
  },
  {
   "cell_type": "markdown",
   "source": [
    "3. Найти евклидово расстояние между двумя одномерными векторами одинаковой размерности."
   ],
   "metadata": {}
  },
  {
   "cell_type": "code",
   "execution_count": 399,
   "source": [
    "a=np.array([1, 3, 4])\r\n",
    "b=np.array([4, 5, 6])\r\n",
    "(np.sum((a-b)**2))**0.5"
   ],
   "outputs": [
    {
     "output_type": "execute_result",
     "data": {
      "text/plain": [
       "4.123105625617661"
      ]
     },
     "metadata": {},
     "execution_count": 399
    }
   ],
   "metadata": {}
  },
  {
   "cell_type": "markdown",
   "source": [
    "4. Решить матричное уравнение `A*X*B=-C` - найти матрицу `X`. Где `A = [[-1, 2, 4], [-3, 1, 2], [-3, 0, 1]]`, `B=[[3, -1], [2, 1]]`, `C=[[7, 21], [11, 8], [8, 4]]`."
   ],
   "metadata": {}
  },
  {
   "cell_type": "code",
   "execution_count": 402,
   "source": [
    "a = np.array([[-1, 2, 4], [-3, 1, 2], [-3, 0, 1]])\r\n",
    "b = np.array([[3, -1], [2, 1]])\r\n",
    "c = np.array([[7, 21], [11, 8], [8, 4]])\r\n",
    "x = np.linalg.inv(a)@(-c)@np.linalg.inv(b)\r\n",
    "x"
   ],
   "outputs": [
    {
     "output_type": "execute_result",
     "data": {
      "text/plain": [
       "array([[ 1.00000000e+00,  1.11022302e-15],\n",
       "       [-2.00000000e+00,  1.00000000e+00],\n",
       "       [ 3.00000000e+00, -4.00000000e+00]])"
      ]
     },
     "metadata": {},
     "execution_count": 402
    }
   ],
   "metadata": {}
  },
  {
   "cell_type": "markdown",
   "source": [
    "## Лабораторная работа №1"
   ],
   "metadata": {}
  },
  {
   "cell_type": "markdown",
   "source": [
    "Замечание: при решении данных задач не подразумевается использования циклов или генераторов Python, если в задании не сказано обратного. Решение должно опираться на использования функционала библиотеки `numpy`."
   ],
   "metadata": {}
  },
  {
   "cell_type": "markdown",
   "source": [
    "1. Файл `minutes_n_ingredients.csv` содержит информацию об идентификаторе рецепта, времени его выполнения в минутах и количестве необходимых ингредиентов. Считайте данные из этого файла в виде массива `numpy` типа `int32`, используя `np.loadtxt`. Выведите на экран первые 5 строк массива."
   ],
   "metadata": {}
  },
  {
   "cell_type": "code",
   "execution_count": 404,
   "source": [
    "arr = np.loadtxt(\"minutes_n_ingredients.csv\", dtype=\"int32\", skiprows=1, delimiter=\",\")\r\n",
    "arr[:5]"
   ],
   "outputs": [
    {
     "output_type": "execute_result",
     "data": {
      "text/plain": [
       "array([[127244,     60,     16],\n",
       "       [ 23891,     25,      7],\n",
       "       [ 94746,     10,      6],\n",
       "       [ 67660,      5,      6],\n",
       "       [157911,     60,     14]])"
      ]
     },
     "metadata": {},
     "execution_count": 404
    }
   ],
   "metadata": {}
  },
  {
   "cell_type": "markdown",
   "source": [
    "2. Вычислите среднее значение, минимум, максимум и медиану по каждому из столбцов, кроме первого."
   ],
   "metadata": {}
  },
  {
   "cell_type": "code",
   "execution_count": 405,
   "source": [
    "print(\"Среднее \", np.mean(arr[:,1:], axis=0))\r\n",
    "print(\"Минимум \", np.min(arr[:,1:], axis=0))\r\n",
    "print(\"Максимум \", np.max(arr[:,1:], axis=0))\r\n",
    "print(\"Медиана \", np.median(arr[:,1:], axis=0))"
   ],
   "outputs": [
    {
     "output_type": "stream",
     "name": "stdout",
     "text": [
      "Среднее  [2.16010017e+04 9.05528000e+00]\n",
      "Минимум  [0 1]\n",
      "Максимум  [2147483647         39]\n",
      "Медиана  [40.  9.]\n"
     ]
    }
   ],
   "metadata": {}
  },
  {
   "cell_type": "markdown",
   "source": [
    "3. Ограничьте сверху значения продолжительности выполнения рецепта значением квантиля $q_{0.75}$. "
   ],
   "metadata": {}
  },
  {
   "cell_type": "code",
   "execution_count": 406,
   "source": [
    "print(\"Квантиль 0,75 = \", np.quantile(arr[:, 1], q =0.75))\r\n",
    "arr[arr[:, 1] <  np.quantile(arr[:, 1], q =0.75)]"
   ],
   "outputs": [
    {
     "output_type": "stream",
     "name": "stdout",
     "text": [
      "Квантиль 0,75 =  65.0\n"
     ]
    },
    {
     "output_type": "execute_result",
     "data": {
      "text/plain": [
       "array([[127244,     60,     16],\n",
       "       [ 23891,     25,      7],\n",
       "       [ 94746,     10,      6],\n",
       "       ...,\n",
       "       [371794,     35,      8],\n",
       "       [ 43407,     35,      7],\n",
       "       [370915,      5,      4]])"
      ]
     },
     "metadata": {},
     "execution_count": 406
    }
   ],
   "metadata": {}
  },
  {
   "cell_type": "markdown",
   "source": [
    "4. Посчитайте, для скольких рецептов указана продолжительность, равная нулю. Замените для таких строк значение в данном столбце на 1."
   ],
   "metadata": {}
  },
  {
   "cell_type": "code",
   "execution_count": 407,
   "source": [
    "print(\"Продолжительность равна 0 у \", np.sum(arr[:, 1] == 0))"
   ],
   "outputs": [
    {
     "output_type": "stream",
     "name": "stdout",
     "text": [
      "Продолжительность равна 0 у  479\n"
     ]
    }
   ],
   "metadata": {}
  },
  {
   "cell_type": "code",
   "execution_count": 408,
   "source": [
    "arr[arr[:, 1] == 0, 1] = 1\r\n",
    "arr"
   ],
   "outputs": [
    {
     "output_type": "execute_result",
     "data": {
      "text/plain": [
       "array([[127244,     60,     16],\n",
       "       [ 23891,     25,      7],\n",
       "       [ 94746,     10,      6],\n",
       "       ...,\n",
       "       [498432,     65,     15],\n",
       "       [370915,      5,      4],\n",
       "       [ 81993,    140,     14]])"
      ]
     },
     "metadata": {},
     "execution_count": 408
    }
   ],
   "metadata": {}
  },
  {
   "cell_type": "code",
   "execution_count": 409,
   "source": [
    "print(\"Продолжительность равна 0 у \", np.sum(arr[:, 1] == 0))"
   ],
   "outputs": [
    {
     "output_type": "stream",
     "name": "stdout",
     "text": [
      "Продолжительность равна 0 у  0\n"
     ]
    }
   ],
   "metadata": {}
  },
  {
   "cell_type": "markdown",
   "source": [
    "5. Посчитайте, сколько уникальных рецептов находится в датасете."
   ],
   "metadata": {}
  },
  {
   "cell_type": "code",
   "execution_count": 296,
   "source": [
    "np.unique(arr, axis = 0).shape[0]"
   ],
   "outputs": [
    {
     "output_type": "execute_result",
     "data": {
      "text/plain": [
       "100000"
      ]
     },
     "metadata": {},
     "execution_count": 296
    }
   ],
   "metadata": {}
  },
  {
   "cell_type": "markdown",
   "source": [
    "6. Сколько и каких различных значений кол-ва ингредиентов присутвует в рецептах из датасета?"
   ],
   "metadata": {}
  },
  {
   "cell_type": "code",
   "execution_count": 297,
   "source": [
    "print(np.unique(arr[:, 2], axis = 0).size)\r\n",
    "print(np.unique(arr[:, 2], axis = 0))"
   ],
   "outputs": [
    {
     "output_type": "stream",
     "name": "stdout",
     "text": [
      "37\n",
      "[ 1  2  3  4  5  6  7  8  9 10 11 12 13 14 15 16 17 18 19 20 21 22 23 24\n",
      " 25 26 27 28 29 30 31 32 33 34 35 37 39]\n"
     ]
    }
   ],
   "metadata": {}
  },
  {
   "cell_type": "markdown",
   "source": [
    "7. Создайте версию массива, содержащую информацию только о рецептах, состоящих не более чем из 5 ингредиентов."
   ],
   "metadata": {}
  },
  {
   "cell_type": "code",
   "execution_count": 298,
   "source": [
    "arr1 = arr[arr[:, 2] <= 5] \r\n",
    "arr1"
   ],
   "outputs": [
    {
     "output_type": "execute_result",
     "data": {
      "text/plain": [
       "array([[446597,     15,      5],\n",
       "       [204134,      5,      3],\n",
       "       [ 25623,      6,      4],\n",
       "       ...,\n",
       "       [ 52088,     60,      5],\n",
       "       [128811,     15,      4],\n",
       "       [370915,      5,      4]])"
      ]
     },
     "metadata": {},
     "execution_count": 298
    }
   ],
   "metadata": {}
  },
  {
   "cell_type": "markdown",
   "source": [
    "8. Для каждого рецепта посчитайте, сколько в среднем ингредиентов приходится на одну минуту рецепта. Найдите максимальное значение этой величины для всего датасета"
   ],
   "metadata": {}
  },
  {
   "cell_type": "code",
   "execution_count": 303,
   "source": [
    "arr2 = arr[:, 2]/arr[:, 1]\r\n",
    "print(np.max(arr2))\r\n",
    "arr2"
   ],
   "outputs": [
    {
     "output_type": "stream",
     "name": "stdout",
     "text": [
      "24.0\n"
     ]
    },
    {
     "output_type": "execute_result",
     "data": {
      "text/plain": [
       "array([0.26666667, 0.28      , 0.6       , ..., 0.23076923, 0.8       ,\n",
       "       0.1       ])"
      ]
     },
     "metadata": {},
     "execution_count": 303
    }
   ],
   "metadata": {}
  },
  {
   "cell_type": "markdown",
   "source": [
    "9. Вычислите среднее количество ингредиентов для топ-100 рецептов с наибольшей продолжительностью"
   ],
   "metadata": {}
  },
  {
   "cell_type": "code",
   "execution_count": 528,
   "source": [
    "np.mean(arr[arr[:,1].argsort()][-100:-1, 2])"
   ],
   "outputs": [
    {
     "output_type": "execute_result",
     "data": {
      "text/plain": [
       "6.595959595959596"
      ]
     },
     "metadata": {},
     "execution_count": 528
    }
   ],
   "metadata": {}
  },
  {
   "cell_type": "markdown",
   "source": [
    "10. Выберите случайным образом и выведите информацию о 10 различных рецептах"
   ],
   "metadata": {}
  },
  {
   "cell_type": "code",
   "execution_count": 304,
   "source": [
    "arr[np.random.choice(arr.shape[0], 10, replace=False), :]"
   ],
   "outputs": [
    {
     "output_type": "execute_result",
     "data": {
      "text/plain": [
       "array([[393840,     24,     10],\n",
       "       [181070,     45,     10],\n",
       "       [158778,     22,      8],\n",
       "       [ 52775,     20,     11],\n",
       "       [ 16576,     55,      7],\n",
       "       [410364,     45,      8],\n",
       "       [125701,     70,      7],\n",
       "       [307986,     50,     11],\n",
       "       [ 75084,     40,     13],\n",
       "       [ 49914,     15,      8]])"
      ]
     },
     "metadata": {},
     "execution_count": 304
    }
   ],
   "metadata": {}
  },
  {
   "cell_type": "markdown",
   "source": [
    "11. Выведите процент рецептов, кол-во ингредиентов в которых меньше среднего."
   ],
   "metadata": {}
  },
  {
   "cell_type": "code",
   "execution_count": 305,
   "source": [
    "np.sum(arr[:, 2] < np.mean(arr[:, 2]))/arr.shape[0]*100"
   ],
   "outputs": [
    {
     "output_type": "execute_result",
     "data": {
      "text/plain": [
       "58.802"
      ]
     },
     "metadata": {},
     "execution_count": 305
    }
   ],
   "metadata": {}
  },
  {
   "cell_type": "markdown",
   "source": [
    "12. Назовем \"простым\" такой рецепт, длительность выполнения которого не больше 20 минут и кол-во ингредиентов в котором не больше 5. Создайте версию датасета с дополнительным столбцом, значениями которого являются 1, если рецепт простой, и 0 в противном случае."
   ],
   "metadata": {}
  },
  {
   "cell_type": "code",
   "execution_count": 334,
   "source": [
    "arr3 = arr.copy()\r\n",
    "arr3 = np.column_stack([arr3, (arr[:,1] <= 20) & (arr[:,2] <= 5)])\r\n",
    "arr3"
   ],
   "outputs": [
    {
     "output_type": "execute_result",
     "data": {
      "text/plain": [
       "array([[127244,     60,     16,      0],\n",
       "       [ 23891,     25,      7,      0],\n",
       "       [ 94746,     10,      6,      0],\n",
       "       ...,\n",
       "       [498432,     65,     15,      0],\n",
       "       [370915,      5,      4,      1],\n",
       "       [ 81993,    140,     14,      0]])"
      ]
     },
     "metadata": {},
     "execution_count": 334
    }
   ],
   "metadata": {}
  },
  {
   "cell_type": "markdown",
   "source": [
    "13. Выведите процент \"простых\" рецептов в датасете"
   ],
   "metadata": {}
  },
  {
   "cell_type": "code",
   "execution_count": 338,
   "source": [
    "np.sum(arr3[:, 3])/arr3.shape[0]*100"
   ],
   "outputs": [
    {
     "output_type": "execute_result",
     "data": {
      "text/plain": [
       "9.552"
      ]
     },
     "metadata": {},
     "execution_count": 338
    }
   ],
   "metadata": {}
  },
  {
   "cell_type": "markdown",
   "source": [
    "14. Разделим рецепты на группы по следующему правилу. Назовем рецепты короткими, если их продолжительность составляет менее 10 минут; стандартными, если их продолжительность составляет более 10, но менее 20 минут; и длинными, если их продолжительность составляет не менее 20 минут. Создайте трехмерный массив, где нулевая ось отвечает за номер группы (короткий, стандартный или длинный рецепт), первая ось - за сам рецепт и вторая ось - за характеристики рецепта. Выберите максимальное количество рецептов из каждой группы таким образом, чтобы было возможно сформировать трехмерный массив. Выведите форму полученного массива."
   ],
   "metadata": {}
  },
  {
   "cell_type": "code",
   "execution_count": 524,
   "source": [
    "arr = np.loadtxt(\"minutes_n_ingredients.csv\", dtype=\"int32\", skiprows=1, delimiter=\",\")"
   ],
   "outputs": [],
   "metadata": {}
  },
  {
   "cell_type": "code",
   "execution_count": 525,
   "source": [
    "leng = min(arr[arr[:,2] < 10].shape[0], arr[arr[:,2] >= 20].shape[0], arr[(arr[:,2] >= 10)&(arr[:,2] < 20)].shape[0])"
   ],
   "outputs": [],
   "metadata": {}
  },
  {
   "cell_type": "code",
   "execution_count": 526,
   "source": [
    "arr4 = np.zeros((3,leng, 3), dtype = np.int32)\r\n",
    "arr4[0, :] = arr[arr[:,2] < 10][:leng]\r\n",
    "arr4[1, :] = arr[(arr[:,2] >= 10)&(arr[:,2] < 20)][:leng]\r\n",
    "arr4[2, :] = arr[arr[:,2] >= 20][:leng]\r\n",
    "arr4"
   ],
   "outputs": [
    {
     "output_type": "execute_result",
     "data": {
      "text/plain": [
       "array([[[ 23891,     25,      7],\n",
       "        [ 94746,     10,      6],\n",
       "        [ 67660,      5,      6],\n",
       "        ...,\n",
       "        [230210,     30,      6],\n",
       "        [281614,     25,      8],\n",
       "        [139843,     50,      6]],\n",
       "\n",
       "       [[127244,     60,     16],\n",
       "        [157911,     60,     14],\n",
       "        [280968,     85,     11],\n",
       "        ...,\n",
       "        [382527,     55,     12],\n",
       "        [ 19716,     30,     10],\n",
       "        [ 37210,     25,     10]],\n",
       "\n",
       "       [[504666,     65,     20],\n",
       "        [ 44512,     50,     20],\n",
       "        [470973,    180,     20],\n",
       "        ...,\n",
       "        [188457,    735,     26],\n",
       "        [ 51720,     30,     22],\n",
       "        [451245,    390,     21]]])"
      ]
     },
     "metadata": {},
     "execution_count": 526
    }
   ],
   "metadata": {}
  },
  {
   "cell_type": "code",
   "execution_count": 527,
   "source": [
    "arr4.shape"
   ],
   "outputs": [
    {
     "output_type": "execute_result",
     "data": {
      "text/plain": [
       "(3, 1074, 3)"
      ]
     },
     "metadata": {},
     "execution_count": 527
    }
   ],
   "metadata": {}
  }
 ],
 "metadata": {
  "kernelspec": {
   "display_name": "Python 3",
   "language": "python",
   "name": "python3"
  },
  "language_info": {
   "codemirror_mode": {
    "name": "ipython",
    "version": 3
   },
   "file_extension": ".py",
   "mimetype": "text/x-python",
   "name": "python",
   "nbconvert_exporter": "python",
   "pygments_lexer": "ipython3",
   "version": "3.8.8"
  }
 },
 "nbformat": 4,
 "nbformat_minor": 4
}