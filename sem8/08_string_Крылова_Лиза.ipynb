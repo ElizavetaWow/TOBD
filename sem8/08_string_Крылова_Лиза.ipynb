{
 "cells": [
  {
   "cell_type": "markdown",
   "metadata": {},
   "source": [
    "# Работа со строковыми значениями"
   ]
  },
  {
   "cell_type": "markdown",
   "metadata": {},
   "source": [
    "Материалы:\n",
    "* Макрушин С.В. Лекция 8: Работа со строковыми значениям\n",
    "* https://pyformat.info/\n",
    "* https://docs.python.org/3/library/re.html\n",
    "* https://tproger.ru/translations/regular-expression-python/\n",
    "* https://realpython.com/nltk-nlp-python/"
   ]
  },
  {
   "cell_type": "code",
   "execution_count": 42,
   "metadata": {},
   "outputs": [],
   "source": [
    "import re\n",
    "import pandas as pd"
   ]
  },
  {
   "cell_type": "code",
   "execution_count": 8,
   "metadata": {},
   "outputs": [],
   "source": [
    "import nltk"
   ]
  },
  {
   "cell_type": "code",
   "execution_count": 10,
   "metadata": {},
   "outputs": [
    {
     "name": "stderr",
     "output_type": "stream",
     "text": [
      "[nltk_data] Downloading package punkt to\n",
      "[nltk_data]     C:\\Users\\Lisa\\AppData\\Roaming\\nltk_data...\n",
      "[nltk_data]   Unzipping tokenizers\\punkt.zip.\n"
     ]
    },
    {
     "data": {
      "text/plain": [
       "True"
      ]
     },
     "execution_count": 10,
     "metadata": {},
     "output_type": "execute_result"
    }
   ],
   "source": [
    "nltk.download('punkt')"
   ]
  },
  {
   "cell_type": "markdown",
   "metadata": {},
   "source": [
    "## Задачи для совместного разбора"
   ]
  },
  {
   "cell_type": "markdown",
   "metadata": {},
   "source": [
    "1. Вывести на экран данные из словаря `obj` построчно в виде `k = v`, задав формат таким образом, чтобы знак равенства оказался на одной и той же позиции во всех строках. Строковые литералы обернуть в кавычки."
   ]
  },
  {
   "cell_type": "code",
   "execution_count": 41,
   "metadata": {},
   "outputs": [
    {
     "name": "stdout",
     "output_type": "stream",
     "text": [
      "home_page  = \"https://github.com/pypa/sampleproject\"\n",
      "keywords   = \"sample setuptools development\"\n",
      "license    = \"MIT\"\n"
     ]
    }
   ],
   "source": [
    "obj = {  \n",
    "         'home_page': 'https://github.com/pypa/sampleproject',\n",
    "         'keywords': 'sample setuptools development',\n",
    "         'license': 'MIT'\n",
    "      }\n",
    "for k, v in obj.items():\n",
    "      print(f'{k:10} = \"{v}\"')"
   ]
  },
  {
   "cell_type": "markdown",
   "metadata": {},
   "source": [
    "2. Дана строка 'aaa--bbb==ccc__ddd'. Написать регулярное выражение для разбивки строки на список ['aaa','bbb','ccc','ddd']."
   ]
  },
  {
   "cell_type": "code",
   "execution_count": 22,
   "metadata": {},
   "outputs": [
    {
     "data": {
      "text/plain": [
       "['aaa', 'bbb', 'ccc', 'ddd']"
      ]
     },
     "execution_count": 22,
     "metadata": {},
     "output_type": "execute_result"
    }
   ],
   "source": [
    "pattern = re.compile(r'[a-z]{3}')\n",
    "text = 'aaa--bbb==ccc__ddd'\n",
    "pattern.findall(text)"
   ]
  },
  {
   "cell_type": "markdown",
   "metadata": {},
   "source": [
    "3. Проверить корректность введенного E-mail"
   ]
  },
  {
   "cell_type": "code",
   "execution_count": 38,
   "metadata": {},
   "outputs": [
    {
     "data": {
      "text/plain": [
       "<re.Match object; span=(0, 15), match='NVBlokhin@fa.ru'>"
      ]
     },
     "execution_count": 38,
     "metadata": {},
     "output_type": "execute_result"
    }
   ],
   "source": [
    "email = 'NVBlokhin@fa.ru'\n",
    "pattern = re.compile(r'\\w+@[a-z]+\\.[a-z]{2,3}$')\n",
    "pattern.match(email)"
   ]
  },
  {
   "cell_type": "markdown",
   "metadata": {},
   "source": [
    "4. Разбейте текст формулировки задачи 1 на слова."
   ]
  },
  {
   "cell_type": "code",
   "execution_count": 18,
   "metadata": {},
   "outputs": [
    {
     "data": {
      "text/plain": [
       "['Вывести', 'на', 'экран', 'данные', 'из']"
      ]
     },
     "execution_count": 18,
     "metadata": {},
     "output_type": "execute_result"
    }
   ],
   "source": [
    "text = \"\"\"Вывести на экран данные из словаря `obj` построчно в виде `k = v`, задав формат таким образом, чтобы знак равенства оказался на одной и той же позиции во всех строках. Строковые литералы обернуть в кавычки.\"\"\"\n",
    "nltk.word_tokenize(text)[:5]"
   ]
  },
  {
   "cell_type": "code",
   "execution_count": 19,
   "metadata": {},
   "outputs": [
    {
     "data": {
      "text/plain": [
       "['Вывести на экран данные из словаря `obj` построчно в виде `k = v`, задав формат таким образом, чтобы знак равенства оказался на одной и той же позиции во всех строках.',\n",
       " 'Строковые литералы обернуть в кавычки.']"
      ]
     },
     "execution_count": 19,
     "metadata": {},
     "output_type": "execute_result"
    }
   ],
   "source": [
    "nltk.sent_tokenize(text)"
   ]
  },
  {
   "cell_type": "markdown",
   "metadata": {},
   "source": [
    "## Лабораторная работа 8"
   ]
  },
  {
   "cell_type": "markdown",
   "metadata": {},
   "source": [
    "### Форматирование строк"
   ]
  },
  {
   "cell_type": "markdown",
   "metadata": {},
   "source": [
    "1.1 Загрузите данные из файла `recipes_sample_with_tags_ingredients.csv` (__ЛР5__) в таблицу `recipes` При помощи форматирования строк выведите информацию об id рецепта и кол-ве игредиентов 5 случайных рецептов в виде таблицы следующего вида:\n",
    "\n",
    "    \n",
    "    |    id     | n_in  |\n",
    "    |-------------------|\n",
    "    |  400894   |  13   |\n",
    "    |   68588   |   8   |\n",
    "    |  362081   |   6   |\n",
    "    |   53408   |  12   |\n",
    "    |  221203   |   4   |"
   ]
  },
  {
   "cell_type": "code",
   "execution_count": 45,
   "metadata": {},
   "outputs": [
    {
     "data": {
      "text/html": [
       "<div>\n",
       "<style scoped>\n",
       "    .dataframe tbody tr th:only-of-type {\n",
       "        vertical-align: middle;\n",
       "    }\n",
       "\n",
       "    .dataframe tbody tr th {\n",
       "        vertical-align: top;\n",
       "    }\n",
       "\n",
       "    .dataframe thead th {\n",
       "        text-align: right;\n",
       "    }\n",
       "</style>\n",
       "<table border=\"1\" class=\"dataframe\">\n",
       "  <thead>\n",
       "    <tr style=\"text-align: right;\">\n",
       "      <th></th>\n",
       "      <th>name</th>\n",
       "      <th>id</th>\n",
       "      <th>minutes</th>\n",
       "      <th>contributor_id</th>\n",
       "      <th>submitted</th>\n",
       "      <th>n_steps</th>\n",
       "      <th>description</th>\n",
       "      <th>n_ingredients</th>\n",
       "      <th>tags</th>\n",
       "      <th>n_tags</th>\n",
       "      <th>indredients</th>\n",
       "    </tr>\n",
       "  </thead>\n",
       "  <tbody>\n",
       "    <tr>\n",
       "      <th>1662</th>\n",
       "      <td>bacon fried rice</td>\n",
       "      <td>52190</td>\n",
       "      <td>30</td>\n",
       "      <td>68453</td>\n",
       "      <td>2003-01-24</td>\n",
       "      <td>6</td>\n",
       "      <td>awesome recipe! i can't eat rice any other way...</td>\n",
       "      <td>6</td>\n",
       "      <td>30-minutes-or-less;time-to-make;main-ingredien...</td>\n",
       "      <td>16</td>\n",
       "      <td>garlic powder*green onions*soy sauce*egg*bacon...</td>\n",
       "    </tr>\n",
       "    <tr>\n",
       "      <th>7340</th>\n",
       "      <td>coffee   chocolate smoothie</td>\n",
       "      <td>129180</td>\n",
       "      <td>3</td>\n",
       "      <td>227010</td>\n",
       "      <td>2005-07-09</td>\n",
       "      <td>1</td>\n",
       "      <td>a lovely chocolaty but yet coffee like smoothie.</td>\n",
       "      <td>6</td>\n",
       "      <td>15-minutes-or-less;time-to-make;course;main-in...</td>\n",
       "      <td>23</td>\n",
       "      <td>cream*sugar*chocolate syrup*ice*coffee*chocola...</td>\n",
       "    </tr>\n",
       "    <tr>\n",
       "      <th>26535</th>\n",
       "      <td>swedish  ikea  meatballs</td>\n",
       "      <td>525547</td>\n",
       "      <td>40</td>\n",
       "      <td>1802649943</td>\n",
       "      <td>2016-01-12</td>\n",
       "      <td>14</td>\n",
       "      <td>these homemade meatballs, smothered in a cream...</td>\n",
       "      <td>15</td>\n",
       "      <td>60-minutes-or-less;time-to-make;course;main-in...</td>\n",
       "      <td>17</td>\n",
       "      <td>onion*butter*sour cream*all-purpose flour*brea...</td>\n",
       "    </tr>\n",
       "    <tr>\n",
       "      <th>24072</th>\n",
       "      <td>shrimp dip ii</td>\n",
       "      <td>73056</td>\n",
       "      <td>10</td>\n",
       "      <td>87877</td>\n",
       "      <td>2003-10-10</td>\n",
       "      <td>4</td>\n",
       "      <td>i got this recipe from my boss's wife close to...</td>\n",
       "      <td>11</td>\n",
       "      <td>15-minutes-or-less;time-to-make;course;main-in...</td>\n",
       "      <td>21</td>\n",
       "      <td>worcestershire sauce*tabasco sauce*milk*fresh ...</td>\n",
       "    </tr>\n",
       "    <tr>\n",
       "      <th>12523</th>\n",
       "      <td>greek apple salad with pine nuts and feta</td>\n",
       "      <td>76368</td>\n",
       "      <td>10</td>\n",
       "      <td>80353</td>\n",
       "      <td>2003-11-13</td>\n",
       "      <td>6</td>\n",
       "      <td>a very refreshing salad to be enjoyed any time...</td>\n",
       "      <td>11</td>\n",
       "      <td>15-minutes-or-less;time-to-make;course;main-in...</td>\n",
       "      <td>23</td>\n",
       "      <td>sugar*olive oil*dijon mustard*red onion*pine n...</td>\n",
       "    </tr>\n",
       "  </tbody>\n",
       "</table>\n",
       "</div>"
      ],
      "text/plain": [
       "                                            name      id  minutes  \\\n",
       "1662                            bacon fried rice   52190       30   \n",
       "7340                 coffee   chocolate smoothie  129180        3   \n",
       "26535                   swedish  ikea  meatballs  525547       40   \n",
       "24072                              shrimp dip ii   73056       10   \n",
       "12523  greek apple salad with pine nuts and feta   76368       10   \n",
       "\n",
       "       contributor_id  submitted  n_steps  \\\n",
       "1662            68453 2003-01-24        6   \n",
       "7340           227010 2005-07-09        1   \n",
       "26535      1802649943 2016-01-12       14   \n",
       "24072           87877 2003-10-10        4   \n",
       "12523           80353 2003-11-13        6   \n",
       "\n",
       "                                             description  n_ingredients  \\\n",
       "1662   awesome recipe! i can't eat rice any other way...              6   \n",
       "7340    a lovely chocolaty but yet coffee like smoothie.              6   \n",
       "26535  these homemade meatballs, smothered in a cream...             15   \n",
       "24072  i got this recipe from my boss's wife close to...             11   \n",
       "12523  a very refreshing salad to be enjoyed any time...             11   \n",
       "\n",
       "                                                    tags  n_tags  \\\n",
       "1662   30-minutes-or-less;time-to-make;main-ingredien...      16   \n",
       "7340   15-minutes-or-less;time-to-make;course;main-in...      23   \n",
       "26535  60-minutes-or-less;time-to-make;course;main-in...      17   \n",
       "24072  15-minutes-or-less;time-to-make;course;main-in...      21   \n",
       "12523  15-minutes-or-less;time-to-make;course;main-in...      23   \n",
       "\n",
       "                                             indredients  \n",
       "1662   garlic powder*green onions*soy sauce*egg*bacon...  \n",
       "7340   cream*sugar*chocolate syrup*ice*coffee*chocola...  \n",
       "26535  onion*butter*sour cream*all-purpose flour*brea...  \n",
       "24072  worcestershire sauce*tabasco sauce*milk*fresh ...  \n",
       "12523  sugar*olive oil*dijon mustard*red onion*pine n...  "
      ]
     },
     "execution_count": 45,
     "metadata": {},
     "output_type": "execute_result"
    }
   ],
   "source": [
    "recipes = pd.read_csv('recipes_sample_with_tags_ingredients.csv', parse_dates=['submitted'], index_col=0)\n",
    "rec = recipes.sample(5)\n",
    "rec"
   ]
  },
  {
   "cell_type": "code",
   "execution_count": 119,
   "metadata": {},
   "outputs": [
    {
     "name": "stdout",
     "output_type": "stream",
     "text": [
      "|     id     |   n_in   |\n",
      "|-----------------------|\n",
      "|   52190    |    6     |\n",
      "|   129180   |    6     |\n",
      "|   525547   |    15    |\n",
      "|   73056    |    11    |\n",
      "|   76368    |    11    |\n"
     ]
    }
   ],
   "source": [
    "print(f\"| {'id':^10} | {'n_in':^8} |\")\n",
    "print(f\"|{'':-^23}|\")\n",
    "for i, line in rec.iterrows():\n",
    "      print(f\"| {line['id']:^10} | {line['n_ingredients']:^8} |\")"
   ]
  },
  {
   "cell_type": "markdown",
   "metadata": {},
   "source": [
    "1.2 Напишите функцию `show_info`, которая для рецепта по его `id` создает строку (в смысле объекта python) с описанием следующего вида:\n",
    "\n",
    "```\n",
    "\"Название\"\n",
    "\n",
    "1. Шаг 1.\n",
    "2. Шаг 2.\n",
    "----------\n",
    "#тэг1 #тэг2\n",
    "```\n",
    "\n",
    "    \n",
    "Данные для создания строки получите из файлов `recipes_sample_with_tags_ingredients.csv`, `steps_sample.xml` (__ЛР4__) и `tags_sample.csv` (__ЛР5__). \n",
    "Выведите созданную строку на экран."
   ]
  },
  {
   "cell_type": "code",
   "execution_count": null,
   "metadata": {},
   "outputs": [],
   "source": []
  },
  {
   "cell_type": "markdown",
   "metadata": {},
   "source": [
    "## Работа с регулярными выражениями"
   ]
  },
  {
   "cell_type": "markdown",
   "metadata": {},
   "source": [
    "В задачах данного блока подразумевается, что вы не будете использовать никаких строковые методы (`split`, `startswith` и т.д.). Все задачи необходимо решить при помощи регулярных выражений."
   ]
  },
  {
   "cell_type": "markdown",
   "metadata": {},
   "source": [
    "2.1 Посчитайте кол-во отзывов, в которых встречаются числа."
   ]
  },
  {
   "cell_type": "markdown",
   "metadata": {},
   "source": [
    "2.2 Найдите все смайлики в отзывах. Смайлик состоит из трех частей: глаза (символ `=` или `:`), нос (символ `-`), губы (символ `)` или `(`). Смайлик может иметь вид \"глаза-нос-губы\" или \"губы-нос-глаза\". Нос может отсутствовать."
   ]
  },
  {
   "cell_type": "markdown",
   "metadata": {},
   "source": [
    "2.3 Проверьте, что все даты в датасете имеют вид \"YYYY-MM-DD\". Продемонстрируйте работу вашего решения, приведя пример из датасета и контрпример не из датасета."
   ]
  },
  {
   "cell_type": "markdown",
   "metadata": {},
   "source": [
    "2.4 Используя строку-результат задачи 1.2, найдите первое слово каждого шага в рецепте"
   ]
  },
  {
   "cell_type": "markdown",
   "metadata": {},
   "source": [
    "2.5 Используя регулярные выражения, удалите из описаний все символы, кроме английских букв, цифр и пробелов. Сохраните предобработанные описания в файл `preprocessed_descriptions.csv`, содержащий 2 столбца: `name` и `preprocessed_descriptions`."
   ]
  },
  {
   "cell_type": "markdown",
   "metadata": {},
   "source": [
    "### Сегментация текста"
   ]
  },
  {
   "cell_type": "markdown",
   "metadata": {},
   "source": [
    "3.1 Разбейте отзывы из файла `recipes_sample.csv` (__ЛР2__) на предложения, а предложения - на слова (используйте `sent_tokenize` и `word_tokenize` из `nltk`). Каждый отзыв представьте в виде списка списков: внешний список - предложения, вложенные списки - слова в предложении. Исключите знаки препинания из списков слов.\n",
    "\n",
    "`'Предложение номер один. Предложение номер два.' => [['Предложение', 'номер', 'один'], ['Предложение', 'номер', 'два']]`"
   ]
  },
  {
   "cell_type": "markdown",
   "metadata": {},
   "source": [
    "3.2 Посчитайте кол-во уникальных слов среди всех отзывов (без учета регистра и знаков препинания)."
   ]
  },
  {
   "cell_type": "markdown",
   "metadata": {},
   "source": [
    "3.3 Найдите 5 самых длинных (по количеству слов; без учета знаков препинания) отзывов в датасете и выведите их в порядке убывания длины."
   ]
  },
  {
   "cell_type": "markdown",
   "metadata": {},
   "source": [
    "3.4 Напишите функцию, которая для заданного предложения выводит информацию о частях речи слов, входящих в предложение, в следующем виде:\n",
    "```\n",
    "PRP   VBD   DT      NNS     CC   VBD      NNS        RB   \n",
    " I  omitted the raspberries and added strawberries instead\n",
    "``` \n",
    "Для определения части речи слова можно воспользоваться `nltk.pos_tag`.\n",
    "\n",
    "Проверьте работоспособность функции на любом предложении из отзывов.\n"
   ]
  },
  {
   "cell_type": "markdown",
   "metadata": {},
   "source": [
    "#### [версия 2]\n",
    "* Уточнены формулировки задач 3.1-3.3"
   ]
  },
  {
   "cell_type": "code",
   "execution_count": null,
   "metadata": {},
   "outputs": [],
   "source": []
  }
 ],
 "metadata": {
  "interpreter": {
   "hash": "b3ba2566441a7c06988d0923437866b63cedc61552a5af99d1f4fb67d367b25f"
  },
  "kernelspec": {
   "display_name": "Python 3.8.8 64-bit ('base': conda)",
   "name": "python3"
  },
  "language_info": {
   "codemirror_mode": {
    "name": "ipython",
    "version": 3
   },
   "file_extension": ".py",
   "mimetype": "text/x-python",
   "name": "python",
   "nbconvert_exporter": "python",
   "pygments_lexer": "ipython3",
   "version": "3.8.8"
  }
 },
 "nbformat": 4,
 "nbformat_minor": 4
}
