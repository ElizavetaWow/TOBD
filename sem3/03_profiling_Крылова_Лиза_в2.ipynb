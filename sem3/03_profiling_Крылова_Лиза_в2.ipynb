{
 "cells": [
  {
   "cell_type": "markdown",
   "source": [
    "## Оптимизация выполнения кода, векторизация, Numba"
   ],
   "metadata": {}
  },
  {
   "cell_type": "markdown",
   "source": [
    "Материалы:\n",
    "* Макрушин С.В. Лекция 3: Оптимизация выполнения кода, векторизация, Numba\n",
    "* IPython Cookbook, Second Edition (2018), глава 4\n",
    "* https://numba.pydata.org/numba-doc/latest/user/5minguide.html"
   ],
   "metadata": {}
  },
  {
   "cell_type": "code",
   "execution_count": 171,
   "source": [
    "import numpy as np\r\n",
    "import pandas as pd\r\n",
    "import numba\r\n",
    "from numba import jit, njit"
   ],
   "outputs": [],
   "metadata": {}
  },
  {
   "cell_type": "markdown",
   "source": [
    "## Задачи для совместного разбора"
   ],
   "metadata": {}
  },
  {
   "cell_type": "markdown",
   "source": [
    "1. Сгенерируйте массив `A` из `N=1млн` случайных целых чисел на отрезке от 0 до 1000. Пусть `B[i] = A[i] + 100`. Посчитайте среднее значение массива `B`."
   ],
   "metadata": {}
  },
  {
   "cell_type": "code",
   "execution_count": 2,
   "source": [
    "A = np.random.randint(0, 1000, size=1000000)\r\n",
    "B = A+100\r\n",
    "B.mean()"
   ],
   "outputs": [
    {
     "output_type": "execute_result",
     "data": {
      "text/plain": [
       "599.673194"
      ]
     },
     "metadata": {},
     "execution_count": 2
    }
   ],
   "metadata": {}
  },
  {
   "cell_type": "markdown",
   "source": [
    "2. Создайте таблицу 2млн строк и с 4 столбцами, заполненными случайными числами. Добавьте столбец `key`, которые содержит элементы из множества английских букв. Выберите из таблицы подмножество строк, для которых в столбце `key` указаны первые 5 английских букв."
   ],
   "metadata": {}
  },
  {
   "cell_type": "code",
   "execution_count": 3,
   "source": [
    "df = pd.DataFrame(np.random.randint(0, 1000, size=(2000000, 4)),\r\n",
    "                  columns=['col1', 'col2', 'col3', 'col4'])\r\n",
    "letters = ['a', 'b', 'c', 'd', 'e', 'f', 'g']\r\n",
    "df['key'] = np.random.choice(letters, 2000000, replace=True)\r\n",
    "def g(df):\r\n",
    "    letters = ['a', 'b', 'c', 'd', 'e']\r\n",
    "    dfs = []\r\n",
    "    for letter in letters:\r\n",
    "        q = df[df['key']==letter]\r\n",
    "        dfs.append(q)\r\n",
    "    return pd.concat(dfs, axis=0)\r\n",
    "g(df).head()"
   ],
   "outputs": [
    {
     "output_type": "execute_result",
     "data": {
      "text/html": [
       "<div>\n",
       "<style scoped>\n",
       "    .dataframe tbody tr th:only-of-type {\n",
       "        vertical-align: middle;\n",
       "    }\n",
       "\n",
       "    .dataframe tbody tr th {\n",
       "        vertical-align: top;\n",
       "    }\n",
       "\n",
       "    .dataframe thead th {\n",
       "        text-align: right;\n",
       "    }\n",
       "</style>\n",
       "<table border=\"1\" class=\"dataframe\">\n",
       "  <thead>\n",
       "    <tr style=\"text-align: right;\">\n",
       "      <th></th>\n",
       "      <th>col1</th>\n",
       "      <th>col2</th>\n",
       "      <th>col3</th>\n",
       "      <th>col4</th>\n",
       "      <th>key</th>\n",
       "    </tr>\n",
       "  </thead>\n",
       "  <tbody>\n",
       "    <tr>\n",
       "      <th>5</th>\n",
       "      <td>482</td>\n",
       "      <td>452</td>\n",
       "      <td>422</td>\n",
       "      <td>378</td>\n",
       "      <td>a</td>\n",
       "    </tr>\n",
       "    <tr>\n",
       "      <th>8</th>\n",
       "      <td>427</td>\n",
       "      <td>160</td>\n",
       "      <td>68</td>\n",
       "      <td>417</td>\n",
       "      <td>a</td>\n",
       "    </tr>\n",
       "    <tr>\n",
       "      <th>15</th>\n",
       "      <td>118</td>\n",
       "      <td>17</td>\n",
       "      <td>196</td>\n",
       "      <td>993</td>\n",
       "      <td>a</td>\n",
       "    </tr>\n",
       "    <tr>\n",
       "      <th>24</th>\n",
       "      <td>185</td>\n",
       "      <td>608</td>\n",
       "      <td>109</td>\n",
       "      <td>895</td>\n",
       "      <td>a</td>\n",
       "    </tr>\n",
       "    <tr>\n",
       "      <th>35</th>\n",
       "      <td>210</td>\n",
       "      <td>512</td>\n",
       "      <td>179</td>\n",
       "      <td>228</td>\n",
       "      <td>a</td>\n",
       "    </tr>\n",
       "  </tbody>\n",
       "</table>\n",
       "</div>"
      ],
      "text/plain": [
       "    col1  col2  col3  col4 key\n",
       "5    482   452   422   378   a\n",
       "8    427   160    68   417   a\n",
       "15   118    17   196   993   a\n",
       "24   185   608   109   895   a\n",
       "35   210   512   179   228   a"
      ]
     },
     "metadata": {},
     "execution_count": 3
    }
   ],
   "metadata": {}
  },
  {
   "cell_type": "markdown",
   "source": [
    "## Лабораторная работа 3"
   ],
   "metadata": {}
  },
  {
   "cell_type": "code",
   "execution_count": 35,
   "source": [
    " #!pip install line_profiler\r\n",
    "%reload_ext line_profiler"
   ],
   "outputs": [],
   "metadata": {}
  },
  {
   "cell_type": "code",
   "execution_count": 36,
   "source": [
    "%reload_ext memory_profiler"
   ],
   "outputs": [],
   "metadata": {}
  },
  {
   "cell_type": "markdown",
   "source": [
    "1. В файлах `recipes_sample.csv` и `reviews_sample.csv` (__ЛР 2__) находится информация об рецептах блюд и отзывах на эти рецепты соответственно. Загрузите данные из файлов в виде `pd.DataFrame` с названиями `recipes` и `reviews`. Обратите внимание на корректное считывание столбца(ов) с индексами. Приведите столбцы к нужным типам.\n",
    "\n",
    "Реализуйте несколько вариантов функции подсчета среднего значения столбца `rating` из таблицы `reviews` для отзывов, оставленных в 2010 году.\n",
    "\n",
    "A. С использованием метода `DataFrame.iterrows` исходной таблицы;\n",
    "\n",
    "Б. С использованием метода `DataFrame.iterrows` таблицы, в которой сохранены только отзывы за 2010 год;\n",
    "\n",
    "В. С использованием метода `Series.mean`.\n",
    "\n",
    "Проверьте, что результаты работы всех написанных функций корректны и совпадают. Измерьте выполнения всех написанных функций.\n"
   ],
   "metadata": {}
  },
  {
   "cell_type": "code",
   "execution_count": 2,
   "source": [
    "recipes = pd.read_csv(\"recipes_sample.csv\", sep=\",\", parse_dates=['submitted'])\r\n",
    "reviews = pd.read_csv(\"reviews_sample.csv\", sep=\",\", parse_dates=['date'], index_col=0)\r\n",
    "reviews.reset_index(drop = True, inplace=True)"
   ],
   "outputs": [],
   "metadata": {}
  },
  {
   "cell_type": "code",
   "execution_count": 11,
   "source": [
    "def mean_A(reviews):\r\n",
    "    ratS = 0\r\n",
    "    k = 0\r\n",
    "    for i, r in reviews.iterrows():\r\n",
    "        if r.date.year == 2010:\r\n",
    "            ratS += r['rating']\r\n",
    "            k += 1\r\n",
    "    return ratS/k"
   ],
   "outputs": [],
   "metadata": {}
  },
  {
   "cell_type": "code",
   "execution_count": 12,
   "source": [
    "def mean_B(reviews):\r\n",
    "    rv = reviews[reviews.date.dt.year == 2010]\r\n",
    "    ratS = 0\r\n",
    "    for i, r in rv.iterrows():\r\n",
    "        ratS += r['rating']\r\n",
    "    return ratS/rv.shape[0]"
   ],
   "outputs": [],
   "metadata": {}
  },
  {
   "cell_type": "code",
   "execution_count": 13,
   "source": [
    "def mean_C(reviews):\r\n",
    "    return reviews[reviews.date.dt.year == 2010]['rating'].mean()"
   ],
   "outputs": [],
   "metadata": {}
  },
  {
   "cell_type": "code",
   "execution_count": 14,
   "source": [
    "%%time\r\n",
    "print(mean_A(reviews))"
   ],
   "outputs": [
    {
     "output_type": "stream",
     "name": "stderr",
     "text": [
      "` not found.\n"
     ]
    }
   ],
   "metadata": {}
  },
  {
   "cell_type": "code",
   "execution_count": 15,
   "source": [
    "%%time\r\n",
    "mean_B(reviews)"
   ],
   "outputs": [
    {
     "output_type": "stream",
     "name": "stderr",
     "text": [
      "` not found.\n"
     ]
    }
   ],
   "metadata": {}
  },
  {
   "cell_type": "code",
   "execution_count": 16,
   "source": [
    "%%time\r\n",
    "print(mean_C(reviews))"
   ],
   "outputs": [
    {
     "output_type": "stream",
     "name": "stderr",
     "text": [
      "` not found.\n"
     ]
    }
   ],
   "metadata": {}
  },
  {
   "cell_type": "markdown",
   "source": [
    "2. Какая из созданных функций выполняется медленнее? Что наиболее сильно влияет на скорость выполнения? Для ответа использовать профайлер `line_profiler`. Сохраните результаты работы профайлера в отдельную текстовую ячейку и прокомментируйте результаты его работы.\n",
    "\n",
    "(*). Сможете ли вы ускорить работу функции 1Б, отказавшись от использования метода `iterrows`, но не используя метод `mean`?"
   ],
   "metadata": {}
  },
  {
   "cell_type": "code",
   "execution_count": 17,
   "source": [
    "%lprun -f mean_A mean_A(reviews)"
   ],
   "outputs": [
    {
     "output_type": "stream",
     "name": "stdout",
     "text": [
      "Timer unit: 1e-07 s\n",
      "\n",
      "Total time: 34.1637 s\n",
      "File: <ipython-input-11-fb9491a545bc>\n",
      "Function: mean_A at line 1\n",
      "\n",
      "Line #      Hits         Time  Per Hit   % Time  Line Contents\n",
      "==============================================================\n",
      "     1                                           def mean_A(reviews):\n",
      "     2         1         15.0     15.0      0.0      ratS = 0\n",
      "     3         1          6.0      6.0      0.0      k = 0\n",
      "     4    126697  285276191.0   2251.6     83.5      for i, r in reviews.iterrows():\n",
      "     5    126696   53535290.0    422.5     15.7          if r.date.year == 2010:\n",
      "     6     12094    2750851.0    227.5      0.8              ratS += r['rating']\n",
      "     7     12094      74385.0      6.2      0.0              k += 1\n",
      "     8         1         15.0     15.0      0.0      return ratS/k"
     ]
    }
   ],
   "metadata": {}
  },
  {
   "cell_type": "markdown",
   "source": [
    "Timer unit: 1e-07 s\r\n",
    "\r\n",
    "Total time: 33.5067 s\r\n",
    "File: <ipython-input-131-c151a5cd4da1>\r\n",
    "Function: mean_A at line 1\r\n",
    "\r\n",
    "Line #      Hits         Time  Per Hit   % Time  Line Contents\r\n",
    "==============================================================\r\n",
    "     1                                           def mean_A(reviews):\r\n",
    "     2         1         15.0     15.0      0.0      ratS = 0\r\n",
    "     3         1          8.0      8.0      0.0      k = 0\r\n",
    "     4    126697  279562694.0   2206.5     83.4      for i, r in reviews.iterrows():\r\n",
    "     5    126696   52714967.0    416.1     15.7          if r.date.year == 2010:\r\n",
    "     6     12094    2707164.0    223.8      0.8              ratS += r['rating']\r\n",
    "     7     12094      82230.0      6.8      0.0              k += 1\r\n",
    "     8         1         12.0     12.0      0.0      return ratS/k"
   ],
   "metadata": {}
  },
  {
   "cell_type": "markdown",
   "source": [
    "Больше всего времени тратится на интерации цикла и проверку условия"
   ],
   "metadata": {}
  },
  {
   "cell_type": "code",
   "execution_count": null,
   "source": [
    "%lprun -f mean_B mean_B(reviews)"
   ],
   "outputs": [
    {
     "output_type": "stream",
     "name": "stdout",
     "text": [
      "Timer unit: 1e-07 s\n",
      "\n",
      "Total time: 2.83106 s\n",
      "File: <ipython-input-132-2ada19111e66>\n",
      "Function: mean_B at line 1\n",
      "\n",
      "Line #      Hits         Time  Per Hit   % Time  Line Contents\n",
      "==============================================================\n",
      "     1                                           def mean_B(reviews):\n",
      "     2         1     167908.0 167908.0      0.6      rv = reviews[reviews.date.dt.year == 2010]\n",
      "     3         1         13.0     13.0      0.0      ratS = 0\n",
      "     4     12095   24993617.0   2066.4     88.3      for i, r in rv.iterrows():\n",
      "     5     12094    3148955.0    260.4     11.1          ratS += r['rating']\n",
      "     6         1         81.0     81.0      0.0      return ratS/rv.shape[0]"
     ]
    }
   ],
   "metadata": {}
  },
  {
   "cell_type": "markdown",
   "source": [
    "Timer unit: 1e-07 s\r\n",
    "\r\n",
    "Total time: 2.83106 s\r\n",
    "File: <ipython-input-132-2ada19111e66>\r\n",
    "Function: mean_B at line 1\r\n",
    "\r\n",
    "Line #      Hits         Time  Per Hit   % Time  Line Contents\r\n",
    "==============================================================\r\n",
    "     1                                           def mean_B(reviews):\r\n",
    "     2         1     167908.0 167908.0      0.6      rv = reviews[reviews.date.dt.year == 2010]\r\n",
    "     3         1         13.0     13.0      0.0      ratS = 0\r\n",
    "     4     12095   24993617.0   2066.4     88.3      for i, r in rv.iterrows():\r\n",
    "     5     12094    3148955.0    260.4     11.1          ratS += r['rating']\r\n",
    "     6         1         81.0     81.0      0.0      return ratS/rv.shape[0]"
   ],
   "metadata": {}
  },
  {
   "cell_type": "markdown",
   "source": [
    "Больше всего времени тратится на интерации цикла"
   ],
   "metadata": {}
  },
  {
   "cell_type": "code",
   "execution_count": null,
   "source": [
    "%lprun -f mean_C mean_C(reviews)"
   ],
   "outputs": [
    {
     "output_type": "stream",
     "name": "stdout",
     "text": [
      "Timer unit: 1e-07 s\n",
      "\n",
      "Total time: 0.0171297 s\n",
      "File: <ipython-input-133-35496f1ea080>\n",
      "Function: mean_C at line 1\n",
      "\n",
      "Line #      Hits         Time  Per Hit   % Time  Line Contents\n",
      "==============================================================\n",
      "     1                                           def mean_C(reviews):\n",
      "     2         1     171297.0 171297.0    100.0      return reviews[reviews.date.dt.year == 2010]['rating'].mean()"
     ]
    }
   ],
   "metadata": {}
  },
  {
   "cell_type": "markdown",
   "source": [
    "Timer unit: 1e-07 s\r\n",
    "\r\n",
    "Total time: 0.0171297 s\r\n",
    "File: <ipython-input-133-35496f1ea080>\r\n",
    "Function: mean_C at line 1\r\n",
    "\r\n",
    "Line #      Hits         Time  Per Hit   % Time  Line Contents\r\n",
    "==============================================================\r\n",
    "     1                                           def mean_C(reviews):\r\n",
    "     2         1     171297.0 171297.0    100.0      return reviews[reviews.date.dt.year == 2010]['rating'].mean()"
   ],
   "metadata": {}
  },
  {
   "cell_type": "code",
   "execution_count": 18,
   "source": [
    "def mean_B1(reviews):\r\n",
    "    rv = reviews[reviews.date.dt.year == 2010]\r\n",
    "    return rv['rating'].sum()/rv.shape[0]"
   ],
   "outputs": [],
   "metadata": {}
  },
  {
   "cell_type": "code",
   "execution_count": 19,
   "source": [
    "mean_B1(reviews)"
   ],
   "outputs": [
    {
     "output_type": "execute_result",
     "data": {
      "text/plain": [
       "4.4544402182900615"
      ]
     },
     "metadata": {},
     "execution_count": 19
    }
   ],
   "metadata": {}
  },
  {
   "cell_type": "code",
   "execution_count": null,
   "source": [
    "%lprun -f mean_B1 mean_B1(reviews)"
   ],
   "outputs": [
    {
     "output_type": "stream",
     "name": "stdout",
     "text": [
      "Timer unit: 1e-07 s\n",
      "\n",
      "Total time: 0.0196799 s\n",
      "File: <ipython-input-140-4f01dfa41a1e>\n",
      "Function: mean_B1 at line 1\n",
      "\n",
      "Line #      Hits         Time  Per Hit   % Time  Line Contents\n",
      "==============================================================\n",
      "     1                                           def mean_B1(reviews):\n",
      "     2         1     184861.0 184861.0     93.9      rv = reviews[reviews.date.dt.year == 2010]\n",
      "     3         1      11938.0  11938.0      6.1      return rv['rating'].sum()/rv.shape[0]"
     ]
    }
   ],
   "metadata": {}
  },
  {
   "cell_type": "markdown",
   "source": [
    "Timer unit: 1e-07 s\r\n",
    "\r\n",
    "Total time: 0.0196799 s\r\n",
    "File: <ipython-input-140-4f01dfa41a1e>\r\n",
    "Function: mean_B1 at line 1\r\n",
    "\r\n",
    "Line #      Hits         Time  Per Hit   % Time  Line Contents\r\n",
    "==============================================================\r\n",
    "     1                                           def mean_B1(reviews):\r\n",
    "     2         1     184861.0 184861.0     93.9      rv = reviews[reviews.date.dt.year == 2010]\r\n",
    "     3         1      11938.0  11938.0      6.1      return rv['rating'].sum()/rv.shape[0]"
   ],
   "metadata": {}
  },
  {
   "cell_type": "markdown",
   "source": [
    "3. Вам предлагается воспользоваться функцией, которая собирает статистику о том, сколько отзывов содержат то или иное слово. Измерьте время выполнения этой функции. Сможете ли вы найти узкие места в коде, используя профайлер? Выпишите (словами), что в имеющемся коде реализовано неоптимально. Оптимизируйте функцию и добейтесь значительного (как минимум, на один порядок) прироста в скорости выполнения."
   ],
   "metadata": {}
  },
  {
   "cell_type": "code",
   "execution_count": 37,
   "source": [
    "def get_word_reviews_count(df):\r\n",
    "    word_reviews = {}\r\n",
    "    for _, row in df.dropna(subset=['review']).iterrows():\r\n",
    "        recipe_id, review = row['recipe_id'], row['review']\r\n",
    "        words = review.split(' ')\r\n",
    "        for word in words:\r\n",
    "            if word not in word_reviews:\r\n",
    "                word_reviews[word] = []\r\n",
    "            word_reviews[word].append(recipe_id)\r\n",
    "    word_reviews_count = {}\r\n",
    "    for _, row in df.dropna(subset=['review']).iterrows():\r\n",
    "        review = row['review']\r\n",
    "        words = review.split(' ')\r\n",
    "        for word in words:\r\n",
    "            word_reviews_count[word] = len(word_reviews[word])\r\n",
    "    return word_reviews_count"
   ],
   "outputs": [],
   "metadata": {}
  },
  {
   "cell_type": "code",
   "execution_count": 40,
   "source": [
    "%lprun -f get_word_reviews_count get_word_reviews_count(reviews)"
   ],
   "outputs": [
    {
     "output_type": "stream",
     "name": "stdout",
     "text": [
      "Timer unit: 1e-07 s\n",
      "\n",
      "Total time: 94.8331 s\n",
      "File: <ipython-input-37-f2b5c45f390a>\n",
      "Function: get_word_reviews_count at line 1\n",
      "\n",
      "Line #      Hits         Time  Per Hit   % Time  Line Contents\n",
      "==============================================================\n",
      "     1                                           def get_word_reviews_count(df):\n",
      "     2         1         44.0     44.0      0.0      word_reviews = {}\n",
      "     3    126680  307372721.0   2426.4     32.4      for _, row in df.dropna(subset=['review']).iterrows():\n",
      "     4    126679   65111357.0    514.0      6.9          recipe_id, review = row['recipe_id'], row['review']\n",
      "     5    126679    7858419.0     62.0      0.8          words = review.split(' ')\n",
      "     6   6918689   30722058.0      4.4      3.2          for word in words:\n",
      "     7   6792010   46552338.0      6.9      4.9              if word not in word_reviews:\n",
      "     8    174426    1295688.0      7.4      0.1                  word_reviews[word] = []\n",
      "     9   6792010   50238494.0      7.4      5.3              word_reviews[word].append(recipe_id)\n",
      "    10         1         24.0     24.0      0.0      word_reviews_count = {}\n",
      "    11    126680  291349315.0   2299.9     30.7      for _, row in df.dropna(subset=['review']).iterrows():\n",
      "    12    126679   37424069.0    295.4      3.9          review = row['review']\n",
      "    13    126679    7654003.0     60.4      0.8          words = review.split(' ')\n",
      "    14   6918689   31503737.0      4.6      3.3          for word in words:\n",
      "    15   6792010   71249044.0     10.5      7.5              word_reviews_count[word] = len(word_reviews[word])\n",
      "    16         1         18.0     18.0      0.0      return word_reviews_count"
     ]
    }
   ],
   "metadata": {}
  },
  {
   "cell_type": "markdown",
   "source": [
    "Timer unit: 1e-07 s\r\n",
    "\r\n",
    "Total time: 94.8331 s\r\n",
    "File: <ipython-input-37-f2b5c45f390a>\r\n",
    "Function: get_word_reviews_count at line 1\r\n",
    "\r\n",
    "Line #      Hits         Time  Per Hit   % Time  Line Contents\r\n",
    "==============================================================\r\n",
    "     1                                           def get_word_reviews_count(df):\r\n",
    "     2         1         44.0     44.0      0.0      word_reviews = {}\r\n",
    "     3    126680  307372721.0   2426.4     32.4      for _, row in df.dropna(subset=['review']).iterrows():\r\n",
    "     4    126679   65111357.0    514.0      6.9          recipe_id, review = row['recipe_id'], row['review']\r\n",
    "     5    126679    7858419.0     62.0      0.8          words = review.split(' ')\r\n",
    "     6   6918689   30722058.0      4.4      3.2          for word in words:\r\n",
    "     7   6792010   46552338.0      6.9      4.9              if word not in word_reviews:\r\n",
    "     8    174426    1295688.0      7.4      0.1                  word_reviews[word] = []\r\n",
    "     9   6792010   50238494.0      7.4      5.3              word_reviews[word].append(recipe_id)\r\n",
    "    10         1         24.0     24.0      0.0      word_reviews_count = {}\r\n",
    "    11    126680  291349315.0   2299.9     30.7      for _, row in df.dropna(subset=['review']).iterrows():\r\n",
    "    12    126679   37424069.0    295.4      3.9          review = row['review']\r\n",
    "    13    126679    7654003.0     60.4      0.8          words = review.split(' ')\r\n",
    "    14   6918689   31503737.0      4.6      3.3          for word in words:\r\n",
    "    15   6792010   71249044.0     10.5      7.5              word_reviews_count[word] = len(word_reviews[word])\r\n",
    "    16         1         18.0     18.0      0.0      return word_reviews_count"
   ],
   "metadata": {}
  },
  {
   "cell_type": "markdown",
   "source": [
    "Во-первых, данную функцию как минимум замедляет наличие двух похожих циклов. Во-вторых, мы храним индексы, которые не нужны. В-третьих, сама функция работает не совсем корректно."
   ],
   "metadata": {}
  },
  {
   "cell_type": "code",
   "execution_count": 47,
   "source": [
    "def get_word_reviews_count2(df):\r\n",
    "    k = 0\r\n",
    "    word_reviews = dict.fromkeys(\" \".join(reviews['review'].dropna()).split(' '), 0)\r\n",
    "    for row in df['review'].dropna():\r\n",
    "        for word in set(row.split(' ')):\r\n",
    "            word_reviews[word] += 1\r\n",
    "    return word_reviews"
   ],
   "outputs": [],
   "metadata": {}
  },
  {
   "cell_type": "code",
   "execution_count": 46,
   "source": [
    "%lprun -f get_word_reviews_count2 get_word_reviews_count2(reviews)"
   ],
   "outputs": [
    {
     "output_type": "stream",
     "name": "stdout",
     "text": [
      "Timer unit: 1e-07 s\n",
      "\n",
      "Total time: 9.2698 s\n",
      "File: <ipython-input-45-c95051c92bb4>\n",
      "Function: get_word_reviews_count2 at line 1\n",
      "\n",
      "Line #      Hits         Time  Per Hit   % Time  Line Contents\n",
      "==============================================================\n",
      "     1                                           def get_word_reviews_count2(df):\n",
      "     2         1         21.0     21.0      0.0      k = 0\n",
      "     3         1   16691021.0 16691021.0     18.0      word_reviews = dict.fromkeys(\" \".join(reviews['review'].dropna()).split(' '), 0)\n",
      "     4    126680    1109065.0      8.8      1.2      for row in df['review'].dropna():\n",
      "     5                                           \n",
      "     6   5513986   34795738.0      6.3     37.5          for word in set(row.split(' ')):\n",
      "     7   5387307   40102150.0      7.4     43.3              word_reviews[word] += 1\n",
      "     8         1         30.0     30.0      0.0      return word_reviews"
     ]
    }
   ],
   "metadata": {}
  },
  {
   "cell_type": "markdown",
   "source": [
    "Timer unit: 1e-07 s\r\n",
    "\r\n",
    "Total time: 9.2698 s\r\n",
    "File: <ipython-input-45-c95051c92bb4>\r\n",
    "Function: get_word_reviews_count2 at line 1\r\n",
    "\r\n",
    "Line #      Hits         Time  Per Hit   % Time  Line Contents\r\n",
    "==============================================================\r\n",
    "     1                                           def get_word_reviews_count2(df):\r\n",
    "     2         1         21.0     21.0      0.0      k = 0\r\n",
    "     3         1   16691021.0 16691021.0     18.0      word_reviews = dict.fromkeys(\" \".join(reviews['review'].dropna()).split(' '), 0)\r\n",
    "     4    126680    1109065.0      8.8      1.2      for row in df['review'].dropna():\r\n",
    "     5                                           \r\n",
    "     6   5513986   34795738.0      6.3     37.5          for word in set(row.split(' ')):\r\n",
    "     7   5387307   40102150.0      7.4     43.3              word_reviews[word] += 1\r\n",
    "     8         1         30.0     30.0      0.0      return word_reviews"
   ],
   "metadata": {}
  },
  {
   "cell_type": "markdown",
   "source": [
    "4. Напишите несколько версий функции `MAPE` (см. [MAPE](https://en.wikipedia.org/wiki/Mean_absolute_percentage_error)) для расчета среднего абсолютного процентного отклонения значения рейтинга отзыва на рецепт от среднего значения рейтинга по всем отзывам для этого рецепта. \r\n",
    "    1. Без использования векторизованных операций и методов массивов `numpy` и без использования `numba`\r\n",
    "    2. Без использования векторизованных операций и методов массивов `numpy`, но с использованием `numba`\r\n",
    "    3. С использованием векторизованных операций и методов массивов `numpy`, но без использования `numba`\r\n",
    "    4. C использованием векторизованных операций и методов массивов `numpy` и `numba`\r\n",
    "    \r\n",
    "Измерьте время выполнения каждой из реализаций.\r\n",
    "\r\n",
    "Замечание: удалите из выборки отзывы с нулевым рейтингом.\r\n"
   ],
   "metadata": {}
  },
  {
   "cell_type": "code",
   "execution_count": 164,
   "source": [
    "rv = reviews[reviews['rating'] != 0]"
   ],
   "outputs": [],
   "metadata": {}
  },
  {
   "cell_type": "code",
   "execution_count": 195,
   "source": [
    "def mape_1(df):\r\n",
    "    mn = {}\r\n",
    "    for _, row in df.iterrows():\r\n",
    "        if row['recipe_id'] not in mn.keys():\r\n",
    "            mn[row['recipe_id']] = {'n': 0, 'sum': 0}\r\n",
    "        mn[row['recipe_id']]['sum'] += row['rating']\r\n",
    "        mn[row['recipe_id']]['n'] += 1\r\n",
    "    for id in mn:\r\n",
    "        mn[id]['mean'] = mn[id]['sum']/mn[id]['n']\r\n",
    "    mape = {}\r\n",
    "    for _, row in df.iterrows():\r\n",
    "        if row['recipe_id'] not in mape.keys():\r\n",
    "            mape[row['recipe_id']] = {'s': 0}\r\n",
    "        mape[row['recipe_id']]['s'] += abs((row['rating'] - mn[row['recipe_id']]['mean']) / row['rating'])\r\n",
    "    res = {}\r\n",
    "    for id in mape:    \r\n",
    "        res[id] = 100 / mn[id]['n'] * mape[id]['s']\r\n",
    "    return pd.Series(res)"
   ],
   "outputs": [],
   "metadata": {}
  },
  {
   "cell_type": "code",
   "execution_count": 196,
   "source": [
    "%lprun -f mape_1 mape_1(rv)"
   ],
   "outputs": [
    {
     "output_type": "stream",
     "name": "stdout",
     "text": [
      "Timer unit: 1e-07 s\n",
      "\n",
      "Total time: 77.7704 s\n",
      "File: <ipython-input-195-f6f6b12fb719>\n",
      "Function: mape_1 at line 1\n",
      "\n",
      "Line #      Hits         Time  Per Hit   % Time  Line Contents\n",
      "==============================================================\n",
      "     1                                           def mape_1(df):\n",
      "     2         1         21.0     21.0      0.0      mn = {}\n",
      "     3    119892  263730001.0   2199.7     33.9      for _, row in df.iterrows():\n",
      "     4    119891   33625050.0    280.5      4.3          if row['recipe_id'] not in mn.keys():\n",
      "     5     27440    5924015.0    215.9      0.8              mn[row['recipe_id']] = {'n': 0, 'sum': 0}\n",
      "     6    119891   48725256.0    406.4      6.3          mn[row['recipe_id']]['sum'] += row['rating']\n",
      "     7    119891   23922929.0    199.5      3.1          mn[row['recipe_id']]['n'] += 1\n",
      "     8     27441     144917.0      5.3      0.0      for id in mn:\n",
      "     9     27440     265014.0      9.7      0.0          mn[id]['mean'] = mn[id]['sum']/mn[id]['n']\n",
      "    10         1          8.0      8.0      0.0      mape = {}\n",
      "    11    119892  264905758.0   2209.5     34.1      for _, row in df.iterrows():\n",
      "    12    119891   33706174.0    281.1      4.3          if row['recipe_id'] not in mape.keys():\n",
      "    13     27440    5925681.0    216.0      0.8              mape[row['recipe_id']] = {'s': 0}\n",
      "    14    119891   96081272.0    801.4     12.4          mape[row['recipe_id']]['s'] += abs((row['rating'] - mn[row['recipe_id']]['mean']) / row['rating'])\n",
      "    15         1          6.0      6.0      0.0      res = {}\n",
      "    16     27441     150813.0      5.5      0.0      for id in mape:    \n",
      "    17     27440     418903.0     15.3      0.1          res[id] = 100 / mn[id]['n'] * mape[id]['s']\n",
      "    18         1     177891.0 177891.0      0.0      return pd.Series(res)"
     ]
    }
   ],
   "metadata": {}
  },
  {
   "cell_type": "markdown",
   "source": [
    "Timer unit: 1e-07 s\r\n",
    "\r\n",
    "Total time: 77.7704 s\r\n",
    "File: <ipython-input-195-f6f6b12fb719>\r\n",
    "Function: mape_1 at line 1\r\n",
    "\r\n",
    "Line #      Hits         Time  Per Hit   % Time  Line Contents\r\n",
    "==============================================================\r\n",
    "     1                                           def mape_1(df):\r\n",
    "     2         1         21.0     21.0      0.0      mn = {}\r\n",
    "     3    119892  263730001.0   2199.7     33.9      for _, row in df.iterrows():\r\n",
    "     4    119891   33625050.0    280.5      4.3          if row['recipe_id'] not in mn.keys():\r\n",
    "     5     27440    5924015.0    215.9      0.8              mn[row['recipe_id']] = {'n': 0, 'sum': 0}\r\n",
    "     6    119891   48725256.0    406.4      6.3          mn[row['recipe_id']]['sum'] += row['rating']\r\n",
    "     7    119891   23922929.0    199.5      3.1          mn[row['recipe_id']]['n'] += 1\r\n",
    "     8     27441     144917.0      5.3      0.0      for id in mn:\r\n",
    "     9     27440     265014.0      9.7      0.0          mn[id]['mean'] = mn[id]['sum']/mn[id]['n']\r\n",
    "    10         1          8.0      8.0      0.0      mape = {}\r\n",
    "    11    119892  264905758.0   2209.5     34.1      for _, row in df.iterrows():\r\n",
    "    12    119891   33706174.0    281.1      4.3          if row['recipe_id'] not in mape.keys():\r\n",
    "    13     27440    5925681.0    216.0      0.8              mape[row['recipe_id']] = {'s': 0}\r\n",
    "    14    119891   96081272.0    801.4     12.4          mape[row['recipe_id']]['s'] += abs((row['rating'] - mn[row['recipe_id']]['mean']) / row['rating'])\r\n",
    "    15         1          6.0      6.0      0.0      res = {}\r\n",
    "    16     27441     150813.0      5.5      0.0      for id in mape:    \r\n",
    "    17     27440     418903.0     15.3      0.1          res[id] = 100 / mn[id]['n'] * mape[id]['s']\r\n",
    "    18         1     177891.0 177891.0      0.0      return pd.Series(res)"
   ],
   "metadata": {}
  },
  {
   "cell_type": "code",
   "execution_count": 197,
   "source": [
    "@njit\r\n",
    "def mape_2(df):\r\n",
    "    mn = {}\r\n",
    "    for _, row in df.iterrows():\r\n",
    "        if row['recipe_id'] not in mn.keys():\r\n",
    "            mn[row['recipe_id']] = {'n': 0, 'sum': 0}\r\n",
    "        mn[row['recipe_id']]['sum'] += row['rating']\r\n",
    "        mn[row['recipe_id']]['n'] += 1\r\n",
    "    for id in mn:\r\n",
    "        mn[id]['mean'] = mn[id]['sum']/mn[id]['n']\r\n",
    "    mape = {}\r\n",
    "    for _, row in df.iterrows():\r\n",
    "        if row['recipe_id'] not in mape.keys():\r\n",
    "            mape[row['recipe_id']] = {'s': 0}\r\n",
    "        mape[row['recipe_id']]['s'] += abs((row['rating'] - mn[row['recipe_id']]['mean']) / row['rating'])\r\n",
    "    res = {}\r\n",
    "    for id in mape:    \r\n",
    "        res[id] = 100 / mn[id]['n'] * mape[id]['s']\r\n",
    "    return pd.Series(res)"
   ],
   "outputs": [],
   "metadata": {}
  },
  {
   "cell_type": "code",
   "execution_count": 198,
   "source": [
    "%lprun -f mape_2 mape_2(rv)"
   ],
   "outputs": [
    {
     "output_type": "error",
     "ename": "TypingError",
     "evalue": "Failed in nopython mode pipeline (step: nopython frontend)\n\u001b[1m\u001b[1mnon-precise type pyobject\u001b[0m\n\u001b[0m\u001b[1m[1] During: typing of argument at <ipython-input-197-3256e46d1a5c> (3)\u001b[0m\n\u001b[1m\nFile \"<ipython-input-197-3256e46d1a5c>\", line 3:\u001b[0m\n\u001b[1mdef mape_2(df):\n\u001b[1m    mn = {}\n\u001b[0m    \u001b[1m^\u001b[0m\u001b[0m\n\nThis error may have been caused by the following argument(s):\n- argument 0: \u001b[1mcannot determine Numba type of <class 'pandas.core.frame.DataFrame'>\u001b[0m\n\nThis is not usually a problem with Numba itself but instead often caused by\nthe use of unsupported features or an issue in resolving types.\n\nTo see Python/NumPy features supported by the latest release of Numba visit:\nhttp://numba.pydata.org/numba-doc/dev/reference/pysupported.html\nand\nhttp://numba.pydata.org/numba-doc/dev/reference/numpysupported.html\n\nFor more information about typing errors and how to debug them visit:\nhttp://numba.pydata.org/numba-doc/latest/user/troubleshoot.html#my-code-doesn-t-compile\n\nIf you think your code should work with Numba, please report the error message\nand traceback, along with a minimal reproducer at:\nhttps://github.com/numba/numba/issues/new\n",
     "traceback": [
      "\u001b[1;31m---------------------------------------------------------------------------\u001b[0m",
      "\u001b[1;31mTypingError\u001b[0m                               Traceback (most recent call last)",
      "\u001b[1;32m<ipython-input-198-4f6f315f9f91>\u001b[0m in \u001b[0;36m<module>\u001b[1;34m\u001b[0m\n\u001b[1;32m----> 1\u001b[1;33m \u001b[0mget_ipython\u001b[0m\u001b[1;33m(\u001b[0m\u001b[1;33m)\u001b[0m\u001b[1;33m.\u001b[0m\u001b[0mrun_line_magic\u001b[0m\u001b[1;33m(\u001b[0m\u001b[1;34m'lprun'\u001b[0m\u001b[1;33m,\u001b[0m \u001b[1;34m'-f mape_2 mape_2(rv)'\u001b[0m\u001b[1;33m)\u001b[0m\u001b[1;33m\u001b[0m\u001b[1;33m\u001b[0m\u001b[0m\n\u001b[0m",
      "\u001b[1;32mC:\\ProgramData\\Anaconda3\\lib\\site-packages\\IPython\\core\\interactiveshell.py\u001b[0m in \u001b[0;36mrun_line_magic\u001b[1;34m(self, magic_name, line, _stack_depth)\u001b[0m\n\u001b[0;32m   2311\u001b[0m                 \u001b[0mkwargs\u001b[0m\u001b[1;33m[\u001b[0m\u001b[1;34m'local_ns'\u001b[0m\u001b[1;33m]\u001b[0m \u001b[1;33m=\u001b[0m \u001b[0msys\u001b[0m\u001b[1;33m.\u001b[0m\u001b[0m_getframe\u001b[0m\u001b[1;33m(\u001b[0m\u001b[0mstack_depth\u001b[0m\u001b[1;33m)\u001b[0m\u001b[1;33m.\u001b[0m\u001b[0mf_locals\u001b[0m\u001b[1;33m\u001b[0m\u001b[1;33m\u001b[0m\u001b[0m\n\u001b[0;32m   2312\u001b[0m             \u001b[1;32mwith\u001b[0m \u001b[0mself\u001b[0m\u001b[1;33m.\u001b[0m\u001b[0mbuiltin_trap\u001b[0m\u001b[1;33m:\u001b[0m\u001b[1;33m\u001b[0m\u001b[1;33m\u001b[0m\u001b[0m\n\u001b[1;32m-> 2313\u001b[1;33m                 \u001b[0mresult\u001b[0m \u001b[1;33m=\u001b[0m \u001b[0mfn\u001b[0m\u001b[1;33m(\u001b[0m\u001b[1;33m*\u001b[0m\u001b[0margs\u001b[0m\u001b[1;33m,\u001b[0m \u001b[1;33m**\u001b[0m\u001b[0mkwargs\u001b[0m\u001b[1;33m)\u001b[0m\u001b[1;33m\u001b[0m\u001b[1;33m\u001b[0m\u001b[0m\n\u001b[0m\u001b[0;32m   2314\u001b[0m             \u001b[1;32mreturn\u001b[0m \u001b[0mresult\u001b[0m\u001b[1;33m\u001b[0m\u001b[1;33m\u001b[0m\u001b[0m\n\u001b[0;32m   2315\u001b[0m \u001b[1;33m\u001b[0m\u001b[0m\n",
      "\u001b[1;32m<C:\\ProgramData\\Anaconda3\\lib\\site-packages\\decorator.py:decorator-gen-127>\u001b[0m in \u001b[0;36mlprun\u001b[1;34m(self, parameter_s)\u001b[0m\n",
      "\u001b[1;32mC:\\ProgramData\\Anaconda3\\lib\\site-packages\\IPython\\core\\magic.py\u001b[0m in \u001b[0;36m<lambda>\u001b[1;34m(f, *a, **k)\u001b[0m\n\u001b[0;32m    185\u001b[0m     \u001b[1;31m# but it's overkill for just that one bit of state.\u001b[0m\u001b[1;33m\u001b[0m\u001b[1;33m\u001b[0m\u001b[1;33m\u001b[0m\u001b[0m\n\u001b[0;32m    186\u001b[0m     \u001b[1;32mdef\u001b[0m \u001b[0mmagic_deco\u001b[0m\u001b[1;33m(\u001b[0m\u001b[0marg\u001b[0m\u001b[1;33m)\u001b[0m\u001b[1;33m:\u001b[0m\u001b[1;33m\u001b[0m\u001b[1;33m\u001b[0m\u001b[0m\n\u001b[1;32m--> 187\u001b[1;33m         \u001b[0mcall\u001b[0m \u001b[1;33m=\u001b[0m \u001b[1;32mlambda\u001b[0m \u001b[0mf\u001b[0m\u001b[1;33m,\u001b[0m \u001b[1;33m*\u001b[0m\u001b[0ma\u001b[0m\u001b[1;33m,\u001b[0m \u001b[1;33m**\u001b[0m\u001b[0mk\u001b[0m\u001b[1;33m:\u001b[0m \u001b[0mf\u001b[0m\u001b[1;33m(\u001b[0m\u001b[1;33m*\u001b[0m\u001b[0ma\u001b[0m\u001b[1;33m,\u001b[0m \u001b[1;33m**\u001b[0m\u001b[0mk\u001b[0m\u001b[1;33m)\u001b[0m\u001b[1;33m\u001b[0m\u001b[1;33m\u001b[0m\u001b[0m\n\u001b[0m\u001b[0;32m    188\u001b[0m \u001b[1;33m\u001b[0m\u001b[0m\n\u001b[0;32m    189\u001b[0m         \u001b[1;32mif\u001b[0m \u001b[0mcallable\u001b[0m\u001b[1;33m(\u001b[0m\u001b[0marg\u001b[0m\u001b[1;33m)\u001b[0m\u001b[1;33m:\u001b[0m\u001b[1;33m\u001b[0m\u001b[1;33m\u001b[0m\u001b[0m\n",
      "\u001b[1;32mC:\\ProgramData\\Anaconda3\\lib\\site-packages\\line_profiler\\line_profiler.py\u001b[0m in \u001b[0;36mlprun\u001b[1;34m(self, parameter_s)\u001b[0m\n\u001b[0;32m    367\u001b[0m         \u001b[1;32mtry\u001b[0m\u001b[1;33m:\u001b[0m\u001b[1;33m\u001b[0m\u001b[1;33m\u001b[0m\u001b[0m\n\u001b[0;32m    368\u001b[0m             \u001b[1;32mtry\u001b[0m\u001b[1;33m:\u001b[0m\u001b[1;33m\u001b[0m\u001b[1;33m\u001b[0m\u001b[0m\n\u001b[1;32m--> 369\u001b[1;33m                 \u001b[0mprofile\u001b[0m\u001b[1;33m.\u001b[0m\u001b[0mrunctx\u001b[0m\u001b[1;33m(\u001b[0m\u001b[0marg_str\u001b[0m\u001b[1;33m,\u001b[0m \u001b[0mglobal_ns\u001b[0m\u001b[1;33m,\u001b[0m \u001b[0mlocal_ns\u001b[0m\u001b[1;33m)\u001b[0m\u001b[1;33m\u001b[0m\u001b[1;33m\u001b[0m\u001b[0m\n\u001b[0m\u001b[0;32m    370\u001b[0m                 \u001b[0mmessage\u001b[0m \u001b[1;33m=\u001b[0m \u001b[1;34m''\u001b[0m\u001b[1;33m\u001b[0m\u001b[1;33m\u001b[0m\u001b[0m\n\u001b[0;32m    371\u001b[0m             \u001b[1;32mexcept\u001b[0m \u001b[0mSystemExit\u001b[0m\u001b[1;33m:\u001b[0m\u001b[1;33m\u001b[0m\u001b[1;33m\u001b[0m\u001b[0m\n",
      "\u001b[1;32mC:\\ProgramData\\Anaconda3\\lib\\site-packages\\line_profiler\\line_profiler.py\u001b[0m in \u001b[0;36mrunctx\u001b[1;34m(self, cmd, globals, locals)\u001b[0m\n\u001b[0;32m    162\u001b[0m         \u001b[0mself\u001b[0m\u001b[1;33m.\u001b[0m\u001b[0menable_by_count\u001b[0m\u001b[1;33m(\u001b[0m\u001b[1;33m)\u001b[0m\u001b[1;33m\u001b[0m\u001b[1;33m\u001b[0m\u001b[0m\n\u001b[0;32m    163\u001b[0m         \u001b[1;32mtry\u001b[0m\u001b[1;33m:\u001b[0m\u001b[1;33m\u001b[0m\u001b[1;33m\u001b[0m\u001b[0m\n\u001b[1;32m--> 164\u001b[1;33m             \u001b[0mexec_\u001b[0m\u001b[1;33m(\u001b[0m\u001b[0mcmd\u001b[0m\u001b[1;33m,\u001b[0m \u001b[0mglobals\u001b[0m\u001b[1;33m,\u001b[0m \u001b[0mlocals\u001b[0m\u001b[1;33m)\u001b[0m\u001b[1;33m\u001b[0m\u001b[1;33m\u001b[0m\u001b[0m\n\u001b[0m\u001b[0;32m    165\u001b[0m         \u001b[1;32mfinally\u001b[0m\u001b[1;33m:\u001b[0m\u001b[1;33m\u001b[0m\u001b[1;33m\u001b[0m\u001b[0m\n\u001b[0;32m    166\u001b[0m             \u001b[0mself\u001b[0m\u001b[1;33m.\u001b[0m\u001b[0mdisable_by_count\u001b[0m\u001b[1;33m(\u001b[0m\u001b[1;33m)\u001b[0m\u001b[1;33m\u001b[0m\u001b[1;33m\u001b[0m\u001b[0m\n",
      "\u001b[1;32m<string>\u001b[0m in \u001b[0;36m<module>\u001b[1;34m\u001b[0m\n",
      "\u001b[1;32mC:\\ProgramData\\Anaconda3\\lib\\site-packages\\numba\\dispatcher.py\u001b[0m in \u001b[0;36m_compile_for_args\u001b[1;34m(self, *args, **kws)\u001b[0m\n\u001b[0;32m    349\u001b[0m                 \u001b[0me\u001b[0m\u001b[1;33m.\u001b[0m\u001b[0mpatch_message\u001b[0m\u001b[1;33m(\u001b[0m\u001b[0mmsg\u001b[0m\u001b[1;33m)\u001b[0m\u001b[1;33m\u001b[0m\u001b[1;33m\u001b[0m\u001b[0m\n\u001b[0;32m    350\u001b[0m \u001b[1;33m\u001b[0m\u001b[0m\n\u001b[1;32m--> 351\u001b[1;33m             \u001b[0merror_rewrite\u001b[0m\u001b[1;33m(\u001b[0m\u001b[0me\u001b[0m\u001b[1;33m,\u001b[0m \u001b[1;34m'typing'\u001b[0m\u001b[1;33m)\u001b[0m\u001b[1;33m\u001b[0m\u001b[1;33m\u001b[0m\u001b[0m\n\u001b[0m\u001b[0;32m    352\u001b[0m         \u001b[1;32mexcept\u001b[0m \u001b[0merrors\u001b[0m\u001b[1;33m.\u001b[0m\u001b[0mUnsupportedError\u001b[0m \u001b[1;32mas\u001b[0m \u001b[0me\u001b[0m\u001b[1;33m:\u001b[0m\u001b[1;33m\u001b[0m\u001b[1;33m\u001b[0m\u001b[0m\n\u001b[0;32m    353\u001b[0m             \u001b[1;31m# Something unsupported is present in the user code, add help info\u001b[0m\u001b[1;33m\u001b[0m\u001b[1;33m\u001b[0m\u001b[1;33m\u001b[0m\u001b[0m\n",
      "\u001b[1;32mC:\\ProgramData\\Anaconda3\\lib\\site-packages\\numba\\dispatcher.py\u001b[0m in \u001b[0;36merror_rewrite\u001b[1;34m(e, issue_type)\u001b[0m\n\u001b[0;32m    316\u001b[0m                 \u001b[1;32mraise\u001b[0m \u001b[0me\u001b[0m\u001b[1;33m\u001b[0m\u001b[1;33m\u001b[0m\u001b[0m\n\u001b[0;32m    317\u001b[0m             \u001b[1;32melse\u001b[0m\u001b[1;33m:\u001b[0m\u001b[1;33m\u001b[0m\u001b[1;33m\u001b[0m\u001b[0m\n\u001b[1;32m--> 318\u001b[1;33m                 \u001b[0mreraise\u001b[0m\u001b[1;33m(\u001b[0m\u001b[0mtype\u001b[0m\u001b[1;33m(\u001b[0m\u001b[0me\u001b[0m\u001b[1;33m)\u001b[0m\u001b[1;33m,\u001b[0m \u001b[0me\u001b[0m\u001b[1;33m,\u001b[0m \u001b[1;32mNone\u001b[0m\u001b[1;33m)\u001b[0m\u001b[1;33m\u001b[0m\u001b[1;33m\u001b[0m\u001b[0m\n\u001b[0m\u001b[0;32m    319\u001b[0m \u001b[1;33m\u001b[0m\u001b[0m\n\u001b[0;32m    320\u001b[0m         \u001b[0margtypes\u001b[0m \u001b[1;33m=\u001b[0m \u001b[1;33m[\u001b[0m\u001b[1;33m]\u001b[0m\u001b[1;33m\u001b[0m\u001b[1;33m\u001b[0m\u001b[0m\n",
      "\u001b[1;32mC:\\ProgramData\\Anaconda3\\lib\\site-packages\\numba\\six.py\u001b[0m in \u001b[0;36mreraise\u001b[1;34m(tp, value, tb)\u001b[0m\n\u001b[0;32m    656\u001b[0m             \u001b[0mvalue\u001b[0m \u001b[1;33m=\u001b[0m \u001b[0mtp\u001b[0m\u001b[1;33m(\u001b[0m\u001b[1;33m)\u001b[0m\u001b[1;33m\u001b[0m\u001b[1;33m\u001b[0m\u001b[0m\n\u001b[0;32m    657\u001b[0m         \u001b[1;32mif\u001b[0m \u001b[0mvalue\u001b[0m\u001b[1;33m.\u001b[0m\u001b[0m__traceback__\u001b[0m \u001b[1;32mis\u001b[0m \u001b[1;32mnot\u001b[0m \u001b[0mtb\u001b[0m\u001b[1;33m:\u001b[0m\u001b[1;33m\u001b[0m\u001b[1;33m\u001b[0m\u001b[0m\n\u001b[1;32m--> 658\u001b[1;33m             \u001b[1;32mraise\u001b[0m \u001b[0mvalue\u001b[0m\u001b[1;33m.\u001b[0m\u001b[0mwith_traceback\u001b[0m\u001b[1;33m(\u001b[0m\u001b[0mtb\u001b[0m\u001b[1;33m)\u001b[0m\u001b[1;33m\u001b[0m\u001b[1;33m\u001b[0m\u001b[0m\n\u001b[0m\u001b[0;32m    659\u001b[0m         \u001b[1;32mraise\u001b[0m \u001b[0mvalue\u001b[0m\u001b[1;33m\u001b[0m\u001b[1;33m\u001b[0m\u001b[0m\n\u001b[0;32m    660\u001b[0m \u001b[1;33m\u001b[0m\u001b[0m\n",
      "\u001b[1;31mTypingError\u001b[0m: Failed in nopython mode pipeline (step: nopython frontend)\n\u001b[1m\u001b[1mnon-precise type pyobject\u001b[0m\n\u001b[0m\u001b[1m[1] During: typing of argument at <ipython-input-197-3256e46d1a5c> (3)\u001b[0m\n\u001b[1m\nFile \"<ipython-input-197-3256e46d1a5c>\", line 3:\u001b[0m\n\u001b[1mdef mape_2(df):\n\u001b[1m    mn = {}\n\u001b[0m    \u001b[1m^\u001b[0m\u001b[0m\n\nThis error may have been caused by the following argument(s):\n- argument 0: \u001b[1mcannot determine Numba type of <class 'pandas.core.frame.DataFrame'>\u001b[0m\n\nThis is not usually a problem with Numba itself but instead often caused by\nthe use of unsupported features or an issue in resolving types.\n\nTo see Python/NumPy features supported by the latest release of Numba visit:\nhttp://numba.pydata.org/numba-doc/dev/reference/pysupported.html\nand\nhttp://numba.pydata.org/numba-doc/dev/reference/numpysupported.html\n\nFor more information about typing errors and how to debug them visit:\nhttp://numba.pydata.org/numba-doc/latest/user/troubleshoot.html#my-code-doesn-t-compile\n\nIf you think your code should work with Numba, please report the error message\nand traceback, along with a minimal reproducer at:\nhttps://github.com/numba/numba/issues/new\n"
     ]
    }
   ],
   "metadata": {}
  },
  {
   "cell_type": "code",
   "execution_count": 199,
   "source": [
    "def mape_3(df):\r\n",
    "    mn = df.groupby('recipe_id')['rating'].mean()\r\n",
    "    mape = {}\r\n",
    "    for ind in mn.index:\r\n",
    "        revs = df[df['recipe_id'] == ind]['rating']\r\n",
    "        revs = abs((revs - mn[ind]) / revs)\r\n",
    "        mape[ind] = 100 / revs.shape[0] * revs.sum()\r\n",
    "    return pd.Series(mape)\r\n"
   ],
   "outputs": [],
   "metadata": {}
  },
  {
   "cell_type": "code",
   "execution_count": 200,
   "source": [
    "%lprun -f mape_3 mape_3(rv)"
   ],
   "outputs": [
    {
     "output_type": "stream",
     "name": "stdout",
     "text": [
      "Timer unit: 1e-07 s\n",
      "\n",
      "Total time: 79.0099 s\n",
      "File: <ipython-input-199-bf51e456d4c9>\n",
      "Function: mape_3 at line 1\n",
      "\n",
      "Line #      Hits         Time  Per Hit   % Time  Line Contents\n",
      "==============================================================\n",
      "     1                                           def mape_3(df):\n",
      "     2         1     192706.0 192706.0      0.0      mn = df.groupby('recipe_id')['rating'].mean()\n",
      "     3         1         17.0     17.0      0.0      mape = {}\n",
      "     4     27441     568248.0     20.7      0.1      for ind in mn.index:\n",
      "     5     27440  468965187.0  17090.6     59.4          revs = df[df['recipe_id'] == ind]['rating']\n",
      "     6     27440  255551044.0   9313.1     32.3          revs = abs((revs - mn[ind]) / revs)\n",
      "     7     27440   64627191.0   2355.2      8.2          mape[ind] = 100 / revs.shape[0] * revs.sum()\n",
      "     8         1     194172.0 194172.0      0.0      return pd.Series(mape)"
     ]
    }
   ],
   "metadata": {}
  },
  {
   "cell_type": "markdown",
   "source": [
    "Timer unit: 1e-07 s\r\n",
    "\r\n",
    "Total time: 79.0099 s\r\n",
    "File: <ipython-input-199-bf51e456d4c9>\r\n",
    "Function: mape_3 at line 1\r\n",
    "\r\n",
    "Line #      Hits         Time  Per Hit   % Time  Line Contents\r\n",
    "==============================================================\r\n",
    "     1                                           def mape_3(df):\r\n",
    "     2         1     192706.0 192706.0      0.0      mn = df.groupby('recipe_id')['rating'].mean()\r\n",
    "     3         1         17.0     17.0      0.0      mape = {}\r\n",
    "     4     27441     568248.0     20.7      0.1      for ind in mn.index:\r\n",
    "     5     27440  468965187.0  17090.6     59.4          revs = df[df['recipe_id'] == ind]['rating']\r\n",
    "     6     27440  255551044.0   9313.1     32.3          revs = abs((revs - mn[ind]) / revs)\r\n",
    "     7     27440   64627191.0   2355.2      8.2          mape[ind] = 100 / revs.shape[0] * revs.sum()\r\n",
    "     8         1     194172.0 194172.0      0.0      return pd.Series(mape)"
   ],
   "metadata": {}
  },
  {
   "cell_type": "code",
   "execution_count": 193,
   "source": [
    "@njit\r\n",
    "def mape_4(df):\r\n",
    "    mn = df.groupby('recipe_id')['rating'].mean()\r\n",
    "    mape = {}\r\n",
    "    for ind in mn.index:\r\n",
    "        revs = df[df['recipe_id'] == ind]['rating']\r\n",
    "        revs = abs((revs - mn[ind]) / revs)\r\n",
    "        mape[ind] = 100 / revs.shape[0] * revs.sum()\r\n",
    "    return pd.Series(mape)"
   ],
   "outputs": [],
   "metadata": {}
  },
  {
   "cell_type": "code",
   "execution_count": 194,
   "source": [
    "%lprun -f mape_4 mape_4(rv)"
   ],
   "outputs": [
    {
     "output_type": "error",
     "ename": "TypingError",
     "evalue": "Failed in nopython mode pipeline (step: nopython frontend)\n\u001b[1m\u001b[1mnon-precise type pyobject\u001b[0m\n\u001b[0m\u001b[1m[1] During: typing of argument at <ipython-input-193-9e8348cf5a26> (3)\u001b[0m\n\u001b[1m\nFile \"<ipython-input-193-9e8348cf5a26>\", line 3:\u001b[0m\n\u001b[1mdef mape_4(df):\n\u001b[1m    mn = df.groupby('recipe_id')['rating'].mean()\n\u001b[0m    \u001b[1m^\u001b[0m\u001b[0m\n\nThis error may have been caused by the following argument(s):\n- argument 0: \u001b[1mcannot determine Numba type of <class 'pandas.core.frame.DataFrame'>\u001b[0m\n\nThis is not usually a problem with Numba itself but instead often caused by\nthe use of unsupported features or an issue in resolving types.\n\nTo see Python/NumPy features supported by the latest release of Numba visit:\nhttp://numba.pydata.org/numba-doc/dev/reference/pysupported.html\nand\nhttp://numba.pydata.org/numba-doc/dev/reference/numpysupported.html\n\nFor more information about typing errors and how to debug them visit:\nhttp://numba.pydata.org/numba-doc/latest/user/troubleshoot.html#my-code-doesn-t-compile\n\nIf you think your code should work with Numba, please report the error message\nand traceback, along with a minimal reproducer at:\nhttps://github.com/numba/numba/issues/new\n",
     "traceback": [
      "\u001b[1;31m---------------------------------------------------------------------------\u001b[0m",
      "\u001b[1;31mTypingError\u001b[0m                               Traceback (most recent call last)",
      "\u001b[1;32m<ipython-input-194-2a7649bb6651>\u001b[0m in \u001b[0;36m<module>\u001b[1;34m\u001b[0m\n\u001b[1;32m----> 1\u001b[1;33m \u001b[0mget_ipython\u001b[0m\u001b[1;33m(\u001b[0m\u001b[1;33m)\u001b[0m\u001b[1;33m.\u001b[0m\u001b[0mrun_line_magic\u001b[0m\u001b[1;33m(\u001b[0m\u001b[1;34m'lprun'\u001b[0m\u001b[1;33m,\u001b[0m \u001b[1;34m'-f mape_4 mape_4(rv)'\u001b[0m\u001b[1;33m)\u001b[0m\u001b[1;33m\u001b[0m\u001b[1;33m\u001b[0m\u001b[0m\n\u001b[0m",
      "\u001b[1;32mC:\\ProgramData\\Anaconda3\\lib\\site-packages\\IPython\\core\\interactiveshell.py\u001b[0m in \u001b[0;36mrun_line_magic\u001b[1;34m(self, magic_name, line, _stack_depth)\u001b[0m\n\u001b[0;32m   2311\u001b[0m                 \u001b[0mkwargs\u001b[0m\u001b[1;33m[\u001b[0m\u001b[1;34m'local_ns'\u001b[0m\u001b[1;33m]\u001b[0m \u001b[1;33m=\u001b[0m \u001b[0msys\u001b[0m\u001b[1;33m.\u001b[0m\u001b[0m_getframe\u001b[0m\u001b[1;33m(\u001b[0m\u001b[0mstack_depth\u001b[0m\u001b[1;33m)\u001b[0m\u001b[1;33m.\u001b[0m\u001b[0mf_locals\u001b[0m\u001b[1;33m\u001b[0m\u001b[1;33m\u001b[0m\u001b[0m\n\u001b[0;32m   2312\u001b[0m             \u001b[1;32mwith\u001b[0m \u001b[0mself\u001b[0m\u001b[1;33m.\u001b[0m\u001b[0mbuiltin_trap\u001b[0m\u001b[1;33m:\u001b[0m\u001b[1;33m\u001b[0m\u001b[1;33m\u001b[0m\u001b[0m\n\u001b[1;32m-> 2313\u001b[1;33m                 \u001b[0mresult\u001b[0m \u001b[1;33m=\u001b[0m \u001b[0mfn\u001b[0m\u001b[1;33m(\u001b[0m\u001b[1;33m*\u001b[0m\u001b[0margs\u001b[0m\u001b[1;33m,\u001b[0m \u001b[1;33m**\u001b[0m\u001b[0mkwargs\u001b[0m\u001b[1;33m)\u001b[0m\u001b[1;33m\u001b[0m\u001b[1;33m\u001b[0m\u001b[0m\n\u001b[0m\u001b[0;32m   2314\u001b[0m             \u001b[1;32mreturn\u001b[0m \u001b[0mresult\u001b[0m\u001b[1;33m\u001b[0m\u001b[1;33m\u001b[0m\u001b[0m\n\u001b[0;32m   2315\u001b[0m \u001b[1;33m\u001b[0m\u001b[0m\n",
      "\u001b[1;32m<C:\\ProgramData\\Anaconda3\\lib\\site-packages\\decorator.py:decorator-gen-127>\u001b[0m in \u001b[0;36mlprun\u001b[1;34m(self, parameter_s)\u001b[0m\n",
      "\u001b[1;32mC:\\ProgramData\\Anaconda3\\lib\\site-packages\\IPython\\core\\magic.py\u001b[0m in \u001b[0;36m<lambda>\u001b[1;34m(f, *a, **k)\u001b[0m\n\u001b[0;32m    185\u001b[0m     \u001b[1;31m# but it's overkill for just that one bit of state.\u001b[0m\u001b[1;33m\u001b[0m\u001b[1;33m\u001b[0m\u001b[1;33m\u001b[0m\u001b[0m\n\u001b[0;32m    186\u001b[0m     \u001b[1;32mdef\u001b[0m \u001b[0mmagic_deco\u001b[0m\u001b[1;33m(\u001b[0m\u001b[0marg\u001b[0m\u001b[1;33m)\u001b[0m\u001b[1;33m:\u001b[0m\u001b[1;33m\u001b[0m\u001b[1;33m\u001b[0m\u001b[0m\n\u001b[1;32m--> 187\u001b[1;33m         \u001b[0mcall\u001b[0m \u001b[1;33m=\u001b[0m \u001b[1;32mlambda\u001b[0m \u001b[0mf\u001b[0m\u001b[1;33m,\u001b[0m \u001b[1;33m*\u001b[0m\u001b[0ma\u001b[0m\u001b[1;33m,\u001b[0m \u001b[1;33m**\u001b[0m\u001b[0mk\u001b[0m\u001b[1;33m:\u001b[0m \u001b[0mf\u001b[0m\u001b[1;33m(\u001b[0m\u001b[1;33m*\u001b[0m\u001b[0ma\u001b[0m\u001b[1;33m,\u001b[0m \u001b[1;33m**\u001b[0m\u001b[0mk\u001b[0m\u001b[1;33m)\u001b[0m\u001b[1;33m\u001b[0m\u001b[1;33m\u001b[0m\u001b[0m\n\u001b[0m\u001b[0;32m    188\u001b[0m \u001b[1;33m\u001b[0m\u001b[0m\n\u001b[0;32m    189\u001b[0m         \u001b[1;32mif\u001b[0m \u001b[0mcallable\u001b[0m\u001b[1;33m(\u001b[0m\u001b[0marg\u001b[0m\u001b[1;33m)\u001b[0m\u001b[1;33m:\u001b[0m\u001b[1;33m\u001b[0m\u001b[1;33m\u001b[0m\u001b[0m\n",
      "\u001b[1;32mC:\\ProgramData\\Anaconda3\\lib\\site-packages\\line_profiler\\line_profiler.py\u001b[0m in \u001b[0;36mlprun\u001b[1;34m(self, parameter_s)\u001b[0m\n\u001b[0;32m    367\u001b[0m         \u001b[1;32mtry\u001b[0m\u001b[1;33m:\u001b[0m\u001b[1;33m\u001b[0m\u001b[1;33m\u001b[0m\u001b[0m\n\u001b[0;32m    368\u001b[0m             \u001b[1;32mtry\u001b[0m\u001b[1;33m:\u001b[0m\u001b[1;33m\u001b[0m\u001b[1;33m\u001b[0m\u001b[0m\n\u001b[1;32m--> 369\u001b[1;33m                 \u001b[0mprofile\u001b[0m\u001b[1;33m.\u001b[0m\u001b[0mrunctx\u001b[0m\u001b[1;33m(\u001b[0m\u001b[0marg_str\u001b[0m\u001b[1;33m,\u001b[0m \u001b[0mglobal_ns\u001b[0m\u001b[1;33m,\u001b[0m \u001b[0mlocal_ns\u001b[0m\u001b[1;33m)\u001b[0m\u001b[1;33m\u001b[0m\u001b[1;33m\u001b[0m\u001b[0m\n\u001b[0m\u001b[0;32m    370\u001b[0m                 \u001b[0mmessage\u001b[0m \u001b[1;33m=\u001b[0m \u001b[1;34m''\u001b[0m\u001b[1;33m\u001b[0m\u001b[1;33m\u001b[0m\u001b[0m\n\u001b[0;32m    371\u001b[0m             \u001b[1;32mexcept\u001b[0m \u001b[0mSystemExit\u001b[0m\u001b[1;33m:\u001b[0m\u001b[1;33m\u001b[0m\u001b[1;33m\u001b[0m\u001b[0m\n",
      "\u001b[1;32mC:\\ProgramData\\Anaconda3\\lib\\site-packages\\line_profiler\\line_profiler.py\u001b[0m in \u001b[0;36mrunctx\u001b[1;34m(self, cmd, globals, locals)\u001b[0m\n\u001b[0;32m    162\u001b[0m         \u001b[0mself\u001b[0m\u001b[1;33m.\u001b[0m\u001b[0menable_by_count\u001b[0m\u001b[1;33m(\u001b[0m\u001b[1;33m)\u001b[0m\u001b[1;33m\u001b[0m\u001b[1;33m\u001b[0m\u001b[0m\n\u001b[0;32m    163\u001b[0m         \u001b[1;32mtry\u001b[0m\u001b[1;33m:\u001b[0m\u001b[1;33m\u001b[0m\u001b[1;33m\u001b[0m\u001b[0m\n\u001b[1;32m--> 164\u001b[1;33m             \u001b[0mexec_\u001b[0m\u001b[1;33m(\u001b[0m\u001b[0mcmd\u001b[0m\u001b[1;33m,\u001b[0m \u001b[0mglobals\u001b[0m\u001b[1;33m,\u001b[0m \u001b[0mlocals\u001b[0m\u001b[1;33m)\u001b[0m\u001b[1;33m\u001b[0m\u001b[1;33m\u001b[0m\u001b[0m\n\u001b[0m\u001b[0;32m    165\u001b[0m         \u001b[1;32mfinally\u001b[0m\u001b[1;33m:\u001b[0m\u001b[1;33m\u001b[0m\u001b[1;33m\u001b[0m\u001b[0m\n\u001b[0;32m    166\u001b[0m             \u001b[0mself\u001b[0m\u001b[1;33m.\u001b[0m\u001b[0mdisable_by_count\u001b[0m\u001b[1;33m(\u001b[0m\u001b[1;33m)\u001b[0m\u001b[1;33m\u001b[0m\u001b[1;33m\u001b[0m\u001b[0m\n",
      "\u001b[1;32m<string>\u001b[0m in \u001b[0;36m<module>\u001b[1;34m\u001b[0m\n",
      "\u001b[1;32mC:\\ProgramData\\Anaconda3\\lib\\site-packages\\numba\\dispatcher.py\u001b[0m in \u001b[0;36m_compile_for_args\u001b[1;34m(self, *args, **kws)\u001b[0m\n\u001b[0;32m    349\u001b[0m                 \u001b[0me\u001b[0m\u001b[1;33m.\u001b[0m\u001b[0mpatch_message\u001b[0m\u001b[1;33m(\u001b[0m\u001b[0mmsg\u001b[0m\u001b[1;33m)\u001b[0m\u001b[1;33m\u001b[0m\u001b[1;33m\u001b[0m\u001b[0m\n\u001b[0;32m    350\u001b[0m \u001b[1;33m\u001b[0m\u001b[0m\n\u001b[1;32m--> 351\u001b[1;33m             \u001b[0merror_rewrite\u001b[0m\u001b[1;33m(\u001b[0m\u001b[0me\u001b[0m\u001b[1;33m,\u001b[0m \u001b[1;34m'typing'\u001b[0m\u001b[1;33m)\u001b[0m\u001b[1;33m\u001b[0m\u001b[1;33m\u001b[0m\u001b[0m\n\u001b[0m\u001b[0;32m    352\u001b[0m         \u001b[1;32mexcept\u001b[0m \u001b[0merrors\u001b[0m\u001b[1;33m.\u001b[0m\u001b[0mUnsupportedError\u001b[0m \u001b[1;32mas\u001b[0m \u001b[0me\u001b[0m\u001b[1;33m:\u001b[0m\u001b[1;33m\u001b[0m\u001b[1;33m\u001b[0m\u001b[0m\n\u001b[0;32m    353\u001b[0m             \u001b[1;31m# Something unsupported is present in the user code, add help info\u001b[0m\u001b[1;33m\u001b[0m\u001b[1;33m\u001b[0m\u001b[1;33m\u001b[0m\u001b[0m\n",
      "\u001b[1;32mC:\\ProgramData\\Anaconda3\\lib\\site-packages\\numba\\dispatcher.py\u001b[0m in \u001b[0;36merror_rewrite\u001b[1;34m(e, issue_type)\u001b[0m\n\u001b[0;32m    316\u001b[0m                 \u001b[1;32mraise\u001b[0m \u001b[0me\u001b[0m\u001b[1;33m\u001b[0m\u001b[1;33m\u001b[0m\u001b[0m\n\u001b[0;32m    317\u001b[0m             \u001b[1;32melse\u001b[0m\u001b[1;33m:\u001b[0m\u001b[1;33m\u001b[0m\u001b[1;33m\u001b[0m\u001b[0m\n\u001b[1;32m--> 318\u001b[1;33m                 \u001b[0mreraise\u001b[0m\u001b[1;33m(\u001b[0m\u001b[0mtype\u001b[0m\u001b[1;33m(\u001b[0m\u001b[0me\u001b[0m\u001b[1;33m)\u001b[0m\u001b[1;33m,\u001b[0m \u001b[0me\u001b[0m\u001b[1;33m,\u001b[0m \u001b[1;32mNone\u001b[0m\u001b[1;33m)\u001b[0m\u001b[1;33m\u001b[0m\u001b[1;33m\u001b[0m\u001b[0m\n\u001b[0m\u001b[0;32m    319\u001b[0m \u001b[1;33m\u001b[0m\u001b[0m\n\u001b[0;32m    320\u001b[0m         \u001b[0margtypes\u001b[0m \u001b[1;33m=\u001b[0m \u001b[1;33m[\u001b[0m\u001b[1;33m]\u001b[0m\u001b[1;33m\u001b[0m\u001b[1;33m\u001b[0m\u001b[0m\n",
      "\u001b[1;32mC:\\ProgramData\\Anaconda3\\lib\\site-packages\\numba\\six.py\u001b[0m in \u001b[0;36mreraise\u001b[1;34m(tp, value, tb)\u001b[0m\n\u001b[0;32m    656\u001b[0m             \u001b[0mvalue\u001b[0m \u001b[1;33m=\u001b[0m \u001b[0mtp\u001b[0m\u001b[1;33m(\u001b[0m\u001b[1;33m)\u001b[0m\u001b[1;33m\u001b[0m\u001b[1;33m\u001b[0m\u001b[0m\n\u001b[0;32m    657\u001b[0m         \u001b[1;32mif\u001b[0m \u001b[0mvalue\u001b[0m\u001b[1;33m.\u001b[0m\u001b[0m__traceback__\u001b[0m \u001b[1;32mis\u001b[0m \u001b[1;32mnot\u001b[0m \u001b[0mtb\u001b[0m\u001b[1;33m:\u001b[0m\u001b[1;33m\u001b[0m\u001b[1;33m\u001b[0m\u001b[0m\n\u001b[1;32m--> 658\u001b[1;33m             \u001b[1;32mraise\u001b[0m \u001b[0mvalue\u001b[0m\u001b[1;33m.\u001b[0m\u001b[0mwith_traceback\u001b[0m\u001b[1;33m(\u001b[0m\u001b[0mtb\u001b[0m\u001b[1;33m)\u001b[0m\u001b[1;33m\u001b[0m\u001b[1;33m\u001b[0m\u001b[0m\n\u001b[0m\u001b[0;32m    659\u001b[0m         \u001b[1;32mraise\u001b[0m \u001b[0mvalue\u001b[0m\u001b[1;33m\u001b[0m\u001b[1;33m\u001b[0m\u001b[0m\n\u001b[0;32m    660\u001b[0m \u001b[1;33m\u001b[0m\u001b[0m\n",
      "\u001b[1;31mTypingError\u001b[0m: Failed in nopython mode pipeline (step: nopython frontend)\n\u001b[1m\u001b[1mnon-precise type pyobject\u001b[0m\n\u001b[0m\u001b[1m[1] During: typing of argument at <ipython-input-193-9e8348cf5a26> (3)\u001b[0m\n\u001b[1m\nFile \"<ipython-input-193-9e8348cf5a26>\", line 3:\u001b[0m\n\u001b[1mdef mape_4(df):\n\u001b[1m    mn = df.groupby('recipe_id')['rating'].mean()\n\u001b[0m    \u001b[1m^\u001b[0m\u001b[0m\n\nThis error may have been caused by the following argument(s):\n- argument 0: \u001b[1mcannot determine Numba type of <class 'pandas.core.frame.DataFrame'>\u001b[0m\n\nThis is not usually a problem with Numba itself but instead often caused by\nthe use of unsupported features or an issue in resolving types.\n\nTo see Python/NumPy features supported by the latest release of Numba visit:\nhttp://numba.pydata.org/numba-doc/dev/reference/pysupported.html\nand\nhttp://numba.pydata.org/numba-doc/dev/reference/numpysupported.html\n\nFor more information about typing errors and how to debug them visit:\nhttp://numba.pydata.org/numba-doc/latest/user/troubleshoot.html#my-code-doesn-t-compile\n\nIf you think your code should work with Numba, please report the error message\nand traceback, along with a minimal reproducer at:\nhttps://github.com/numba/numba/issues/new\n"
     ]
    }
   ],
   "metadata": {}
  },
  {
   "cell_type": "markdown",
   "source": [],
   "metadata": {}
  }
 ],
 "metadata": {
  "interpreter": {
   "hash": "b3ba2566441a7c06988d0923437866b63cedc61552a5af99d1f4fb67d367b25f"
  },
  "kernelspec": {
   "name": "python3",
   "display_name": "Python 3.7.3 64-bit ('base': conda)"
  },
  "language_info": {
   "codemirror_mode": {
    "name": "ipython",
    "version": 3
   },
   "file_extension": ".py",
   "mimetype": "text/x-python",
   "name": "python",
   "nbconvert_exporter": "python",
   "pygments_lexer": "ipython3",
   "version": "3.7.3"
  }
 },
 "nbformat": 4,
 "nbformat_minor": 4
}