{
 "cells": [
  {
   "cell_type": "markdown",
   "metadata": {},
   "source": [
    "# Работа с Excel"
   ]
  },
  {
   "cell_type": "markdown",
   "metadata": {},
   "source": [
    "Материалы:\n",
    "* Макрушин С.В. Лекция 7: Работа с Excel\n",
    "* https://docs.xlwings.org/en/stable/quickstart.html\n",
    "* https://nbviewer.jupyter.org/github/pybokeh/jupyter_notebooks/blob/master/xlwings/Excel_Formatting.ipynb#search_text\n"
   ]
  },
  {
   "cell_type": "code",
   "execution_count": 1,
   "metadata": {},
   "outputs": [],
   "source": [
    "import xlwings as xw\n",
    "import numpy as np\n",
    "import pandas as pd"
   ]
  },
  {
   "cell_type": "code",
   "execution_count": 2,
   "metadata": {},
   "outputs": [],
   "source": [
    "#!pip install xlwings==0.24.9 --user"
   ]
  },
  {
   "cell_type": "code",
   "execution_count": 3,
   "metadata": {},
   "outputs": [
    {
     "data": {
      "text/plain": [
       "'0.24.9'"
      ]
     },
     "execution_count": 3,
     "metadata": {},
     "output_type": "execute_result"
    }
   ],
   "source": [
    "xw.__version__"
   ]
  },
  {
   "cell_type": "markdown",
   "metadata": {},
   "source": [
    "## Задачи для совместного разбора"
   ]
  },
  {
   "cell_type": "markdown",
   "metadata": {},
   "source": [
    "1. На листе \"Рецептура\" файла `себестоимостьА_в1.xlsx` для области \"Пшеничный хлеб\" рассчитать себестоимость всех видов продукции."
   ]
  },
  {
   "cell_type": "code",
   "execution_count": 4,
   "metadata": {},
   "outputs": [],
   "source": [
    "wb = xw.Book('себестоимостьА_в1.xlsx')"
   ]
  },
  {
   "cell_type": "code",
   "execution_count": 5,
   "metadata": {},
   "outputs": [],
   "source": [
    "sheet = wb.sheets['Рецептура']"
   ]
  },
  {
   "cell_type": "code",
   "execution_count": 6,
   "metadata": {},
   "outputs": [],
   "source": [
    "consumption = sheet.range('G7:O10').options(np.array).value\n",
    "unit_price = sheet.range('G14:O14').options(np.array).value"
   ]
  },
  {
   "cell_type": "code",
   "execution_count": 7,
   "metadata": {},
   "outputs": [
    {
     "data": {
      "text/plain": [
       "array([[0.2  , 0.4  , 0.02 , 0.02 , 0.01 , 0.005, 0.1  ,   nan,   nan],\n",
       "       [0.07 , 0.25 , 0.01 , 0.06 , 0.015,   nan, 0.06 , 0.05 ,   nan],\n",
       "       [0.12 , 0.22 , 0.005,   nan, 0.009, 0.005,   nan, 0.05 , 0.03 ],\n",
       "       [0.12 , 0.23 , 0.01 ,   nan, 0.015,   nan,   nan,   nan, 0.05 ]])"
      ]
     },
     "execution_count": 7,
     "metadata": {},
     "output_type": "execute_result"
    }
   ],
   "source": [
    "consumption"
   ]
  },
  {
   "cell_type": "code",
   "execution_count": 8,
   "metadata": {},
   "outputs": [
    {
     "data": {
      "text/plain": [
       "array([  7.,  10., 184.,  19.,   7., 290., 105.,  83., 260.])"
      ]
     },
     "execution_count": 8,
     "metadata": {},
     "output_type": "execute_result"
    }
   ],
   "source": [
    "unit_price"
   ]
  },
  {
   "cell_type": "code",
   "execution_count": 9,
   "metadata": {},
   "outputs": [
    {
     "data": {
      "text/plain": [
       "array([21.48 , 16.525, 17.423, 18.085])"
      ]
     },
     "execution_count": 9,
     "metadata": {},
     "output_type": "execute_result"
    }
   ],
   "source": [
    "costs = np.nan_to_num(consumption *unit_price).sum(axis=1)\n",
    "costs"
   ]
  },
  {
   "cell_type": "markdown",
   "metadata": {},
   "source": [
    "2. Результаты расчетов 1.1 сохранить в отдельном столбце области \"Пшеничный хлеб\""
   ]
  },
  {
   "cell_type": "code",
   "execution_count": 10,
   "metadata": {},
   "outputs": [],
   "source": [
    "sheet.range('T7:T10').options(transpose = True).value = costs"
   ]
  },
  {
   "cell_type": "markdown",
   "metadata": {},
   "source": [
    "3. Приблизить форматирование столбца, добавленного в задаче 2 к оформлению всей области."
   ]
  },
  {
   "cell_type": "code",
   "execution_count": 11,
   "metadata": {},
   "outputs": [],
   "source": [
    "sheet.range('T6').value ='Себестоимость'\n",
    "sheet.range('T4:T6').api.Merge()"
   ]
  },
  {
   "cell_type": "markdown",
   "metadata": {},
   "source": [
    "4. Выполнить 3 с помощью \"протягиваемых\" формул."
   ]
  },
  {
   "cell_type": "code",
   "execution_count": 12,
   "metadata": {},
   "outputs": [],
   "source": [
    "from xlwings.constants import AutoFillType"
   ]
  },
  {
   "cell_type": "code",
   "execution_count": 13,
   "metadata": {},
   "outputs": [
    {
     "data": {
      "text/plain": [
       "True"
      ]
     },
     "execution_count": 13,
     "metadata": {},
     "output_type": "execute_result"
    }
   ],
   "source": [
    "sheet.range('U7').formula = '=SUMPRODUCT(G7:O7, $G$14:$O$14)'\n",
    "sheet.range('U7').api.AutoFill(sheet.range('U7:U10').api, AutoFillType.xlFillDefault)"
   ]
  },
  {
   "cell_type": "markdown",
   "metadata": {},
   "source": [
    "## Лабораторная работа 7"
   ]
  },
  {
   "cell_type": "markdown",
   "metadata": {},
   "source": [
    "1. Загрузите данные из файлов `reviews_sample.csv` (__ЛР2__) и `recipes_sample_with_tags_ingredients.csv` (__ЛР5__) в виде `pd.DataFrame`. Обратите внимание на корректное считывание столбца(ов) с индексами. Оставьте в таблице с рецептами следующие столбцы: `id`, `name`, `minutes`, `submitted`, `description`, `n_ingredients`"
   ]
  },
  {
   "cell_type": "code",
   "execution_count": 14,
   "metadata": {},
   "outputs": [
    {
     "data": {
      "text/html": [
       "<div>\n",
       "<style scoped>\n",
       "    .dataframe tbody tr th:only-of-type {\n",
       "        vertical-align: middle;\n",
       "    }\n",
       "\n",
       "    .dataframe tbody tr th {\n",
       "        vertical-align: top;\n",
       "    }\n",
       "\n",
       "    .dataframe thead th {\n",
       "        text-align: right;\n",
       "    }\n",
       "</style>\n",
       "<table border=\"1\" class=\"dataframe\">\n",
       "  <thead>\n",
       "    <tr style=\"text-align: right;\">\n",
       "      <th></th>\n",
       "      <th>name</th>\n",
       "      <th>minutes</th>\n",
       "      <th>submitted</th>\n",
       "      <th>description</th>\n",
       "      <th>n_ingredients</th>\n",
       "    </tr>\n",
       "    <tr>\n",
       "      <th>id</th>\n",
       "      <th></th>\n",
       "      <th></th>\n",
       "      <th></th>\n",
       "      <th></th>\n",
       "      <th></th>\n",
       "    </tr>\n",
       "  </thead>\n",
       "  <tbody>\n",
       "    <tr>\n",
       "      <th>44123</th>\n",
       "      <td>george s at the cove  black bean soup</td>\n",
       "      <td>90</td>\n",
       "      <td>2002-10-25</td>\n",
       "      <td>an original recipe created by chef scott meska...</td>\n",
       "      <td>18</td>\n",
       "    </tr>\n",
       "    <tr>\n",
       "      <th>67664</th>\n",
       "      <td>healthy for them  yogurt popsicles</td>\n",
       "      <td>10</td>\n",
       "      <td>2003-07-26</td>\n",
       "      <td>my children and their friends ask for my homem...</td>\n",
       "      <td>3</td>\n",
       "    </tr>\n",
       "    <tr>\n",
       "      <th>38798</th>\n",
       "      <td>i can t believe it s spinach</td>\n",
       "      <td>30</td>\n",
       "      <td>2002-08-29</td>\n",
       "      <td>these were so go, it surprised even me.</td>\n",
       "      <td>8</td>\n",
       "    </tr>\n",
       "    <tr>\n",
       "      <th>35173</th>\n",
       "      <td>italian  gut busters</td>\n",
       "      <td>45</td>\n",
       "      <td>2002-07-27</td>\n",
       "      <td>my sister-in-law made these for us at a family...</td>\n",
       "      <td>9</td>\n",
       "    </tr>\n",
       "    <tr>\n",
       "      <th>84797</th>\n",
       "      <td>love is in the air  beef fondue   sauces</td>\n",
       "      <td>25</td>\n",
       "      <td>2004-02-23</td>\n",
       "      <td>i think a fondue is a very romantic casual din...</td>\n",
       "      <td>12</td>\n",
       "    </tr>\n",
       "  </tbody>\n",
       "</table>\n",
       "</div>"
      ],
      "text/plain": [
       "                                           name  minutes  submitted  \\\n",
       "id                                                                    \n",
       "44123     george s at the cove  black bean soup       90 2002-10-25   \n",
       "67664        healthy for them  yogurt popsicles       10 2003-07-26   \n",
       "38798              i can t believe it s spinach       30 2002-08-29   \n",
       "35173                      italian  gut busters       45 2002-07-27   \n",
       "84797  love is in the air  beef fondue   sauces       25 2004-02-23   \n",
       "\n",
       "                                             description  n_ingredients  \n",
       "id                                                                       \n",
       "44123  an original recipe created by chef scott meska...             18  \n",
       "67664  my children and their friends ask for my homem...              3  \n",
       "38798            these were so go, it surprised even me.              8  \n",
       "35173  my sister-in-law made these for us at a family...              9  \n",
       "84797  i think a fondue is a very romantic casual din...             12  "
      ]
     },
     "execution_count": 14,
     "metadata": {},
     "output_type": "execute_result"
    }
   ],
   "source": [
    "recipes = pd.read_csv('recipes_sample_with_tags_ingredients.csv', usecols=['id', 'name', 'minutes', 'submitted', 'description', 'n_ingredients'], parse_dates=['submitted'], index_col=1)\n",
    "recipes.head()"
   ]
  },
  {
   "cell_type": "code",
   "execution_count": 15,
   "metadata": {},
   "outputs": [
    {
     "data": {
      "text/html": [
       "<div>\n",
       "<style scoped>\n",
       "    .dataframe tbody tr th:only-of-type {\n",
       "        vertical-align: middle;\n",
       "    }\n",
       "\n",
       "    .dataframe tbody tr th {\n",
       "        vertical-align: top;\n",
       "    }\n",
       "\n",
       "    .dataframe thead th {\n",
       "        text-align: right;\n",
       "    }\n",
       "</style>\n",
       "<table border=\"1\" class=\"dataframe\">\n",
       "  <thead>\n",
       "    <tr style=\"text-align: right;\">\n",
       "      <th></th>\n",
       "      <th>user_id</th>\n",
       "      <th>recipe_id</th>\n",
       "      <th>date</th>\n",
       "      <th>rating</th>\n",
       "      <th>review</th>\n",
       "    </tr>\n",
       "    <tr>\n",
       "      <th>id</th>\n",
       "      <th></th>\n",
       "      <th></th>\n",
       "      <th></th>\n",
       "      <th></th>\n",
       "      <th></th>\n",
       "    </tr>\n",
       "  </thead>\n",
       "  <tbody>\n",
       "    <tr>\n",
       "      <th>370476</th>\n",
       "      <td>21752</td>\n",
       "      <td>57993</td>\n",
       "      <td>2003-05-01</td>\n",
       "      <td>5</td>\n",
       "      <td>Last week whole sides of frozen salmon fillet ...</td>\n",
       "    </tr>\n",
       "    <tr>\n",
       "      <th>624300</th>\n",
       "      <td>431813</td>\n",
       "      <td>142201</td>\n",
       "      <td>2007-09-16</td>\n",
       "      <td>5</td>\n",
       "      <td>So simple and so tasty!  I used a yellow capsi...</td>\n",
       "    </tr>\n",
       "    <tr>\n",
       "      <th>187037</th>\n",
       "      <td>400708</td>\n",
       "      <td>252013</td>\n",
       "      <td>2008-01-10</td>\n",
       "      <td>4</td>\n",
       "      <td>Very nice breakfast HH, easy to make and yummy...</td>\n",
       "    </tr>\n",
       "    <tr>\n",
       "      <th>706134</th>\n",
       "      <td>2001852463</td>\n",
       "      <td>404716</td>\n",
       "      <td>2017-12-11</td>\n",
       "      <td>5</td>\n",
       "      <td>These are a favorite for the holidays and so e...</td>\n",
       "    </tr>\n",
       "    <tr>\n",
       "      <th>312179</th>\n",
       "      <td>95810</td>\n",
       "      <td>129396</td>\n",
       "      <td>2008-03-14</td>\n",
       "      <td>5</td>\n",
       "      <td>Excellent soup!  The tomato flavor is just gre...</td>\n",
       "    </tr>\n",
       "  </tbody>\n",
       "</table>\n",
       "</div>"
      ],
      "text/plain": [
       "           user_id  recipe_id       date  rating  \\\n",
       "id                                                 \n",
       "370476       21752      57993 2003-05-01       5   \n",
       "624300      431813     142201 2007-09-16       5   \n",
       "187037      400708     252013 2008-01-10       4   \n",
       "706134  2001852463     404716 2017-12-11       5   \n",
       "312179       95810     129396 2008-03-14       5   \n",
       "\n",
       "                                                   review  \n",
       "id                                                         \n",
       "370476  Last week whole sides of frozen salmon fillet ...  \n",
       "624300  So simple and so tasty!  I used a yellow capsi...  \n",
       "187037  Very nice breakfast HH, easy to make and yummy...  \n",
       "706134  These are a favorite for the holidays and so e...  \n",
       "312179  Excellent soup!  The tomato flavor is just gre...  "
      ]
     },
     "execution_count": 15,
     "metadata": {},
     "output_type": "execute_result"
    }
   ],
   "source": [
    "reviews = pd.read_csv('reviews_sample.csv', parse_dates=['date'])\n",
    "reviews.rename(columns={'Unnamed: 0': 'id'}, inplace=True)\n",
    "reviews.set_index('id', inplace=True)\n",
    "reviews.head()"
   ]
  },
  {
   "cell_type": "markdown",
   "metadata": {},
   "source": [
    "2. Случайным образом выберите 5% строк из каждой таблицы и сохраните две таблицы на разные листы в один файл `recipes.xlsx`. Дайте листам названия \"Рецепты\" и \"Отзывы\", соответствующие содержанию таблиц. "
   ]
  },
  {
   "cell_type": "code",
   "execution_count": 16,
   "metadata": {},
   "outputs": [],
   "source": [
    "wb = xw.Book('recipes.xlsx')"
   ]
  },
  {
   "cell_type": "code",
   "execution_count": 17,
   "metadata": {},
   "outputs": [],
   "source": [
    "#rec_sheet = wb.sheets.add(name=\"Рецепты\") #создание\n",
    "#rev_sheet = wb.sheets.add(name=\"Отзывы\") "
   ]
  },
  {
   "cell_type": "code",
   "execution_count": 18,
   "metadata": {},
   "outputs": [],
   "source": [
    "rec_sheet = wb.sheets['Рецепты']\n",
    "rev_sheet = wb.sheets['Отзывы']"
   ]
  },
  {
   "cell_type": "code",
   "execution_count": 19,
   "metadata": {},
   "outputs": [],
   "source": [
    "rec_sheet.range((1, 1)).value = recipes.sample(frac = 0.05)\n",
    "rev_sheet.range((1, 1)).value = reviews.sample(frac = 0.05)"
   ]
  },
  {
   "cell_type": "markdown",
   "metadata": {},
   "source": [
    "3. Используя `xlwings`, добавьте на лист `Рецепты` столбец `seconds_assign`, показывающий время выполнения рецепта в секундах. Выполните задание при помощи присваивания массива значений диапазону ячеек."
   ]
  },
  {
   "cell_type": "code",
   "execution_count": 20,
   "metadata": {},
   "outputs": [],
   "source": [
    "rec_len = rec_sheet.range((1, 1)).end('down').row\n",
    "rev_len = rev_sheet.range((1, 1)).end('down').row"
   ]
  },
  {
   "cell_type": "code",
   "execution_count": 21,
   "metadata": {},
   "outputs": [],
   "source": [
    "last_col = rec_sheet.range((1, 1)).end('right').column\n",
    "headers = rec_sheet.range((1, 1)).expand('right').value"
   ]
  },
  {
   "cell_type": "code",
   "execution_count": 22,
   "metadata": {},
   "outputs": [],
   "source": [
    "def find_col(headers, name):\n",
    "    for i in range(len(headers)):\n",
    "        if headers[i] == name:\n",
    "            return i + 1"
   ]
  },
  {
   "cell_type": "code",
   "execution_count": 23,
   "metadata": {},
   "outputs": [],
   "source": [
    "rec_sheet.range((1, last_col + 1)).value = 'seconds_assign'\n",
    "headers = rec_sheet.range((1, 1)).expand('right').value\n",
    "minutes_ind = find_col(headers, 'minutes')\n",
    "minutes = rec_sheet.range((2, minutes_ind), (rec_len, minutes_ind)).options(np.array).value\n",
    "rec_sheet.range((2, last_col + 1), (rec_len, last_col + 1)).options(transpose = True).value = minutes*60"
   ]
  },
  {
   "cell_type": "markdown",
   "metadata": {},
   "source": [
    "4. Используя `xlwings`, добавьте на лист `Рецепты` столбец `seconds_formula`, показывающий время выполнения рецепта в секундах. Выполните задание при помощи формул Excel."
   ]
  },
  {
   "cell_type": "code",
   "execution_count": 24,
   "metadata": {},
   "outputs": [
    {
     "data": {
      "text/plain": [
       "True"
      ]
     },
     "execution_count": 24,
     "metadata": {},
     "output_type": "execute_result"
    }
   ],
   "source": [
    "last_col = rec_sheet.range((1, 1)).end('right').column\n",
    "rec_sheet.range((1, last_col + 1)).value = 'seconds_formula'\n",
    "headers = rec_sheet.range((1, 1)).expand('right').value\n",
    "rec_sheet.range((2, last_col + 1)).formula = '=C2*60'\n",
    "rec_sheet.range((2, last_col + 1)).api.AutoFill(rec_sheet.range((2, last_col + 1), (rec_len, last_col + 1)).api, AutoFillType.xlFillDefault)"
   ]
  },
  {
   "cell_type": "markdown",
   "metadata": {},
   "source": [
    "5. Добавьте на лист `Рецепты`  столбец `n_reviews`, содержащий кол-во отзывов для этого рецепта. Выполните задание при помощи формул Excel."
   ]
  },
  {
   "cell_type": "code",
   "execution_count": 25,
   "metadata": {},
   "outputs": [],
   "source": [
    "last_col = rec_sheet.range((1, 1)).end('right').column\n",
    "rec_sheet.range((1, last_col + 1)).value = 'n_reviews'\n",
    "headers = rec_sheet.range((1, 1)).expand('right').value"
   ]
  },
  {
   "cell_type": "code",
   "execution_count": 26,
   "metadata": {},
   "outputs": [
    {
     "data": {
      "text/plain": [
       "True"
      ]
     },
     "execution_count": 26,
     "metadata": {},
     "output_type": "execute_result"
    }
   ],
   "source": [
    "rec_sheet.range((2, last_col + 1)).formula = '=COUNTIF(Отзывы!$C$2:$C$6336,A2)'\n",
    "rec_sheet.range((2, last_col + 1)).api.AutoFill(rec_sheet.range((2, last_col + 1), (rec_len, last_col + 1)).api, AutoFillType.xlFillDefault)"
   ]
  },
  {
   "cell_type": "markdown",
   "metadata": {},
   "source": [
    "6. Сделайте названия всех добавленных столбцов полужирными и выровняйте по центру ячейки."
   ]
  },
  {
   "cell_type": "code",
   "execution_count": 27,
   "metadata": {},
   "outputs": [],
   "source": [
    "from xlwings.constants import HAlign"
   ]
  },
  {
   "cell_type": "code",
   "execution_count": 28,
   "metadata": {},
   "outputs": [],
   "source": [
    "rec_sheet.range('G1').expand('right').api.Font.Bold = True\n",
    "rec_sheet.range('G1').expand('right').api.HorizontalAlignment = HAlign.xlHAlignCenter"
   ]
  },
  {
   "cell_type": "markdown",
   "metadata": {},
   "source": [
    "7. Раскрасьте ячейки столбца `minutes` в соответствии со следующим правилом: если рецепт выполняется быстрее 5 минут, то цвет - зеленый; от 5 до 10 минут - жёлтый; и больше 10 - красный."
   ]
  },
  {
   "cell_type": "code",
   "execution_count": 29,
   "metadata": {},
   "outputs": [
    {
     "data": {
      "text/html": [
       "<div>\n",
       "<style scoped>\n",
       "    .dataframe tbody tr th:only-of-type {\n",
       "        vertical-align: middle;\n",
       "    }\n",
       "\n",
       "    .dataframe tbody tr th {\n",
       "        vertical-align: top;\n",
       "    }\n",
       "\n",
       "    .dataframe thead th {\n",
       "        text-align: right;\n",
       "    }\n",
       "</style>\n",
       "<table border=\"1\" class=\"dataframe\">\n",
       "  <thead>\n",
       "    <tr style=\"text-align: right;\">\n",
       "      <th></th>\n",
       "      <th>minutes</th>\n",
       "      <th>color</th>\n",
       "    </tr>\n",
       "  </thead>\n",
       "  <tbody>\n",
       "    <tr>\n",
       "      <th>0</th>\n",
       "      <td>70.0</td>\n",
       "      <td>(255, 0, 0)</td>\n",
       "    </tr>\n",
       "    <tr>\n",
       "      <th>1</th>\n",
       "      <td>290.0</td>\n",
       "      <td>(255, 0, 0)</td>\n",
       "    </tr>\n",
       "    <tr>\n",
       "      <th>2</th>\n",
       "      <td>6.0</td>\n",
       "      <td>(255, 0, 0)</td>\n",
       "    </tr>\n",
       "    <tr>\n",
       "      <th>3</th>\n",
       "      <td>25.0</td>\n",
       "      <td>(255, 0, 0)</td>\n",
       "    </tr>\n",
       "    <tr>\n",
       "      <th>4</th>\n",
       "      <td>330.0</td>\n",
       "      <td>(255, 0, 0)</td>\n",
       "    </tr>\n",
       "  </tbody>\n",
       "</table>\n",
       "</div>"
      ],
      "text/plain": [
       "   minutes        color\n",
       "0     70.0  (255, 0, 0)\n",
       "1    290.0  (255, 0, 0)\n",
       "2      6.0  (255, 0, 0)\n",
       "3     25.0  (255, 0, 0)\n",
       "4    330.0  (255, 0, 0)"
      ]
     },
     "execution_count": 29,
     "metadata": {},
     "output_type": "execute_result"
    }
   ],
   "source": [
    "minutes_ind = find_col(headers, 'minutes')\n",
    "df = rec_sheet.range((1, minutes_ind), (rec_len, minutes_ind)).options(pd.DataFrame).value\n",
    "df.reset_index(level=0, inplace=True)\n",
    "df['color'] = \"(255, 255, 0)\"\n",
    "df.loc[df['minutes'] < 5,'color'] = \"(0, 255, 0)\"\n",
    "df.loc[df['minutes'] > 5,'color'] = \"(255, 0, 0)\"\n",
    "df.head()"
   ]
  },
  {
   "cell_type": "code",
   "execution_count": 30,
   "metadata": {},
   "outputs": [],
   "source": [
    "for i in range(2, rec_len + 1):\n",
    "    rec_sheet.range((i, minutes_ind)).color = eval(df['color'][i - 2])"
   ]
  },
  {
   "cell_type": "markdown",
   "metadata": {},
   "source": [
    "8. Напишите функцию `validate()`, которая проверяет соответствие всех строк из листа `Отзывы` следующим правилам:\n",
    "    * Рейтинг - это число от 0 до 5 включительно\n",
    "    * Соответствующий рецепт имеется на листе `Рецепты`\n",
    "    \n",
    "В случае несоответствия этим правилам, выделите строку красным цветом"
   ]
  },
  {
   "cell_type": "code",
   "execution_count": 31,
   "metadata": {},
   "outputs": [],
   "source": [
    "def validate():\n",
    "    rev_headers = rev_sheet.range((1, 1)).expand('right').value\n",
    "    rating_ind = find_col(rev_headers, 'rating')\n",
    "    rec_id_ind = find_col(rev_headers, 'recipe_id')\n",
    "    df = rev_sheet.range((1, rec_id_ind), (rev_len, rating_ind)).options(pd.DataFrame).value\n",
    "    df.reset_index(level=0, inplace=True)\n",
    "    df.drop('date', axis=1, inplace=True)\n",
    "    rec_ids = rev_sheet.range((2, find_col(headers, 'id')), (rec_len, find_col(headers, 'id'))).options(np.array).value\n",
    "    df['status'] = (df['rating'] >= 0) & (df['rating'] <= 5) & (df['recipe_id'].apply(lambda x: x in rec_ids))\n",
    "    for i in range(2, rev_len + 1):\n",
    "        if (not df['status'][i - 2]):\n",
    "            rev_sheet.range((i, 1)).expand(\"right\").color = (255, 139, 139)"
   ]
  },
  {
   "cell_type": "code",
   "execution_count": 32,
   "metadata": {},
   "outputs": [],
   "source": [
    "validate()"
   ]
  }
 ],
 "metadata": {
  "interpreter": {
   "hash": "b3ba2566441a7c06988d0923437866b63cedc61552a5af99d1f4fb67d367b25f"
  },
  "kernelspec": {
   "display_name": "Python 3.7.3 64-bit ('base': conda)",
   "name": "python3"
  },
  "language_info": {
   "codemirror_mode": {
    "name": "ipython",
    "version": 3
   },
   "file_extension": ".py",
   "mimetype": "text/x-python",
   "name": "python",
   "nbconvert_exporter": "python",
   "pygments_lexer": "ipython3",
   "version": "3.7.3"
  }
 },
 "nbformat": 4,
 "nbformat_minor": 4
}
