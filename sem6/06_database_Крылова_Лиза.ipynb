{
 "cells": [
  {
   "cell_type": "markdown",
   "metadata": {},
   "source": [
    "# Работа с базами данных"
   ]
  },
  {
   "cell_type": "markdown",
   "metadata": {},
   "source": [
    "Материалы:\n",
    "* Макрушин С.В. Лекция 6: Работа с базами данных\n",
    "* https://sqliteonline.com/\n",
    "* https://docs.python.org/3/library/sqlite3.html\n",
    "* https://www.geeksforgeeks.org/sql-join-set-1-inner-left-right-and-full-joins/\n",
    "* https://www.datacamp.com/community/tutorials/group-by-having-clause-sql"
   ]
  },
  {
   "cell_type": "markdown",
   "metadata": {},
   "source": [
    "## Задачи для совместного разбора"
   ]
  },
  {
   "cell_type": "code",
   "execution_count": 25,
   "metadata": {},
   "outputs": [],
   "source": [
    "import  sqlite3\n",
    "import csv"
   ]
  },
  {
   "cell_type": "markdown",
   "metadata": {},
   "source": [
    "1. Работая с базой данных `Chinook_Sqlite.sqlite`, найдите и выведите на экран имена и фамилии всех заказчиков из Канады"
   ]
  },
  {
   "cell_type": "code",
   "execution_count": 4,
   "metadata": {},
   "outputs": [
    {
     "name": "stdout",
     "output_type": "stream",
     "text": [
      "[('Andrew', 'Adams'), ('Nancy', 'Edwards'), ('Jane', 'Peacock'), ('Margaret', 'Park'), ('Steve', 'Johnson')]\n"
     ]
    }
   ],
   "source": [
    "con = sqlite3.connect(\"Chinook_Sqlite.sqlite\")\n",
    "cur = con.cursor()\n",
    "\n",
    "cur.execute(\"\"\"\n",
    "SELECT firstname, lastname\n",
    "FROM Employee\n",
    "WHERE country=?\n",
    "\"\"\", (\"Canada\",))\n",
    "\n",
    "print(cur.fetchmany(5))\n",
    "cur.close()\n",
    "con.close()"
   ]
  },
  {
   "cell_type": "markdown",
   "metadata": {},
   "source": [
    "2. Найти и вывести на экран названия всех альбомов группы Accept"
   ]
  },
  {
   "cell_type": "code",
   "execution_count": 7,
   "metadata": {},
   "outputs": [
    {
     "name": "stdout",
     "output_type": "stream",
     "text": [
      "[('Balls to the Wall',), ('Restless and Wild',)]\n"
     ]
    }
   ],
   "source": [
    "con = sqlite3.connect(\"Chinook_Sqlite.sqlite\")\n",
    "cur = con.cursor()\n",
    "\n",
    "cur.execute(\"\"\"\n",
    "SELECT title\n",
    "FROM Album\n",
    "WHERE artistid in (SELECT ArtistId from Artist WHERE name=\"Accept\");\n",
    "\"\"\")\n",
    "\n",
    "print(cur.fetchmany(5))\n",
    "cur.close()\n",
    "con.close()"
   ]
  },
  {
   "cell_type": "markdown",
   "metadata": {},
   "source": [
    "3. Создайте базу данных с названием вашей группы. В этой базе данных создайте таблицу Student, содержащую 2 столбца: id и name. Добавьте в таблицу Student информацию о студентах, сидящих с вами по соседству."
   ]
  },
  {
   "cell_type": "code",
   "execution_count": 8,
   "metadata": {},
   "outputs": [
    {
     "ename": "OperationalError",
     "evalue": "table Student already exists",
     "output_type": "error",
     "traceback": [
      "\u001b[1;31m---------------------------------------------------------------------------\u001b[0m",
      "\u001b[1;31mOperationalError\u001b[0m                          Traceback (most recent call last)",
      "\u001b[1;32m<ipython-input-8-a889ac9a9a26>\u001b[0m in \u001b[0;36m<module>\u001b[1;34m\u001b[0m\n\u001b[0;32m      1\u001b[0m \u001b[0mcon\u001b[0m \u001b[1;33m=\u001b[0m \u001b[0msqlite3\u001b[0m\u001b[1;33m.\u001b[0m\u001b[0mconnect\u001b[0m\u001b[1;33m(\u001b[0m\u001b[1;34m\"PI19-2.sqlite\"\u001b[0m\u001b[1;33m)\u001b[0m\u001b[1;33m\u001b[0m\u001b[1;33m\u001b[0m\u001b[0m\n\u001b[0;32m      2\u001b[0m \u001b[0mcur\u001b[0m \u001b[1;33m=\u001b[0m \u001b[0mcon\u001b[0m\u001b[1;33m.\u001b[0m\u001b[0mcursor\u001b[0m\u001b[1;33m(\u001b[0m\u001b[1;33m)\u001b[0m\u001b[1;33m\u001b[0m\u001b[1;33m\u001b[0m\u001b[0m\n\u001b[1;32m----> 3\u001b[1;33m cur.execute(\"\"\"\n\u001b[0m\u001b[0;32m      4\u001b[0m \u001b[0mCREATE\u001b[0m \u001b[0mTABLE\u001b[0m \u001b[0mStudent\u001b[0m\u001b[1;33m(\u001b[0m\u001b[0mid\u001b[0m \u001b[0mINTEGER\u001b[0m\u001b[1;33m,\u001b[0m \u001b[0mname\u001b[0m \u001b[0mVARCHAR\u001b[0m\u001b[1;33m(\u001b[0m\u001b[1;36m50\u001b[0m\u001b[1;33m)\u001b[0m\u001b[1;33m)\u001b[0m\u001b[1;33m\u001b[0m\u001b[1;33m\u001b[0m\u001b[0m\n\u001b[0;32m      5\u001b[0m \"\"\")\n",
      "\u001b[1;31mOperationalError\u001b[0m: table Student already exists"
     ]
    }
   ],
   "source": [
    "con = sqlite3.connect(\"PI19-2.sqlite\")\n",
    "cur = con.cursor()\n",
    "cur.execute(\"\"\"\n",
    "CREATE TABLE Student(id INTEGER, name VARCHAR(50))\n",
    "\"\"\")\n",
    "cur.execute(\"\"\"\n",
    "INSERT INTO Student(id, name) VALUES (1, \"Liza\")\n",
    "\"\"\")\n",
    "cur.execute(\"\"\"\n",
    "INSERT INTO Student(id, name) VALUES (2, \"Alisa\")\n",
    "\"\"\")\n",
    "cur.execute(\"\"\"\n",
    "INSERT INTO Student(id, name) VALUES (3, \"Seva\")\n",
    "\"\"\")\n",
    "con.commit()\n",
    "print(cur.fetchmany(5))\n",
    "cur.close()\n",
    "con.close()"
   ]
  },
  {
   "cell_type": "markdown",
   "metadata": {},
   "source": [
    "## Лабораторная работа 6"
   ]
  },
  {
   "cell_type": "markdown",
   "metadata": {},
   "source": [
    "1. Создайте файл базы данных c названием `recipes.db`. Создайте объект-курсор. "
   ]
  },
  {
   "cell_type": "code",
   "execution_count": 47,
   "metadata": {},
   "outputs": [],
   "source": [
    "con = sqlite3.connect(\"recipes.db\")\n",
    "cur = con.cursor()"
   ]
  },
  {
   "cell_type": "markdown",
   "metadata": {},
   "source": [
    "2. Напишите и выполните SQL-запрос для создания таблицы рецептов `Recipe`. Таблица должна содержать следующие поля:\n",
    "`id`, `name`, `minutes`, `submitted`, `description`, `n_ingredients`. Определитесь с типами и составом ключевых полей."
   ]
  },
  {
   "cell_type": "code",
   "execution_count": 48,
   "metadata": {},
   "outputs": [],
   "source": [
    "cur.execute(\"\"\"\n",
    "CREATE TABLE Recipe(id INTEGER, name VARCHAR(50), minutes INTEGER,\n",
    "     submitted DATE, description VARCHAR(350), n_ingredients INTEGER)\n",
    "\"\"\")\n",
    "con.commit()"
   ]
  },
  {
   "cell_type": "markdown",
   "metadata": {},
   "source": [
    "3. Напишите и выполните SQL-запрос для создания таблицы отзывов `Review`. Таблица должна содержать следующие поля:\n",
    "`id`, `user_id`, `recipe_id`, `date`, `rating`, `review`. Определитесь с типами полей, набором ключевых полей. При помощи внешнего ключа соедините две таблицы."
   ]
  },
  {
   "cell_type": "code",
   "execution_count": 49,
   "metadata": {},
   "outputs": [],
   "source": [
    "cur.execute(\"\"\"\n",
    "CREATE TABLE Review(id INTEGER, user_id INTEGER, recipe_id INTEGER,\n",
    "     date DATE, rating INTEGER, review VARCHAR(350),\n",
    "     FOREIGN KEY (recipe_id) REFERENCES Recipe (id))\n",
    "\"\"\")\n",
    "con.commit()"
   ]
  },
  {
   "cell_type": "markdown",
   "metadata": {},
   "source": [
    "4. Загрузите данные из файлов `reviews_sample.csv` (__ЛР2__) и `recipes_sample_with_tags_ingredients.csv` (__ЛР5__) в созданные таблицы"
   ]
  },
  {
   "cell_type": "code",
   "execution_count": 51,
   "metadata": {},
   "outputs": [],
   "source": [
    "with open('reviews_sample.csv','r', encoding='utf-8') as f: \n",
    "    revs = csv.DictReader(f)\n",
    "    next(revs)\n",
    "    for row in revs:\n",
    "        cur.execute(\"\"\"INSERT INTO Review (id,user_id,recipe_id,date,rating,review) \n",
    "        VALUES (?, ?, ?, ?, ?, ?);\"\"\", (row[''], row['user_id'], row['recipe_id'], row['date'],\n",
    "         row['rating'], row['review']))\n",
    "con.commit()"
   ]
  },
  {
   "cell_type": "code",
   "execution_count": 52,
   "metadata": {},
   "outputs": [],
   "source": [
    "with open('recipes_sample_with_tags_ingredients.csv','r', encoding='utf-8') as f: \n",
    "    revs = csv.DictReader(f)\n",
    "    next(revs)\n",
    "    for row in revs:\n",
    "        cur.execute(\"\"\"INSERT INTO Recipe (id,name,minutes,submitted,description,n_ingredients)\n",
    "         VALUES (?, ?, ?, ?, ?, ?);\"\"\", (row['id'], row['name'], row['minutes'], row['submitted'],\n",
    "         row['description'], row['n_ingredients']))\n",
    "con.commit()"
   ]
  },
  {
   "cell_type": "markdown",
   "metadata": {},
   "source": [
    "5. Найдите все рецепты, для выполнения которых нужно ровно 10 ингредиентов. Выведите на экран первые 5 из найденных рецептов."
   ]
  },
  {
   "cell_type": "code",
   "execution_count": 53,
   "metadata": {},
   "outputs": [
    {
     "name": "stdout",
     "output_type": "stream",
     "text": [
      "[(503475, 'blepandekager   danish   apple pancakes', 50, '2013-07-08', \"this recipe has been posted here for play in zwt9 - scandinavia.  this recipe was found at website: mindspring.com - christian's danish recipes.\", 10), (125195, 'kelly s creamy cheddar pea salad', 20, '2005-06-09', \"i'm not a big fan of peas, but like them in things. this salad is one of my favorites. happy to share!\", 10), (120297, 'middle eastern   twice baked potatoes', 110, '2005-05-02', 'a delicious yet low-fat twice-baked potato side dish with a blend of classic middle eastern flavours: chickpeas, cumin and coriander.  serve with roasts or with your favourite middle eastern main course dish.  adapted from \"practical cookery: low fat\".  these potatoes could also be served on their own as a light vegetarian meal. in view of the comments by reviewers about the potatoes being a bit dry, i have added a tablespoon of tahini. i have also added some garlic. i\\'m not sure how the recipe escaped having garlic in it when i first posted it!', 10), (342620, 'secret ingredient  bbq meatloaf', 75, '2008-12-09', 'i know what you might be thinking,\\'ho hum, another meatloaf recipe \" .well your right, but i think the secret ingredient sets this recipe apart from any other meatloaf in the \"zaar\"data base.please feel free to adjust any of the seasonings or veggies to suit your own personal tastes. submitted to \"zaar\" on december 9th,2008.', 10), (63346, 'don t knock it until you try it  beet cake', 65, '2003-05-28', \"yes, this cake is made with beets! and you won't believe how great it is. i got the recipe from a friend who said it is the most requested cake in her family. even the kids want it for their birthday cake. i baked it for one of our family gatherings and now, i get lots of requests for it too. the batter looks red, but the red bakes out. i use an almond flavored frosting on it sometimes. other times i just serve it with homemade whipped cream.\", 10)]\n"
     ]
    }
   ],
   "source": [
    "cur.execute(\"\"\"\n",
    "SELECT * \n",
    "FROM Recipe\n",
    "WHERE n_ingredients = 10;\n",
    "\"\"\")\n",
    "\n",
    "print(cur.fetchmany(5))"
   ]
  },
  {
   "cell_type": "markdown",
   "metadata": {},
   "source": [
    "6. Найдите название рецепта, для выполнения которого требуется больше всего времени."
   ]
  },
  {
   "cell_type": "code",
   "execution_count": 58,
   "metadata": {},
   "outputs": [
    {
     "name": "stdout",
     "output_type": "stream",
     "text": [
      "[('blueberry liqueur',), ('strawberry liqueur',)]\n"
     ]
    }
   ],
   "source": [
    "cur.execute(\"\"\"\n",
    "SELECT name\n",
    "FROM Recipe\n",
    "WHERE minutes = (SELECT max(minutes) FROM Recipe);\n",
    "\"\"\")\n",
    "\n",
    "print(cur.fetchall())"
   ]
  },
  {
   "cell_type": "markdown",
   "metadata": {},
   "source": [
    "7. Запросите у пользователя id рецепта и верните информацию об этом рецепте. Если рецепт отсуствует, выведите соответствующее сообщение."
   ]
  },
  {
   "cell_type": "code",
   "execution_count": 92,
   "metadata": {},
   "outputs": [
    {
     "name": "stdout",
     "output_type": "stream",
     "text": [
      "Данных нет\n"
     ]
    }
   ],
   "source": [
    "p = input()\n",
    "cur.execute(\"\"\"\n",
    "    SELECT *\n",
    "    FROM Recipe\n",
    "    WHERE id = ?;\n",
    "    \"\"\", (p,))\n",
    "con.commit() \n",
    "ls = cur.fetchall()\n",
    "if len(ls) == 0:\n",
    "    print(\"Данных нет\") \n",
    "else: \n",
    "    print(ls)\n"
   ]
  },
  {
   "cell_type": "markdown",
   "metadata": {},
   "source": [
    "236281"
   ]
  },
  {
   "cell_type": "markdown",
   "metadata": {},
   "source": [
    "8. Найдите кол-во отзывов с рейтингом 5."
   ]
  },
  {
   "cell_type": "code",
   "execution_count": 94,
   "metadata": {},
   "outputs": [
    {
     "name": "stdout",
     "output_type": "stream",
     "text": [
      "(91360,)\n"
     ]
    }
   ],
   "source": [
    "cur.execute(\"\"\"\n",
    "SELECT count(id)\n",
    "FROM Review \n",
    "WHERE rating = 5;\n",
    "\"\"\")\n",
    "\n",
    "print(cur.fetchall()[0])"
   ]
  },
  {
   "cell_type": "markdown",
   "metadata": {},
   "source": [
    "9. Найдите кол-во уникальных рецептов, не имеющих отзывов с рейтингом, меньше 4. "
   ]
  },
  {
   "cell_type": "code",
   "execution_count": 95,
   "metadata": {},
   "outputs": [
    {
     "name": "stdout",
     "output_type": "stream",
     "text": [
      "(112226,)\n"
     ]
    }
   ],
   "source": [
    "cur.execute(\"\"\"\n",
    "SELECT count(DISTINCT id)\n",
    "FROM Review \n",
    "WHERE rating >= 4;\n",
    "\"\"\")\n",
    "\n",
    "print(cur.fetchall()[0])"
   ]
  },
  {
   "cell_type": "markdown",
   "metadata": {},
   "source": [
    "10. Найдите кол-во рецептов, опубликованных в 2010 году и имеющих длину не менее 15 минут."
   ]
  },
  {
   "cell_type": "code",
   "execution_count": 96,
   "metadata": {},
   "outputs": [
    {
     "name": "stdout",
     "output_type": "stream",
     "text": [
      "(1319,)\n"
     ]
    }
   ],
   "source": [
    "cur.execute(\"\"\"\n",
    "SELECT count(id)\n",
    "FROM Recipe\n",
    "WHERE submitted >= '2010-01-01' and submitted <= '2010-12-31'\n",
    "AND minutes >=15;\n",
    "\"\"\")\n",
    "\n",
    "print(cur.fetchall()[0])"
   ]
  },
  {
   "cell_type": "markdown",
   "metadata": {},
   "source": [
    "11. Выберите id рецепта, название рецепта, id пользователя, оставившего отзыв, дату отзыва и рейтинг для тех рецептов, которые имеют не менее 3 ингредиентов. Отсортируйте результат по id рецепта."
   ]
  },
  {
   "cell_type": "code",
   "execution_count": 99,
   "metadata": {},
   "outputs": [
    {
     "name": "stdout",
     "output_type": "stream",
     "text": [
      "[(48, 'boston cream pie', 32421, '2002-03-15', 0), (48, 'boston cream pie', 68674, '2004-05-03', 2), (55, 'betty crocker s southwestern guacamole dip', 53959, '2006-01-12', 4), (55, 'betty crocker s southwestern guacamole dip', 165567, '2006-03-31', 5), (55, 'betty crocker s southwestern guacamole dip', 851190, '2010-05-23', 5)]\n"
     ]
    }
   ],
   "source": [
    "cur.execute(\"\"\"\n",
    "SELECT r.id, r.name, v.user_id, v.date, v.rating\n",
    "FROM Recipe r JOIN Review v\n",
    "ON r.id = v.recipe_id\n",
    "WHERE r.n_ingredients >= 3\n",
    "ORDER BY r.id;\n",
    "\"\"\")\n",
    "\n",
    "print(cur.fetchmany(5))"
   ]
  },
  {
   "cell_type": "code",
   "execution_count": 46,
   "metadata": {},
   "outputs": [],
   "source": [
    "cur.close()\n",
    "con.close()"
   ]
  }
 ],
 "metadata": {
  "interpreter": {
   "hash": "b3ba2566441a7c06988d0923437866b63cedc61552a5af99d1f4fb67d367b25f"
  },
  "kernelspec": {
   "display_name": "Python 3.8.8 64-bit ('base': conda)",
   "name": "python3"
  },
  "language_info": {
   "codemirror_mode": {
    "name": "ipython",
    "version": 3
   },
   "file_extension": ".py",
   "mimetype": "text/x-python",
   "name": "python",
   "nbconvert_exporter": "python",
   "pygments_lexer": "ipython3",
   "version": "3.8.8"
  }
 },
 "nbformat": 4,
 "nbformat_minor": 4
}
